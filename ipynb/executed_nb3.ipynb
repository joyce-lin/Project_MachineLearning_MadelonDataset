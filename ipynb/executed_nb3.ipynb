{
 "cells": [
  {
   "cell_type": "code",
   "execution_count": 1,
   "metadata": {
    "collapsed": true
   },
   "outputs": [],
   "source": [
    "from os import chdir\n",
    "chdir('../')\n",
    "%matplotlib inline\n",
    "from lib import *\n",
    "\n",
    "pd.options.display.precision = 4\n",
    "import matplotlib as mpl\n",
    "mpl.rcParams['font.family'] = 'Lato'\n",
    "mpl.rcParams['font.weight'] = 700\n",
    "sns.set(font='Lato', font_scale=1)\n",
    "sns.set()\n",
    "np.random.seed(42)\n",
    "suppress_warnings()"
   ]
  },
  {
   "cell_type": "code",
   "execution_count": 2,
   "metadata": {
    "collapsed": true,
    "scrolled": true
   },
   "outputs": [],
   "source": [
    "feature = pd.read_pickle('/home/jovyan/work/DSI/projects/project_3/data/feature')\n",
    "target= pd.read_pickle('/home/jovyan/work/DSI/projects/project_3/data/target')"
   ]
  },
  {
   "cell_type": "code",
   "execution_count": 3,
   "metadata": {},
   "outputs": [
    {
     "data": {
      "text/plain": [
       "(10768, 1000)"
      ]
     },
     "metadata": {},
     "output_type": "display_data"
    },
    {
     "data": {
      "text/plain": [
       "(10768, 1)"
      ]
     },
     "metadata": {},
     "output_type": "display_data"
    }
   ],
   "source": [
    "display(feature.shape)\n",
    "display(target.shape)"
   ]
  },
  {
   "cell_type": "code",
   "execution_count": 4,
   "metadata": {
    "collapsed": true
   },
   "outputs": [],
   "source": [
    "from sklearn.preprocessing import StandardScaler\n",
    "from sklearn.model_selection import train_test_split, GridSearchCV, ShuffleSplit\n",
    "from sklearn.feature_selection import SelectKBest, SelectPercentile, f_classif\n",
    "from sklearn import svm\n",
    "from sklearn.tree import DecisionTreeClassifier, DecisionTreeRegressor\n",
    "from sklearn.decomposition import PCA\n",
    "from sklearn.linear_model import Lasso, LogisticRegression,LinearRegression\n",
    "from sklearn.pipeline import Pipeline"
   ]
  },
  {
   "cell_type": "markdown",
   "metadata": {},
   "source": [
    "# Step 2 Identify Features"
   ]
  },
  {
   "cell_type": "code",
   "execution_count": 5,
   "metadata": {
    "collapsed": true
   },
   "outputs": [],
   "source": [
    "from sklearn.feature_selection import SelectKBest, \\\n",
    "                                      SelectFromModel, \\\n",
    "                                      RFE, SelectPercentile, \\\n",
    "                                      SelectFdr, SelectFpr\n",
    "from sklearn.feature_selection import f_regression, f_classif\n",
    "from sklearn.neighbors import KNeighborsClassifier"
   ]
  },
  {
   "cell_type": "markdown",
   "metadata": {},
   "source": [
    "### Pipeline 2: SKB, PCA, SFM, LR"
   ]
  },
  {
   "cell_type": "code",
   "execution_count": 6,
   "metadata": {
    "collapsed": true
   },
   "outputs": [],
   "source": [
    "pipe_for_gs = Pipeline([\n",
    "    ('skb', SelectKBest(score_func=f_classif)),\n",
    "    ('pca',PCA(random_state=42)),\n",
    "    ('sfm', SelectFromModel(LogisticRegression())),\n",
    "    ('lr', LogisticRegression(C=1E10,n_jobs=-1,random_state=42))\n",
    "])"
   ]
  },
  {
   "cell_type": "code",
   "execution_count": 7,
   "metadata": {
    "collapsed": true
   },
   "outputs": [],
   "source": [
    "params = {    \n",
    "    'skb__k':[250,500],\n",
    "    'pca__n_components':[50,100,150],\n",
    "    'sfm__estimator':[LogisticRegression(C=0.1,penalty='l1',random_state=42),\n",
    "                      LogisticRegression(C=1,penalty='l1',random_state=42),\n",
    "                      LogisticRegression(C=10,penalty='l1',random_state=42),\n",
    "                      LogisticRegression(C=1e2,penalty='l1',random_state=42),\n",
    "                      LogisticRegression(C=1e3,penalty='l1',random_state=42),\n",
    "                      LogisticRegression(C=1e4,penalty='l1',random_state=42)]\n",
    "}"
   ]
  },
  {
   "cell_type": "code",
   "execution_count": 8,
   "metadata": {
    "collapsed": true
   },
   "outputs": [],
   "source": [
    "gspipe = GridSearchCV(pipe_for_gs,\n",
    "                      param_grid=params,\n",
    "                      n_jobs=-1,\n",
    "                      cv=ShuffleSplit(random_state=42))"
   ]
  },
  {
   "cell_type": "code",
   "execution_count": 9,
   "metadata": {},
   "outputs": [
    {
     "data": {
      "text/plain": [
       "GridSearchCV(cv=ShuffleSplit(n_splits=10, random_state=42, test_size=0.1, train_size=None),\n",
       "       error_score='raise',\n",
       "       estimator=Pipeline(steps=[('skb', SelectKBest(k=10, score_func=<function f_classif at 0x7f8bd315e6a8>)), ('pca', PCA(copy=True, iterated_power='auto', n_components=None, random_state=42,\n",
       "  svd_solver='auto', tol=0.0, whiten=False)), ('sfm', SelectFromModel(estimator=LogisticRegression(C=1.0, class_weight=None, dual=Fa...alty='l2', random_state=42,\n",
       "          solver='liblinear', tol=0.0001, verbose=0, warm_start=False))]),\n",
       "       fit_params={}, iid=True, n_jobs=-1,\n",
       "       param_grid={'pca__n_components': [50, 100, 150], 'sfm__estimator': [LogisticRegression(C=0.1, class_weight=None, dual=False, fit_intercept=True,\n",
       "          intercept_scaling=1, max_iter=100, multi_class='ovr', n_jobs=1,\n",
       "          penalty='l1', random_state=42, solver='liblinear', tol=0.0001,\n",
       "        ...e=42,\n",
       "          solver='liblinear', tol=0.0001, verbose=0, warm_start=False)], 'skb__k': [250, 500]},\n",
       "       pre_dispatch='2*n_jobs', refit=True, return_train_score=True,\n",
       "       scoring=None, verbose=0)"
      ]
     },
     "execution_count": 9,
     "metadata": {},
     "output_type": "execute_result"
    }
   ],
   "source": [
    "gspipe.fit(feature[:220], np.ravel(target[:220].values))"
   ]
  },
  {
   "cell_type": "code",
   "execution_count": 10,
   "metadata": {},
   "outputs": [
    {
     "data": {
      "text/plain": [
       "0.50454545454545452"
      ]
     },
     "execution_count": 10,
     "metadata": {},
     "output_type": "execute_result"
    }
   ],
   "source": [
    "gspipe.best_score_"
   ]
  },
  {
   "cell_type": "code",
   "execution_count": 11,
   "metadata": {},
   "outputs": [
    {
     "data": {
      "text/plain": [
       "{'lr': LogisticRegression(C=10000000000.0, class_weight=None, dual=False,\n",
       "           fit_intercept=True, intercept_scaling=1, max_iter=100,\n",
       "           multi_class='ovr', n_jobs=-1, penalty='l2', random_state=42,\n",
       "           solver='liblinear', tol=0.0001, verbose=0, warm_start=False),\n",
       " 'pca': PCA(copy=True, iterated_power='auto', n_components=50, random_state=42,\n",
       "   svd_solver='auto', tol=0.0, whiten=False),\n",
       " 'sfm': SelectFromModel(estimator=LogisticRegression(C=1, class_weight=None, dual=False, fit_intercept=True,\n",
       "           intercept_scaling=1, max_iter=100, multi_class='ovr', n_jobs=1,\n",
       "           penalty='l1', random_state=42, solver='liblinear', tol=0.0001,\n",
       "           verbose=0, warm_start=False),\n",
       "         prefit=False, threshold=None),\n",
       " 'skb': SelectKBest(k=500, score_func=<function f_classif at 0x7f8bd315e6a8>)}"
      ]
     },
     "execution_count": 11,
     "metadata": {},
     "output_type": "execute_result"
    }
   ],
   "source": [
    "gspipe.best_estimator_.named_steps"
   ]
  },
  {
   "cell_type": "code",
   "execution_count": 12,
   "metadata": {},
   "outputs": [
    {
     "data": {
      "text/html": [
       "<div>\n",
       "<table border=\"1\" class=\"dataframe\">\n",
       "  <thead>\n",
       "    <tr style=\"text-align: right;\">\n",
       "      <th></th>\n",
       "      <th>3</th>\n",
       "      <th>5</th>\n",
       "      <th>7</th>\n",
       "      <th>9</th>\n",
       "      <th>11</th>\n",
       "      <th>1</th>\n",
       "      <th>19</th>\n",
       "      <th>6</th>\n",
       "      <th>8</th>\n",
       "      <th>10</th>\n",
       "      <th>...</th>\n",
       "      <th>33</th>\n",
       "      <th>22</th>\n",
       "      <th>20</th>\n",
       "      <th>14</th>\n",
       "      <th>30</th>\n",
       "      <th>26</th>\n",
       "      <th>28</th>\n",
       "      <th>16</th>\n",
       "      <th>34</th>\n",
       "      <th>32</th>\n",
       "    </tr>\n",
       "  </thead>\n",
       "  <tbody>\n",
       "    <tr>\n",
       "      <th>mean_fit_time</th>\n",
       "      <td>0.04057</td>\n",
       "      <td>0.0427</td>\n",
       "      <td>0.04513</td>\n",
       "      <td>0.04507</td>\n",
       "      <td>0.04456</td>\n",
       "      <td>0.04013</td>\n",
       "      <td>0.05403</td>\n",
       "      <td>0.1275</td>\n",
       "      <td>0.1809</td>\n",
       "      <td>0.2291</td>\n",
       "      <td>...</td>\n",
       "      <td>0.05126</td>\n",
       "      <td>0.03777</td>\n",
       "      <td>0.03572</td>\n",
       "      <td>0.03398</td>\n",
       "      <td>0.03897</td>\n",
       "      <td>0.03504</td>\n",
       "      <td>0.03645</td>\n",
       "      <td>0.03829</td>\n",
       "      <td>0.03839</td>\n",
       "      <td>0.0375</td>\n",
       "    </tr>\n",
       "    <tr>\n",
       "      <th>mean_score_time</th>\n",
       "      <td>0.0007293</td>\n",
       "      <td>0.0007688</td>\n",
       "      <td>0.0008354</td>\n",
       "      <td>0.0008002</td>\n",
       "      <td>0.0007753</td>\n",
       "      <td>0.0007293</td>\n",
       "      <td>0.0009366</td>\n",
       "      <td>0.0007265</td>\n",
       "      <td>0.0006675</td>\n",
       "      <td>0.0007328</td>\n",
       "      <td>...</td>\n",
       "      <td>0.00107</td>\n",
       "      <td>0.00075</td>\n",
       "      <td>0.0007665</td>\n",
       "      <td>0.0007664</td>\n",
       "      <td>0.0008002</td>\n",
       "      <td>0.000948</td>\n",
       "      <td>0.0008072</td>\n",
       "      <td>0.0008549</td>\n",
       "      <td>0.0008255</td>\n",
       "      <td>0.0008244</td>\n",
       "    </tr>\n",
       "    <tr>\n",
       "      <th>mean_test_score</th>\n",
       "      <td>0.5045</td>\n",
       "      <td>0.5045</td>\n",
       "      <td>0.5045</td>\n",
       "      <td>0.5045</td>\n",
       "      <td>0.5045</td>\n",
       "      <td>0.5</td>\n",
       "      <td>0.4682</td>\n",
       "      <td>0.4591</td>\n",
       "      <td>0.4591</td>\n",
       "      <td>0.4591</td>\n",
       "      <td>...</td>\n",
       "      <td>0.4182</td>\n",
       "      <td>0.4136</td>\n",
       "      <td>0.4045</td>\n",
       "      <td>0.4045</td>\n",
       "      <td>0.3955</td>\n",
       "      <td>0.3864</td>\n",
       "      <td>0.3864</td>\n",
       "      <td>0.3864</td>\n",
       "      <td>0.3818</td>\n",
       "      <td>0.3773</td>\n",
       "    </tr>\n",
       "    <tr>\n",
       "      <th>mean_train_score</th>\n",
       "      <td>0.8303</td>\n",
       "      <td>0.8303</td>\n",
       "      <td>0.8303</td>\n",
       "      <td>0.8303</td>\n",
       "      <td>0.8303</td>\n",
       "      <td>0.8308</td>\n",
       "      <td>1</td>\n",
       "      <td>0.9838</td>\n",
       "      <td>0.9838</td>\n",
       "      <td>0.9838</td>\n",
       "      <td>...</td>\n",
       "      <td>1</td>\n",
       "      <td>1</td>\n",
       "      <td>1</td>\n",
       "      <td>1</td>\n",
       "      <td>1</td>\n",
       "      <td>1</td>\n",
       "      <td>1</td>\n",
       "      <td>1</td>\n",
       "      <td>1</td>\n",
       "      <td>1</td>\n",
       "    </tr>\n",
       "    <tr>\n",
       "      <th>param_pca__n_components</th>\n",
       "      <td>50</td>\n",
       "      <td>50</td>\n",
       "      <td>50</td>\n",
       "      <td>50</td>\n",
       "      <td>50</td>\n",
       "      <td>50</td>\n",
       "      <td>100</td>\n",
       "      <td>50</td>\n",
       "      <td>50</td>\n",
       "      <td>50</td>\n",
       "      <td>...</td>\n",
       "      <td>150</td>\n",
       "      <td>100</td>\n",
       "      <td>100</td>\n",
       "      <td>100</td>\n",
       "      <td>150</td>\n",
       "      <td>150</td>\n",
       "      <td>150</td>\n",
       "      <td>100</td>\n",
       "      <td>150</td>\n",
       "      <td>150</td>\n",
       "    </tr>\n",
       "    <tr>\n",
       "      <th>param_sfm__estimator</th>\n",
       "      <td>LogisticRegression(C=1, class_weight=None, dua...</td>\n",
       "      <td>LogisticRegression(C=10, class_weight=None, du...</td>\n",
       "      <td>LogisticRegression(C=100.0, class_weight=None,...</td>\n",
       "      <td>LogisticRegression(C=1000.0, class_weight=None...</td>\n",
       "      <td>LogisticRegression(C=10000.0, class_weight=Non...</td>\n",
       "      <td>LogisticRegression(C=0.1, class_weight=None, d...</td>\n",
       "      <td>LogisticRegression(C=100.0, class_weight=None,...</td>\n",
       "      <td>LogisticRegression(C=100.0, class_weight=None,...</td>\n",
       "      <td>LogisticRegression(C=1000.0, class_weight=None...</td>\n",
       "      <td>LogisticRegression(C=10000.0, class_weight=Non...</td>\n",
       "      <td>...</td>\n",
       "      <td>LogisticRegression(C=1000.0, class_weight=None...</td>\n",
       "      <td>LogisticRegression(C=10000.0, class_weight=Non...</td>\n",
       "      <td>LogisticRegression(C=1000.0, class_weight=None...</td>\n",
       "      <td>LogisticRegression(C=1, class_weight=None, dua...</td>\n",
       "      <td>LogisticRegression(C=100.0, class_weight=None,...</td>\n",
       "      <td>LogisticRegression(C=1, class_weight=None, dua...</td>\n",
       "      <td>LogisticRegression(C=10, class_weight=None, du...</td>\n",
       "      <td>LogisticRegression(C=10, class_weight=None, du...</td>\n",
       "      <td>LogisticRegression(C=10000.0, class_weight=Non...</td>\n",
       "      <td>LogisticRegression(C=1000.0, class_weight=None...</td>\n",
       "    </tr>\n",
       "  </tbody>\n",
       "</table>\n",
       "<p>6 rows × 36 columns</p>\n",
       "</div>"
      ],
      "text/plain": [
       "                                                                        3   \\\n",
       "mean_fit_time                                                      0.04057   \n",
       "mean_score_time                                                  0.0007293   \n",
       "mean_test_score                                                     0.5045   \n",
       "mean_train_score                                                    0.8303   \n",
       "param_pca__n_components                                                 50   \n",
       "param_sfm__estimator     LogisticRegression(C=1, class_weight=None, dua...   \n",
       "\n",
       "                                                                        5   \\\n",
       "mean_fit_time                                                       0.0427   \n",
       "mean_score_time                                                  0.0007688   \n",
       "mean_test_score                                                     0.5045   \n",
       "mean_train_score                                                    0.8303   \n",
       "param_pca__n_components                                                 50   \n",
       "param_sfm__estimator     LogisticRegression(C=10, class_weight=None, du...   \n",
       "\n",
       "                                                                        7   \\\n",
       "mean_fit_time                                                      0.04513   \n",
       "mean_score_time                                                  0.0008354   \n",
       "mean_test_score                                                     0.5045   \n",
       "mean_train_score                                                    0.8303   \n",
       "param_pca__n_components                                                 50   \n",
       "param_sfm__estimator     LogisticRegression(C=100.0, class_weight=None,...   \n",
       "\n",
       "                                                                        9   \\\n",
       "mean_fit_time                                                      0.04507   \n",
       "mean_score_time                                                  0.0008002   \n",
       "mean_test_score                                                     0.5045   \n",
       "mean_train_score                                                    0.8303   \n",
       "param_pca__n_components                                                 50   \n",
       "param_sfm__estimator     LogisticRegression(C=1000.0, class_weight=None...   \n",
       "\n",
       "                                                                        11  \\\n",
       "mean_fit_time                                                      0.04456   \n",
       "mean_score_time                                                  0.0007753   \n",
       "mean_test_score                                                     0.5045   \n",
       "mean_train_score                                                    0.8303   \n",
       "param_pca__n_components                                                 50   \n",
       "param_sfm__estimator     LogisticRegression(C=10000.0, class_weight=Non...   \n",
       "\n",
       "                                                                        1   \\\n",
       "mean_fit_time                                                      0.04013   \n",
       "mean_score_time                                                  0.0007293   \n",
       "mean_test_score                                                        0.5   \n",
       "mean_train_score                                                    0.8308   \n",
       "param_pca__n_components                                                 50   \n",
       "param_sfm__estimator     LogisticRegression(C=0.1, class_weight=None, d...   \n",
       "\n",
       "                                                                        19  \\\n",
       "mean_fit_time                                                      0.05403   \n",
       "mean_score_time                                                  0.0009366   \n",
       "mean_test_score                                                     0.4682   \n",
       "mean_train_score                                                         1   \n",
       "param_pca__n_components                                                100   \n",
       "param_sfm__estimator     LogisticRegression(C=100.0, class_weight=None,...   \n",
       "\n",
       "                                                                        6   \\\n",
       "mean_fit_time                                                       0.1275   \n",
       "mean_score_time                                                  0.0007265   \n",
       "mean_test_score                                                     0.4591   \n",
       "mean_train_score                                                    0.9838   \n",
       "param_pca__n_components                                                 50   \n",
       "param_sfm__estimator     LogisticRegression(C=100.0, class_weight=None,...   \n",
       "\n",
       "                                                                        8   \\\n",
       "mean_fit_time                                                       0.1809   \n",
       "mean_score_time                                                  0.0006675   \n",
       "mean_test_score                                                     0.4591   \n",
       "mean_train_score                                                    0.9838   \n",
       "param_pca__n_components                                                 50   \n",
       "param_sfm__estimator     LogisticRegression(C=1000.0, class_weight=None...   \n",
       "\n",
       "                                                                        10  \\\n",
       "mean_fit_time                                                       0.2291   \n",
       "mean_score_time                                                  0.0007328   \n",
       "mean_test_score                                                     0.4591   \n",
       "mean_train_score                                                    0.9838   \n",
       "param_pca__n_components                                                 50   \n",
       "param_sfm__estimator     LogisticRegression(C=10000.0, class_weight=Non...   \n",
       "\n",
       "                                               ...                          \\\n",
       "mean_fit_time                                  ...                           \n",
       "mean_score_time                                ...                           \n",
       "mean_test_score                                ...                           \n",
       "mean_train_score                               ...                           \n",
       "param_pca__n_components                        ...                           \n",
       "param_sfm__estimator                           ...                           \n",
       "\n",
       "                                                                        33  \\\n",
       "mean_fit_time                                                      0.05126   \n",
       "mean_score_time                                                    0.00107   \n",
       "mean_test_score                                                     0.4182   \n",
       "mean_train_score                                                         1   \n",
       "param_pca__n_components                                                150   \n",
       "param_sfm__estimator     LogisticRegression(C=1000.0, class_weight=None...   \n",
       "\n",
       "                                                                        22  \\\n",
       "mean_fit_time                                                      0.03777   \n",
       "mean_score_time                                                    0.00075   \n",
       "mean_test_score                                                     0.4136   \n",
       "mean_train_score                                                         1   \n",
       "param_pca__n_components                                                100   \n",
       "param_sfm__estimator     LogisticRegression(C=10000.0, class_weight=Non...   \n",
       "\n",
       "                                                                        20  \\\n",
       "mean_fit_time                                                      0.03572   \n",
       "mean_score_time                                                  0.0007665   \n",
       "mean_test_score                                                     0.4045   \n",
       "mean_train_score                                                         1   \n",
       "param_pca__n_components                                                100   \n",
       "param_sfm__estimator     LogisticRegression(C=1000.0, class_weight=None...   \n",
       "\n",
       "                                                                        14  \\\n",
       "mean_fit_time                                                      0.03398   \n",
       "mean_score_time                                                  0.0007664   \n",
       "mean_test_score                                                     0.4045   \n",
       "mean_train_score                                                         1   \n",
       "param_pca__n_components                                                100   \n",
       "param_sfm__estimator     LogisticRegression(C=1, class_weight=None, dua...   \n",
       "\n",
       "                                                                        30  \\\n",
       "mean_fit_time                                                      0.03897   \n",
       "mean_score_time                                                  0.0008002   \n",
       "mean_test_score                                                     0.3955   \n",
       "mean_train_score                                                         1   \n",
       "param_pca__n_components                                                150   \n",
       "param_sfm__estimator     LogisticRegression(C=100.0, class_weight=None,...   \n",
       "\n",
       "                                                                        26  \\\n",
       "mean_fit_time                                                      0.03504   \n",
       "mean_score_time                                                   0.000948   \n",
       "mean_test_score                                                     0.3864   \n",
       "mean_train_score                                                         1   \n",
       "param_pca__n_components                                                150   \n",
       "param_sfm__estimator     LogisticRegression(C=1, class_weight=None, dua...   \n",
       "\n",
       "                                                                        28  \\\n",
       "mean_fit_time                                                      0.03645   \n",
       "mean_score_time                                                  0.0008072   \n",
       "mean_test_score                                                     0.3864   \n",
       "mean_train_score                                                         1   \n",
       "param_pca__n_components                                                150   \n",
       "param_sfm__estimator     LogisticRegression(C=10, class_weight=None, du...   \n",
       "\n",
       "                                                                        16  \\\n",
       "mean_fit_time                                                      0.03829   \n",
       "mean_score_time                                                  0.0008549   \n",
       "mean_test_score                                                     0.3864   \n",
       "mean_train_score                                                         1   \n",
       "param_pca__n_components                                                100   \n",
       "param_sfm__estimator     LogisticRegression(C=10, class_weight=None, du...   \n",
       "\n",
       "                                                                        34  \\\n",
       "mean_fit_time                                                      0.03839   \n",
       "mean_score_time                                                  0.0008255   \n",
       "mean_test_score                                                     0.3818   \n",
       "mean_train_score                                                         1   \n",
       "param_pca__n_components                                                150   \n",
       "param_sfm__estimator     LogisticRegression(C=10000.0, class_weight=Non...   \n",
       "\n",
       "                                                                        32  \n",
       "mean_fit_time                                                       0.0375  \n",
       "mean_score_time                                                  0.0008244  \n",
       "mean_test_score                                                     0.3773  \n",
       "mean_train_score                                                         1  \n",
       "param_pca__n_components                                                150  \n",
       "param_sfm__estimator     LogisticRegression(C=1000.0, class_weight=None...  \n",
       "\n",
       "[6 rows x 36 columns]"
      ]
     },
     "execution_count": 12,
     "metadata": {},
     "output_type": "execute_result"
    }
   ],
   "source": [
    "gspipe_results = pd.DataFrame(gspipe.cv_results_)\n",
    "gspipe_results.sort_values('rank_test_score', ascending=True).T.head(6)"
   ]
  },
  {
   "cell_type": "code",
   "execution_count": 13,
   "metadata": {},
   "outputs": [
    {
     "data": {
      "text/plain": [
       "2.0559993743896481"
      ]
     },
     "execution_count": 13,
     "metadata": {},
     "output_type": "execute_result"
    }
   ],
   "source": [
    "gspipe_results['mean_fit_time'].sum()"
   ]
  },
  {
   "cell_type": "code",
   "execution_count": 14,
   "metadata": {},
   "outputs": [],
   "source": [
    "# gspipe_results.info(memory_usage='deep')"
   ]
  },
  {
   "cell_type": "code",
   "execution_count": 15,
   "metadata": {},
   "outputs": [
    {
     "name": "stdout",
     "output_type": "stream",
     "text": [
      "Fit time .1% data:  2.05599937439\n",
      "Best Score .1% data:  0.504545454545\n"
     ]
    }
   ],
   "source": [
    "print(\"Fit time .1% data: \", gspipe_results['mean_fit_time'].sum())\n",
    "print(\"Best Score .1% data: \",gspipe.best_score_)\n",
    "### Pipeline2 for .1% (220 rows)\n",
    "picked_pipeline_220row = \\\n",
    "        pd.DataFrame.to_pickle(gspipe_results,\\\n",
    "        '/home/jovyan/work/DSI/projects/project_3/data/Pipeline2_lr_pt1_percent')"
   ]
  },
  {
   "cell_type": "code",
   "execution_count": 16,
   "metadata": {},
   "outputs": [
    {
     "name": "stdout",
     "output_type": "stream",
     "text": [
      "Fit time .5% data:  6.31589820385\n",
      "Best Score .5% data:  0.501818181818\n"
     ]
    }
   ],
   "source": [
    "### Pipeline2 for .5% (1100 rows)\n",
    "\n",
    "gspipe.fit(feature[:1100], np.ravel(target[:1100].values))\n",
    "gspipe_results = pd.DataFrame(gspipe.cv_results_)\n",
    "print(\"Fit time .5% data: \", gspipe_results['mean_fit_time'].sum())\n",
    "print(\"Best Score .5% data: \",gspipe.best_score_)\n",
    "gspipe_results_1100 = pd.DataFrame(gspipe.cv_results_)\n",
    "picked_Pipeline2_1100row = \\\n",
    "        pd.DataFrame.to_pickle(gspipe_results_1100,\\\n",
    "        '/home/jovyan/work/DSI/projects/project_3/data/Pipeline2_lr_pt5_percent')"
   ]
  },
  {
   "cell_type": "code",
   "execution_count": 17,
   "metadata": {},
   "outputs": [
    {
     "name": "stdout",
     "output_type": "stream",
     "text": [
      "Fit time 1% data:  11.910923171\n",
      "Best Score 1% data:  0.522727272727\n"
     ]
    }
   ],
   "source": [
    "### Pipeline2 for 1% (2200 rows)\n",
    "\n",
    "gspipe.fit(feature[:2200], np.ravel(target[:2200].values))\n",
    "gspipe_results = pd.DataFrame(gspipe.cv_results_)\n",
    "print(\"Fit time 1% data: \", gspipe_results['mean_fit_time'].sum())\n",
    "print(\"Best Score 1% data: \",gspipe.best_score_)\n",
    "gspipe_results_2200 = pd.DataFrame(gspipe.cv_results_)\n",
    "picked_Pipeline2_2200row = \\\n",
    "        pd.DataFrame.to_pickle(gspipe_results_2200,\\\n",
    "        '/home/jovyan/work/DSI/projects/project_3/data/Pipeline2_lr_1_percent')"
   ]
  },
  {
   "cell_type": "code",
   "execution_count": 18,
   "metadata": {
    "collapsed": true
   },
   "outputs": [
    {
     "name": "stdout",
     "output_type": "stream",
     "text": [
      "Fit time 5% data:  64.2801791191\n",
      "Best Score 5% data: 0.524233983287\n"
     ]
    }
   ],
   "source": [
    "### Bench Marking for 5% (11000 rows)\n",
    "\n",
    "gspipe.fit(feature, np.ravel(target.values))\n",
    "gspipe_results = pd.DataFrame(gspipe.cv_results_)\n",
    "print(\"Fit time 5% data: \", gspipe_results['mean_fit_time'].sum())\n",
    "print(\"Best Score 5% data:\",gspipe.best_score_)\n",
    "gspipe_results_11000 = pd.DataFrame(gspipe.cv_results_)\n",
    "picked_GS_BenchMarkig_11000row = \\\n",
    "        pd.DataFrame.to_pickle(gspipe_results_11000,\\\n",
    "        '/home/jovyan/work/DSI/projects/project_3/data/Pipeline2_lr_5_percent')"
   ]
  }
 ],
 "metadata": {
  "kernelspec": {
   "display_name": "Python 3",
   "language": "python",
   "name": "python3"
  },
  "language_info": {
   "codemirror_mode": {
    "name": "ipython",
    "version": 3
   },
   "file_extension": ".py",
   "mimetype": "text/x-python",
   "name": "python",
   "nbconvert_exporter": "python",
   "pygments_lexer": "ipython3",
   "version": "3.5.2"
  }
 },
 "nbformat": 4,
 "nbformat_minor": 2
}
