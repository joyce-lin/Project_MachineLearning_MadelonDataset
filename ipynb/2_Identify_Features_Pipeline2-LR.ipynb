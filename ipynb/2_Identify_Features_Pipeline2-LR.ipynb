{
 "cells": [
  {
   "cell_type": "code",
   "execution_count": 1,
   "metadata": {
    "collapsed": true
   },
   "outputs": [],
   "source": [
    "from os import chdir\n",
    "chdir('../')\n",
    "%matplotlib inline\n",
    "from lib import *\n",
    "\n",
    "pd.options.display.precision = 4\n",
    "import matplotlib as mpl\n",
    "mpl.rcParams['font.family'] = 'Lato'\n",
    "mpl.rcParams['font.weight'] = 700\n",
    "sns.set(font='Lato', font_scale=1)\n",
    "sns.set()\n",
    "np.random.seed(42)\n",
    "suppress_warnings()"
   ]
  },
  {
   "cell_type": "code",
   "execution_count": 2,
   "metadata": {
    "collapsed": true,
    "scrolled": true
   },
   "outputs": [],
   "source": [
    "feature = pd.read_pickle('/home/jovyan/work/DSI/projects/project_3/data/feature')\n",
    "target= pd.read_pickle('/home/jovyan/work/DSI/projects/project_3/data/target')"
   ]
  },
  {
   "cell_type": "code",
   "execution_count": 3,
   "metadata": {},
   "outputs": [
    {
     "data": {
      "text/plain": [
       "(10752, 1000)"
      ]
     },
     "metadata": {},
     "output_type": "display_data"
    },
    {
     "data": {
      "text/plain": [
       "(10752, 1)"
      ]
     },
     "metadata": {},
     "output_type": "display_data"
    }
   ],
   "source": [
    "display(feature.shape)\n",
    "display(target.shape)"
   ]
  },
  {
   "cell_type": "code",
   "execution_count": 4,
   "metadata": {
    "collapsed": true
   },
   "outputs": [],
   "source": [
    "from sklearn.preprocessing import StandardScaler\n",
    "from sklearn.model_selection import train_test_split, GridSearchCV, ShuffleSplit\n",
    "from sklearn.feature_selection import SelectKBest, SelectPercentile, f_classif\n",
    "from sklearn import svm\n",
    "from sklearn.tree import DecisionTreeClassifier, DecisionTreeRegressor\n",
    "from sklearn.decomposition import PCA\n",
    "from sklearn.linear_model import Lasso, LogisticRegression,LinearRegression\n",
    "from sklearn.pipeline import Pipeline"
   ]
  },
  {
   "cell_type": "markdown",
   "metadata": {},
   "source": [
    "# Step 2 Identify Features"
   ]
  },
  {
   "cell_type": "code",
   "execution_count": 5,
   "metadata": {
    "collapsed": true
   },
   "outputs": [],
   "source": [
    "from sklearn.feature_selection import SelectKBest, \\\n",
    "                                      SelectFromModel, \\\n",
    "                                      RFE, SelectPercentile, \\\n",
    "                                      SelectFdr, SelectFpr\n",
    "from sklearn.feature_selection import f_regression, f_classif\n",
    "from sklearn.neighbors import KNeighborsClassifier"
   ]
  },
  {
   "cell_type": "markdown",
   "metadata": {},
   "source": [
    "### Pipeline 2: SKB, PCA, SFM, LR"
   ]
  },
  {
   "cell_type": "code",
   "execution_count": 6,
   "metadata": {
    "collapsed": true
   },
   "outputs": [],
   "source": [
    "pipe_for_gs = Pipeline([\n",
    "    ('skb', SelectKBest(score_func=f_classif)),\n",
    "    ('pca',PCA(random_state=42)),\n",
    "    ('sfm', SelectFromModel(LogisticRegression())),\n",
    "    ('lr', LogisticRegression(C=1E10,n_jobs=-1,random_state=42))\n",
    "])"
   ]
  },
  {
   "cell_type": "code",
   "execution_count": 7,
   "metadata": {
    "collapsed": true
   },
   "outputs": [],
   "source": [
    "params = {    \n",
    "    'skb__k':[250,500],\n",
    "    'pca__n_components':[50,100,150],\n",
    "    'sfm__estimator':[LogisticRegression(C=0.1,penalty='l1',random_state=42),\n",
    "                      LogisticRegression(C=1,penalty='l1',random_state=42),\n",
    "                      LogisticRegression(C=10,penalty='l1',random_state=42),\n",
    "                      LogisticRegression(C=1e2,penalty='l1',random_state=42),\n",
    "                      LogisticRegression(C=1e3,penalty='l1',random_state=42),\n",
    "                      LogisticRegression(C=1e4,penalty='l1',random_state=42)]\n",
    "}"
   ]
  },
  {
   "cell_type": "code",
   "execution_count": 8,
   "metadata": {
    "collapsed": true
   },
   "outputs": [],
   "source": [
    "gspipe = GridSearchCV(pipe_for_gs,\n",
    "                      param_grid=params,\n",
    "                      n_jobs=-1,\n",
    "                      cv=ShuffleSplit(random_state=42))"
   ]
  },
  {
   "cell_type": "code",
   "execution_count": 9,
   "metadata": {},
   "outputs": [
    {
     "data": {
      "text/plain": [
       "GridSearchCV(cv=ShuffleSplit(n_splits=10, random_state=42, test_size=0.1, train_size=None),\n",
       "       error_score='raise',\n",
       "       estimator=Pipeline(steps=[('skb', SelectKBest(k=10, score_func=<function f_classif at 0x7f1f28cd0730>)), ('pca', PCA(copy=True, iterated_power='auto', n_components=None, random_state=42,\n",
       "  svd_solver='auto', tol=0.0, whiten=False)), ('sfm', SelectFromModel(estimator=LogisticRegression(C=1.0, class_weight=None, dual=Fa...alty='l2', random_state=42,\n",
       "          solver='liblinear', tol=0.0001, verbose=0, warm_start=False))]),\n",
       "       fit_params={}, iid=True, n_jobs=-1,\n",
       "       param_grid={'skb__k': [250, 500], 'pca__n_components': [50, 100, 150], 'sfm__estimator': [LogisticRegression(C=0.1, class_weight=None, dual=False, fit_intercept=True,\n",
       "          intercept_scaling=1, max_iter=100, multi_class='ovr', n_jobs=1,\n",
       "          penalty='l1', random_state=42, solver='liblinear'...alty='l1', random_state=42,\n",
       "          solver='liblinear', tol=0.0001, verbose=0, warm_start=False)]},\n",
       "       pre_dispatch='2*n_jobs', refit=True, return_train_score=True,\n",
       "       scoring=None, verbose=0)"
      ]
     },
     "execution_count": 9,
     "metadata": {},
     "output_type": "execute_result"
    }
   ],
   "source": [
    "gspipe.fit(feature[:220], np.ravel(target[:220].values))"
   ]
  },
  {
   "cell_type": "code",
   "execution_count": 10,
   "metadata": {},
   "outputs": [
    {
     "data": {
      "text/plain": [
       "0.54090909090909089"
      ]
     },
     "execution_count": 10,
     "metadata": {},
     "output_type": "execute_result"
    }
   ],
   "source": [
    "gspipe.best_score_"
   ]
  },
  {
   "cell_type": "code",
   "execution_count": 11,
   "metadata": {},
   "outputs": [
    {
     "data": {
      "text/plain": [
       "{'lr': LogisticRegression(C=10000000000.0, class_weight=None, dual=False,\n",
       "           fit_intercept=True, intercept_scaling=1, max_iter=100,\n",
       "           multi_class='ovr', n_jobs=-1, penalty='l2', random_state=42,\n",
       "           solver='liblinear', tol=0.0001, verbose=0, warm_start=False),\n",
       " 'pca': PCA(copy=True, iterated_power='auto', n_components=50, random_state=42,\n",
       "   svd_solver='auto', tol=0.0, whiten=False),\n",
       " 'sfm': SelectFromModel(estimator=LogisticRegression(C=10, class_weight=None, dual=False, fit_intercept=True,\n",
       "           intercept_scaling=1, max_iter=100, multi_class='ovr', n_jobs=1,\n",
       "           penalty='l1', random_state=42, solver='liblinear', tol=0.0001,\n",
       "           verbose=0, warm_start=False),\n",
       "         prefit=False, threshold=None),\n",
       " 'skb': SelectKBest(k=250, score_func=<function f_classif at 0x7f1f28cd0730>)}"
      ]
     },
     "execution_count": 11,
     "metadata": {},
     "output_type": "execute_result"
    }
   ],
   "source": [
    "gspipe.best_estimator_.named_steps"
   ]
  },
  {
   "cell_type": "code",
   "execution_count": 2,
   "metadata": {},
   "outputs": [
    {
     "ename": "NameError",
     "evalue": "name 'pd' is not defined",
     "output_type": "error",
     "traceback": [
      "\u001b[0;31m---------------------------------------------------------------------------\u001b[0m",
      "\u001b[0;31mNameError\u001b[0m                                 Traceback (most recent call last)",
      "\u001b[0;32m<ipython-input-2-8df2991d0ee5>\u001b[0m in \u001b[0;36m<module>\u001b[0;34m()\u001b[0m\n\u001b[0;32m----> 1\u001b[0;31m \u001b[0mgspipe_results\u001b[0m \u001b[0;34m=\u001b[0m \u001b[0mpd\u001b[0m\u001b[0;34m.\u001b[0m\u001b[0mDataFrame\u001b[0m\u001b[0;34m(\u001b[0m\u001b[0mgspipe\u001b[0m\u001b[0;34m.\u001b[0m\u001b[0mcv_results_\u001b[0m\u001b[0;34m)\u001b[0m\u001b[0;34m\u001b[0m\u001b[0m\n\u001b[0m\u001b[1;32m      2\u001b[0m \u001b[0mgspipe_results\u001b[0m\u001b[0;34m.\u001b[0m\u001b[0msort_values\u001b[0m\u001b[0;34m(\u001b[0m\u001b[0;34m'rank_test_score'\u001b[0m\u001b[0;34m,\u001b[0m \u001b[0mascending\u001b[0m\u001b[0;34m=\u001b[0m\u001b[0;32mTrue\u001b[0m\u001b[0;34m)\u001b[0m\u001b[0;34m.\u001b[0m\u001b[0mT\u001b[0m\u001b[0;34m.\u001b[0m\u001b[0mhead\u001b[0m\u001b[0;34m(\u001b[0m\u001b[0;36m6\u001b[0m\u001b[0;34m)\u001b[0m\u001b[0;34m\u001b[0m\u001b[0m\n",
      "\u001b[0;31mNameError\u001b[0m: name 'pd' is not defined"
     ]
    }
   ],
   "source": [
    "gspipe_results = pd.DataFrame(gspipe.cv_results_)\n",
    "gspipe_results.sort_values('rank_test_score', ascending=True).T.head(6)"
   ]
  },
  {
   "cell_type": "code",
   "execution_count": 13,
   "metadata": {},
   "outputs": [
    {
     "data": {
      "text/plain": [
       "1.7068538904190063"
      ]
     },
     "execution_count": 13,
     "metadata": {},
     "output_type": "execute_result"
    }
   ],
   "source": [
    "gspipe_results['mean_fit_time'].sum()"
   ]
  },
  {
   "cell_type": "code",
   "execution_count": 1,
   "metadata": {},
   "outputs": [],
   "source": [
    "# gspipe_results.info(memory_usage='deep')"
   ]
  },
  {
   "cell_type": "code",
   "execution_count": 15,
   "metadata": {},
   "outputs": [
    {
     "name": "stdout",
     "output_type": "stream",
     "text": [
      "Fit time .1% data:  1.70685389042\n",
      "Best Score .1% data:  0.540909090909\n"
     ]
    }
   ],
   "source": [
    "print(\"Fit time .1% data: \", gspipe_results['mean_fit_time'].sum())\n",
    "print(\"Best Score .1% data: \",gspipe.best_score_)\n",
    "### Pipeline2 for .1% (220 rows)\n",
    "picked_pipeline_220row = \\\n",
    "        pd.DataFrame.to_pickle(gspipe_results,\\\n",
    "        '/home/jovyan/work/DSI/projects/project_3/data/Pipeline2_lr_pt1_percent')"
   ]
  },
  {
   "cell_type": "code",
   "execution_count": 16,
   "metadata": {},
   "outputs": [
    {
     "name": "stdout",
     "output_type": "stream",
     "text": [
      "Fit time .5% data:  6.34576931\n",
      "Best Score .5% data:  0.520909090909\n"
     ]
    }
   ],
   "source": [
    "### Pipeline2 for .5% (1100 rows)\n",
    "\n",
    "gspipe.fit(feature[:1100], np.ravel(target[:1100].values))\n",
    "gspipe_results = pd.DataFrame(gspipe.cv_results_)\n",
    "print(\"Fit time .5% data: \", gspipe_results['mean_fit_time'].sum())\n",
    "print(\"Best Score .5% data: \",gspipe.best_score_)\n",
    "gspipe_results_1100 = pd.DataFrame(gspipe.cv_results_)\n",
    "picked_Pipeline2_1100row = \\\n",
    "        pd.DataFrame.to_pickle(gspipe_results_1100,\\\n",
    "        '/home/jovyan/work/DSI/projects/project_3/data/Pipeline2_lr_pt5_percent')"
   ]
  },
  {
   "cell_type": "code",
   "execution_count": null,
   "metadata": {},
   "outputs": [
    {
     "name": "stdout",
     "output_type": "stream",
     "text": [
      "Fit time 1% data:  12.5765599012\n",
      "Best Score 1% data:  0.55\n"
     ]
    }
   ],
   "source": [
    "### Pipeline2 for 1% (2200 rows)\n",
    "\n",
    "gspipe.fit(feature[:2200], np.ravel(target[:2200].values))\n",
    "gspipe_results = pd.DataFrame(gspipe.cv_results_)\n",
    "print(\"Fit time 1% data: \", gspipe_results['mean_fit_time'].sum())\n",
    "print(\"Best Score 1% data: \",gspipe.best_score_)\n",
    "gspipe_results_2200 = pd.DataFrame(gspipe.cv_results_)\n",
    "picked_Pipeline2_2200row = \\\n",
    "        pd.DataFrame.to_pickle(gspipe_results_2200,\\\n",
    "        '/home/jovyan/work/DSI/projects/project_3/data/Pipeline2_lr_1_percent')"
   ]
  },
  {
   "cell_type": "code",
   "execution_count": null,
   "metadata": {
    "collapsed": true
   },
   "outputs": [],
   "source": [
    "### Bench Marking for 5% (11000 rows)\n",
    "\n",
    "gspipe.fit(feature, np.ravel(target.values))\n",
    "gspipe_results = pd.DataFrame(gspipe.cv_results_)\n",
    "print(\"Fit time 5% data: \", gspipe_results['mean_fit_time'].sum())\n",
    "print(\"Best Score 5% data:\",gspipe.best_score_)\n",
    "gspipe_results_11000 = pd.DataFrame(gspipe.cv_results_)\n",
    "picked_GS_BenchMarkig_11000row = \\\n",
    "        pd.DataFrame.to_pickle(gspipe_results_11000,\\\n",
    "        '/home/jovyan/work/DSI/projects/project_3/data/Pipeline2_lr_5_percent')"
   ]
  }
 ],
 "metadata": {
  "kernelspec": {
   "display_name": "Python 3",
   "language": "python",
   "name": "python3"
  },
  "language_info": {
   "codemirror_mode": {
    "name": "ipython",
    "version": 3
   },
   "file_extension": ".py",
   "mimetype": "text/x-python",
   "name": "python",
   "nbconvert_exporter": "python",
   "pygments_lexer": "ipython3",
   "version": "3.5.2"
  }
 },
 "nbformat": 4,
 "nbformat_minor": 2
}
