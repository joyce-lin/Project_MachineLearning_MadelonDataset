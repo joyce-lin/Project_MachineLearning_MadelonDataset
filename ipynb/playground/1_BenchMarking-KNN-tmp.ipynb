{
 "cells": [
  {
   "cell_type": "code",
   "execution_count": 1,
   "metadata": {},
   "outputs": [],
   "source": [
    "from os import chdir\n",
    "chdir('../')\n",
    "%matplotlib inline\n",
    "from lib import *\n",
    "\n",
    "from time import time\n",
    "\n",
    "pd.options.display.precision = 4\n",
    "import matplotlib as mpl\n",
    "mpl.rcParams['font.family'] = 'Lato'\n",
    "mpl.rcParams['font.weight'] = 700\n",
    "sns.set(font='Lato', font_scale=1)\n",
    "sns.set()\n",
    "np.random.seed(42)"
   ]
  },
  {
   "cell_type": "code",
   "execution_count": 8,
   "metadata": {
    "collapsed": true
   },
   "outputs": [],
   "source": [
    "feature = pd.read_pickle('/home/jovyan/work/DSI/projects/project_3/data/feature')\n",
    "target= pd.read_pickle('/home/jovyan/work/DSI/projects/project_3/data/target')"
   ]
  },
  {
   "cell_type": "code",
   "execution_count": 16,
   "metadata": {},
   "outputs": [
    {
     "data": {
      "text/plain": [
       "(11000, 1000)"
      ]
     },
     "execution_count": 16,
     "metadata": {},
     "output_type": "execute_result"
    }
   ],
   "source": [
    "feature.shape"
   ]
  },
  {
   "cell_type": "code",
   "execution_count": null,
   "metadata": {
    "collapsed": true
   },
   "outputs": [],
   "source": [
    "start = time()\n",
    "madelon_df, target = make_DataFrame(220000,220,42)\n",
    "end = time()\n",
    "total_time_220 = end - start\n",
    "\n",
    "start1100 = time()\n",
    "madelon_df1100, target1100 = make_DataFrame(220000,1100,42)\n",
    "end1100 = time()\n",
    "total_time_1100 = end1100 - start1100\n",
    "\n",
    "start2200 = time()\n",
    "madelon_df2200, target2200 = make_DataFrame(220000,2200,42)\n",
    "end2200 = time()\n",
    "total_time_2200 = end2200 - start2200\n",
    "\n",
    "data_loadtime_dict = {\n",
    "    '220': total_time_220,\n",
    "    '1100':total_time_1100,\n",
    "    '2200':total_time_2200,\n",
    "\n",
    "}\n",
    "data_loadtime_df = pd.DataFrame.from_dict(data_loadtime_dict,orient='index')\n",
    "data_loadtime_df.columns = (['time'])\n",
    "data_loadtime_df.reset_index(inplace = True)\n",
    "data_loadtime_df.rename(columns={'index': 'row_count'}, inplace=True)"
   ]
  },
  {
   "cell_type": "code",
   "execution_count": 3,
   "metadata": {},
   "outputs": [
    {
     "data": {
      "text/html": [
       "<div>\n",
       "<table border=\"1\" class=\"dataframe\">\n",
       "  <thead>\n",
       "    <tr style=\"text-align: right;\">\n",
       "      <th></th>\n",
       "      <th>row_count</th>\n",
       "      <th>time</th>\n",
       "    </tr>\n",
       "  </thead>\n",
       "  <tbody>\n",
       "    <tr>\n",
       "      <th>0</th>\n",
       "      <td>22000</td>\n",
       "      <td>2.9951</td>\n",
       "    </tr>\n",
       "    <tr>\n",
       "      <th>1</th>\n",
       "      <td>220</td>\n",
       "      <td>10.0586</td>\n",
       "    </tr>\n",
       "    <tr>\n",
       "      <th>2</th>\n",
       "      <td>2200</td>\n",
       "      <td>126.9119</td>\n",
       "    </tr>\n",
       "  </tbody>\n",
       "</table>\n",
       "</div>"
      ],
      "text/plain": [
       "  row_count      time\n",
       "0     22000    2.9951\n",
       "1       220   10.0586\n",
       "2      2200  126.9119"
      ]
     },
     "execution_count": 3,
     "metadata": {},
     "output_type": "execute_result"
    }
   ],
   "source": [
    "data_loadtime_df"
   ]
  },
  {
   "cell_type": "code",
   "execution_count": 4,
   "metadata": {},
   "outputs": [
    {
     "data": {
      "text/plain": [
       "(220, 5000)"
      ]
     },
     "metadata": {},
     "output_type": "display_data"
    },
    {
     "data": {
      "text/plain": [
       "(220, 1)"
      ]
     },
     "metadata": {},
     "output_type": "display_data"
    },
    {
     "data": {
      "text/plain": [
       "(220,)"
      ]
     },
     "metadata": {},
     "output_type": "display_data"
    }
   ],
   "source": [
    "display(madelon_df.shape)\n",
    "display(target.shape)\n",
    "display(np.ravel(target.values).shape)"
   ]
  },
  {
   "cell_type": "code",
   "execution_count": 5,
   "metadata": {
    "scrolled": false
   },
   "outputs": [
    {
     "data": {
      "text/html": [
       "<div>\n",
       "<table border=\"1\" class=\"dataframe\">\n",
       "  <thead>\n",
       "    <tr style=\"text-align: right;\">\n",
       "      <th></th>\n",
       "      <th>target</th>\n",
       "    </tr>\n",
       "    <tr>\n",
       "      <th>yoda</th>\n",
       "      <th></th>\n",
       "    </tr>\n",
       "  </thead>\n",
       "  <tbody>\n",
       "    <tr>\n",
       "      <th>18</th>\n",
       "      <td>0</td>\n",
       "    </tr>\n",
       "    <tr>\n",
       "      <th>106</th>\n",
       "      <td>0</td>\n",
       "    </tr>\n",
       "  </tbody>\n",
       "</table>\n",
       "</div>"
      ],
      "text/plain": [
       "      target\n",
       "yoda        \n",
       "18         0\n",
       "106        0"
      ]
     },
     "metadata": {},
     "output_type": "display_data"
    },
    {
     "data": {
      "text/html": [
       "<div>\n",
       "<table border=\"1\" class=\"dataframe\">\n",
       "  <thead>\n",
       "    <tr style=\"text-align: right;\">\n",
       "      <th></th>\n",
       "      <th>feat_0000</th>\n",
       "      <th>feat_0001</th>\n",
       "      <th>feat_0002</th>\n",
       "      <th>feat_0003</th>\n",
       "      <th>feat_0004</th>\n",
       "      <th>feat_0005</th>\n",
       "      <th>feat_0006</th>\n",
       "      <th>feat_0007</th>\n",
       "      <th>feat_0008</th>\n",
       "      <th>feat_0009</th>\n",
       "      <th>...</th>\n",
       "      <th>feat_4990</th>\n",
       "      <th>feat_4991</th>\n",
       "      <th>feat_4992</th>\n",
       "      <th>feat_4993</th>\n",
       "      <th>feat_4994</th>\n",
       "      <th>feat_4995</th>\n",
       "      <th>feat_4996</th>\n",
       "      <th>feat_4997</th>\n",
       "      <th>feat_4998</th>\n",
       "      <th>feat_4999</th>\n",
       "    </tr>\n",
       "    <tr>\n",
       "      <th>yoda</th>\n",
       "      <th></th>\n",
       "      <th></th>\n",
       "      <th></th>\n",
       "      <th></th>\n",
       "      <th></th>\n",
       "      <th></th>\n",
       "      <th></th>\n",
       "      <th></th>\n",
       "      <th></th>\n",
       "      <th></th>\n",
       "      <th></th>\n",
       "      <th></th>\n",
       "      <th></th>\n",
       "      <th></th>\n",
       "      <th></th>\n",
       "      <th></th>\n",
       "      <th></th>\n",
       "      <th></th>\n",
       "      <th></th>\n",
       "      <th></th>\n",
       "      <th></th>\n",
       "    </tr>\n",
       "  </thead>\n",
       "  <tbody>\n",
       "    <tr>\n",
       "      <th>18</th>\n",
       "      <td>-0.4572</td>\n",
       "      <td>0.2900</td>\n",
       "      <td>0.5762</td>\n",
       "      <td>-1.6100</td>\n",
       "      <td>-0.2477</td>\n",
       "      <td>-0.3815</td>\n",
       "      <td>-0.3846</td>\n",
       "      <td>0.6478</td>\n",
       "      <td>0.0559</td>\n",
       "      <td>0.7001</td>\n",
       "      <td>...</td>\n",
       "      <td>-0.0660</td>\n",
       "      <td>-0.8927</td>\n",
       "      <td>-0.3164</td>\n",
       "      <td>1.9057</td>\n",
       "      <td>0.2298</td>\n",
       "      <td>-1.1370</td>\n",
       "      <td>-0.3170</td>\n",
       "      <td>0.9600</td>\n",
       "      <td>-0.0202</td>\n",
       "      <td>-1.1258</td>\n",
       "    </tr>\n",
       "    <tr>\n",
       "      <th>106</th>\n",
       "      <td>-1.8831</td>\n",
       "      <td>-1.7341</td>\n",
       "      <td>-0.7100</td>\n",
       "      <td>0.2865</td>\n",
       "      <td>0.5292</td>\n",
       "      <td>-0.9739</td>\n",
       "      <td>-0.9715</td>\n",
       "      <td>0.0968</td>\n",
       "      <td>0.3402</td>\n",
       "      <td>-0.1513</td>\n",
       "      <td>...</td>\n",
       "      <td>1.7853</td>\n",
       "      <td>2.2229</td>\n",
       "      <td>-1.8270</td>\n",
       "      <td>0.0139</td>\n",
       "      <td>0.1885</td>\n",
       "      <td>0.5738</td>\n",
       "      <td>-0.2349</td>\n",
       "      <td>-0.6937</td>\n",
       "      <td>-0.1944</td>\n",
       "      <td>0.2580</td>\n",
       "    </tr>\n",
       "  </tbody>\n",
       "</table>\n",
       "<p>2 rows × 5000 columns</p>\n",
       "</div>"
      ],
      "text/plain": [
       "      feat_0000  feat_0001  feat_0002  feat_0003  feat_0004  feat_0005  \\\n",
       "yoda                                                                     \n",
       "18      -0.4572     0.2900     0.5762    -1.6100    -0.2477    -0.3815   \n",
       "106     -1.8831    -1.7341    -0.7100     0.2865     0.5292    -0.9739   \n",
       "\n",
       "      feat_0006  feat_0007  feat_0008  feat_0009    ...      feat_4990  \\\n",
       "yoda                                                ...                  \n",
       "18      -0.3846     0.6478     0.0559     0.7001    ...        -0.0660   \n",
       "106     -0.9715     0.0968     0.3402    -0.1513    ...         1.7853   \n",
       "\n",
       "      feat_4991  feat_4992  feat_4993  feat_4994  feat_4995  feat_4996  \\\n",
       "yoda                                                                     \n",
       "18      -0.8927    -0.3164     1.9057     0.2298    -1.1370    -0.3170   \n",
       "106      2.2229    -1.8270     0.0139     0.1885     0.5738    -0.2349   \n",
       "\n",
       "      feat_4997  feat_4998  feat_4999  \n",
       "yoda                                   \n",
       "18       0.9600    -0.0202    -1.1258  \n",
       "106     -0.6937    -0.1944     0.2580  \n",
       "\n",
       "[2 rows x 5000 columns]"
      ]
     },
     "metadata": {},
     "output_type": "display_data"
    }
   ],
   "source": [
    "display(target.head(2))\n",
    "display(madelon_df.head(2))"
   ]
  },
  {
   "cell_type": "code",
   "execution_count": 6,
   "metadata": {},
   "outputs": [
    {
     "name": "stdout",
     "output_type": "stream",
     "text": [
      "<class 'pandas.core.frame.DataFrame'>\n",
      "Int64Index: 220 entries, 18 to 21960\n",
      "Columns: 5000 entries, feat_0000 to feat_4999\n",
      "dtypes: float64(5000)\n",
      "memory usage: 8.4 MB\n"
     ]
    }
   ],
   "source": [
    "madelon_df.info()"
   ]
  },
  {
   "cell_type": "code",
   "execution_count": 3,
   "metadata": {
    "collapsed": true
   },
   "outputs": [],
   "source": [
    "from sklearn.preprocessing import StandardScaler\n",
    "from sklearn.model_selection import train_test_split, GridSearchCV\n",
    "from sklearn.feature_selection import SelectKBest, SelectPercentile, f_classif\n",
    "from sklearn import svm\n",
    "from sklearn.tree import DecisionTreeClassifier, DecisionTreeRegressor\n",
    "from sklearn.decomposition import PCA\n",
    "from sklearn.linear_model import Lasso, LogisticRegression,LinearRegression"
   ]
  },
  {
   "cell_type": "code",
   "execution_count": 4,
   "metadata": {},
   "outputs": [
    {
     "ename": "NameError",
     "evalue": "name 'madelon_df' is not defined",
     "output_type": "error",
     "traceback": [
      "\u001b[0;31m---------------------------------------------------------------------------\u001b[0m",
      "\u001b[0;31mNameError\u001b[0m                                 Traceback (most recent call last)",
      "\u001b[0;32m<ipython-input-4-4ade8e410d40>\u001b[0m in \u001b[0;36m<module>\u001b[0;34m()\u001b[0m\n\u001b[1;32m      1\u001b[0m \u001b[0mscaler\u001b[0m \u001b[0;34m=\u001b[0m \u001b[0mStandardScaler\u001b[0m\u001b[0;34m(\u001b[0m\u001b[0;34m)\u001b[0m\u001b[0;34m\u001b[0m\u001b[0m\n\u001b[0;32m----> 2\u001b[0;31m \u001b[0mscaled_madelon_df\u001b[0m\u001b[0;34m=\u001b[0m\u001b[0mscaler\u001b[0m\u001b[0;34m.\u001b[0m\u001b[0mfit_transform\u001b[0m\u001b[0;34m(\u001b[0m\u001b[0mmadelon_df\u001b[0m\u001b[0;34m)\u001b[0m\u001b[0;34m\u001b[0m\u001b[0m\n\u001b[0m",
      "\u001b[0;31mNameError\u001b[0m: name 'madelon_df' is not defined"
     ]
    }
   ],
   "source": [
    "scaler = StandardScaler()\n",
    "scaled_madelon_df=scaler.fit_transform(madelon_df)"
   ]
  },
  {
   "cell_type": "code",
   "execution_count": 5,
   "metadata": {},
   "outputs": [
    {
     "ename": "NameError",
     "evalue": "name 'scaled_madelon_df' is not defined",
     "output_type": "error",
     "traceback": [
      "\u001b[0;31m---------------------------------------------------------------------------\u001b[0m",
      "\u001b[0;31mNameError\u001b[0m                                 Traceback (most recent call last)",
      "\u001b[0;32m<ipython-input-5-4977546552f9>\u001b[0m in \u001b[0;36m<module>\u001b[0;34m()\u001b[0m\n\u001b[0;32m----> 1\u001b[0;31m \u001b[0mscaled_madelon_df\u001b[0m\u001b[0;34m.\u001b[0m\u001b[0mshape\u001b[0m\u001b[0;34m\u001b[0m\u001b[0m\n\u001b[0m",
      "\u001b[0;31mNameError\u001b[0m: name 'scaled_madelon_df' is not defined"
     ]
    }
   ],
   "source": [
    "scaled_madelon_df.shape"
   ]
  },
  {
   "cell_type": "markdown",
   "metadata": {},
   "source": [
    "# Step1 : Benchmarking\n",
    "#### KNC"
   ]
  },
  {
   "cell_type": "code",
   "execution_count": 6,
   "metadata": {
    "collapsed": true
   },
   "outputs": [],
   "source": [
    "from sklearn.model_selection import GridSearchCV, ShuffleSplit\n",
    "from sklearn.pipeline import Pipeline\n",
    "from sklearn.ensemble import RandomForestRegressor\n",
    "from sklearn.preprocessing import StandardScaler, MinMaxScaler\n",
    "from sklearn.linear_model import Lasso, Ridge\n",
    "from sklearn.decomposition import PCA\n",
    "from sklearn.neighbors import KNeighborsClassifier"
   ]
  },
  {
   "cell_type": "code",
   "execution_count": 7,
   "metadata": {
    "collapsed": true
   },
   "outputs": [],
   "source": [
    "benchmarking_pipe_for_gs = Pipeline([\n",
    "    ('knc',KNeighborsClassifier())\n",
    "                        ])"
   ]
  },
  {
   "cell_type": "code",
   "execution_count": 8,
   "metadata": {
    "collapsed": true
   },
   "outputs": [],
   "source": [
    "params = {}"
   ]
  },
  {
   "cell_type": "code",
   "execution_count": 9,
   "metadata": {
    "collapsed": true
   },
   "outputs": [],
   "source": [
    "gs_pipe = gspipe = GridSearchCV(benchmarking_pipe_for_gs,\n",
    "                      param_grid=params,\n",
    "                      n_jobs=-1,\n",
    "                      cv=ShuffleSplit(random_state=42)\n",
    "                     )"
   ]
  },
  {
   "cell_type": "code",
   "execution_count": 10,
   "metadata": {
    "scrolled": true
   },
   "outputs": [
    {
     "ename": "NameError",
     "evalue": "name 'madelon_df' is not defined",
     "output_type": "error",
     "traceback": [
      "\u001b[0;31m---------------------------------------------------------------------------\u001b[0m",
      "\u001b[0;31mNameError\u001b[0m                                 Traceback (most recent call last)",
      "\u001b[0;32m<ipython-input-10-964bc7af99f6>\u001b[0m in \u001b[0;36m<module>\u001b[0;34m()\u001b[0m\n\u001b[0;32m----> 1\u001b[0;31m \u001b[0mgspipe\u001b[0m\u001b[0;34m.\u001b[0m\u001b[0mfit\u001b[0m\u001b[0;34m(\u001b[0m\u001b[0mmadelon_df\u001b[0m\u001b[0;34m,\u001b[0m \u001b[0mnp\u001b[0m\u001b[0;34m.\u001b[0m\u001b[0mravel\u001b[0m\u001b[0;34m(\u001b[0m\u001b[0mtarget\u001b[0m\u001b[0;34m.\u001b[0m\u001b[0mvalues\u001b[0m\u001b[0;34m)\u001b[0m\u001b[0;34m)\u001b[0m\u001b[0;34m\u001b[0m\u001b[0m\n\u001b[0m",
      "\u001b[0;31mNameError\u001b[0m: name 'madelon_df' is not defined"
     ]
    }
   ],
   "source": [
    "gspipe.fit(madelon_df, np.ravel(target.values))"
   ]
  },
  {
   "cell_type": "code",
   "execution_count": 15,
   "metadata": {},
   "outputs": [
    {
     "data": {
      "text/plain": [
       "0.4681818181818182"
      ]
     },
     "execution_count": 15,
     "metadata": {},
     "output_type": "execute_result"
    }
   ],
   "source": [
    "gspipe.best_score_"
   ]
  },
  {
   "cell_type": "code",
   "execution_count": 16,
   "metadata": {
    "collapsed": true
   },
   "outputs": [
    {
     "data": {
      "text/html": [
       "<div>\n",
       "<table border=\"1\" class=\"dataframe\">\n",
       "  <thead>\n",
       "    <tr style=\"text-align: right;\">\n",
       "      <th></th>\n",
       "      <th>0</th>\n",
       "    </tr>\n",
       "  </thead>\n",
       "  <tbody>\n",
       "    <tr>\n",
       "      <th>mean_fit_time</th>\n",
       "      <td>0.3361</td>\n",
       "    </tr>\n",
       "    <tr>\n",
       "      <th>mean_score_time</th>\n",
       "      <td>0.0005736</td>\n",
       "    </tr>\n",
       "    <tr>\n",
       "      <th>mean_test_score</th>\n",
       "      <td>0.4682</td>\n",
       "    </tr>\n",
       "    <tr>\n",
       "      <th>mean_train_score</th>\n",
       "      <td>1</td>\n",
       "    </tr>\n",
       "    <tr>\n",
       "      <th>params</th>\n",
       "      <td>{}</td>\n",
       "    </tr>\n",
       "    <tr>\n",
       "      <th>rank_test_score</th>\n",
       "      <td>1</td>\n",
       "    </tr>\n",
       "    <tr>\n",
       "      <th>split0_test_score</th>\n",
       "      <td>0.6364</td>\n",
       "    </tr>\n",
       "    <tr>\n",
       "      <th>split0_train_score</th>\n",
       "      <td>1</td>\n",
       "    </tr>\n",
       "    <tr>\n",
       "      <th>split1_test_score</th>\n",
       "      <td>0.5</td>\n",
       "    </tr>\n",
       "    <tr>\n",
       "      <th>split1_train_score</th>\n",
       "      <td>1</td>\n",
       "    </tr>\n",
       "    <tr>\n",
       "      <th>split2_test_score</th>\n",
       "      <td>0.4545</td>\n",
       "    </tr>\n",
       "    <tr>\n",
       "      <th>split2_train_score</th>\n",
       "      <td>1</td>\n",
       "    </tr>\n",
       "    <tr>\n",
       "      <th>split3_test_score</th>\n",
       "      <td>0.5455</td>\n",
       "    </tr>\n",
       "    <tr>\n",
       "      <th>split3_train_score</th>\n",
       "      <td>1</td>\n",
       "    </tr>\n",
       "    <tr>\n",
       "      <th>split4_test_score</th>\n",
       "      <td>0.4545</td>\n",
       "    </tr>\n",
       "    <tr>\n",
       "      <th>split4_train_score</th>\n",
       "      <td>1</td>\n",
       "    </tr>\n",
       "    <tr>\n",
       "      <th>split5_test_score</th>\n",
       "      <td>0.3636</td>\n",
       "    </tr>\n",
       "    <tr>\n",
       "      <th>split5_train_score</th>\n",
       "      <td>1</td>\n",
       "    </tr>\n",
       "    <tr>\n",
       "      <th>split6_test_score</th>\n",
       "      <td>0.3182</td>\n",
       "    </tr>\n",
       "    <tr>\n",
       "      <th>split6_train_score</th>\n",
       "      <td>1</td>\n",
       "    </tr>\n",
       "    <tr>\n",
       "      <th>split7_test_score</th>\n",
       "      <td>0.4091</td>\n",
       "    </tr>\n",
       "    <tr>\n",
       "      <th>split7_train_score</th>\n",
       "      <td>1</td>\n",
       "    </tr>\n",
       "    <tr>\n",
       "      <th>split8_test_score</th>\n",
       "      <td>0.4091</td>\n",
       "    </tr>\n",
       "    <tr>\n",
       "      <th>split8_train_score</th>\n",
       "      <td>1</td>\n",
       "    </tr>\n",
       "    <tr>\n",
       "      <th>split9_test_score</th>\n",
       "      <td>0.5909</td>\n",
       "    </tr>\n",
       "    <tr>\n",
       "      <th>split9_train_score</th>\n",
       "      <td>1</td>\n",
       "    </tr>\n",
       "    <tr>\n",
       "      <th>std_fit_time</th>\n",
       "      <td>0.01274</td>\n",
       "    </tr>\n",
       "    <tr>\n",
       "      <th>std_score_time</th>\n",
       "      <td>0.0003172</td>\n",
       "    </tr>\n",
       "    <tr>\n",
       "      <th>std_test_score</th>\n",
       "      <td>0.09545</td>\n",
       "    </tr>\n",
       "    <tr>\n",
       "      <th>std_train_score</th>\n",
       "      <td>0</td>\n",
       "    </tr>\n",
       "  </tbody>\n",
       "</table>\n",
       "</div>"
      ],
      "text/plain": [
       "                            0\n",
       "mean_fit_time          0.3361\n",
       "mean_score_time     0.0005736\n",
       "mean_test_score        0.4682\n",
       "mean_train_score            1\n",
       "params                     {}\n",
       "rank_test_score             1\n",
       "split0_test_score      0.6364\n",
       "split0_train_score          1\n",
       "split1_test_score         0.5\n",
       "split1_train_score          1\n",
       "split2_test_score      0.4545\n",
       "split2_train_score          1\n",
       "split3_test_score      0.5455\n",
       "split3_train_score          1\n",
       "split4_test_score      0.4545\n",
       "split4_train_score          1\n",
       "split5_test_score      0.3636\n",
       "split5_train_score          1\n",
       "split6_test_score      0.3182\n",
       "split6_train_score          1\n",
       "split7_test_score      0.4091\n",
       "split7_train_score          1\n",
       "split8_test_score      0.4091\n",
       "split8_train_score          1\n",
       "split9_test_score      0.5909\n",
       "split9_train_score          1\n",
       "std_fit_time          0.01274\n",
       "std_score_time      0.0003172\n",
       "std_test_score        0.09545\n",
       "std_train_score             0"
      ]
     },
     "execution_count": 16,
     "metadata": {},
     "output_type": "execute_result"
    }
   ],
   "source": [
    "gspipe_results = pd.DataFrame(gspipe.cv_results_)\n",
    "gspipe_results.sort_values('rank_test_score', ascending=True).T"
   ]
  },
  {
   "cell_type": "code",
   "execution_count": 17,
   "metadata": {},
   "outputs": [
    {
     "data": {
      "text/plain": [
       "0.3361344814300537"
      ]
     },
     "execution_count": 17,
     "metadata": {},
     "output_type": "execute_result"
    }
   ],
   "source": [
    "gspipe_results['mean_fit_time'].sum()"
   ]
  },
  {
   "cell_type": "code",
   "execution_count": 18,
   "metadata": {
    "collapsed": true
   },
   "outputs": [
    {
     "name": "stdout",
     "output_type": "stream",
     "text": [
      "<class 'pandas.core.frame.DataFrame'>\n",
      "RangeIndex: 1 entries, 0 to 0\n",
      "Data columns (total 30 columns):\n",
      "mean_fit_time         1 non-null float64\n",
      "mean_score_time       1 non-null float64\n",
      "mean_test_score       1 non-null float64\n",
      "mean_train_score      1 non-null float64\n",
      "params                1 non-null object\n",
      "rank_test_score       1 non-null int32\n",
      "split0_test_score     1 non-null float64\n",
      "split0_train_score    1 non-null float64\n",
      "split1_test_score     1 non-null float64\n",
      "split1_train_score    1 non-null float64\n",
      "split2_test_score     1 non-null float64\n",
      "split2_train_score    1 non-null float64\n",
      "split3_test_score     1 non-null float64\n",
      "split3_train_score    1 non-null float64\n",
      "split4_test_score     1 non-null float64\n",
      "split4_train_score    1 non-null float64\n",
      "split5_test_score     1 non-null float64\n",
      "split5_train_score    1 non-null float64\n",
      "split6_test_score     1 non-null float64\n",
      "split6_train_score    1 non-null float64\n",
      "split7_test_score     1 non-null float64\n",
      "split7_train_score    1 non-null float64\n",
      "split8_test_score     1 non-null float64\n",
      "split8_train_score    1 non-null float64\n",
      "split9_test_score     1 non-null float64\n",
      "split9_train_score    1 non-null float64\n",
      "std_fit_time          1 non-null float64\n",
      "std_score_time        1 non-null float64\n",
      "std_test_score        1 non-null float64\n",
      "std_train_score       1 non-null float64\n",
      "dtypes: float64(28), int32(1), object(1)\n",
      "memory usage: 580.0 bytes\n"
     ]
    }
   ],
   "source": [
    "gspipe_results.info(memory_usage='deep')"
   ]
  },
  {
   "cell_type": "code",
   "execution_count": 19,
   "metadata": {
    "collapsed": true
   },
   "outputs": [],
   "source": [
    "print(\"Best Score .1% data:\",gspipe.best_score_)\n",
    "    \n",
    "### Bench Marking for .1% (220 rows)\n",
    "picked_GS_BenchMarkig_220row = \\\n",
    "        pd.DataFrame.to_pickle(gspipe_results,\\\n",
    "        '/home/jovyan/work/DSI/projects/project_3/data/GS_BenchMarkig_knc_pt1_percent')"
   ]
  },
  {
   "cell_type": "code",
   "execution_count": null,
   "metadata": {
    "collapsed": true
   },
   "outputs": [],
   "source": [
    "### Bench Marking for .5% (1100 rows)\n",
    "\n",
    "gspipe.fit(madelon_df1100, np.ravel(target1100.values))\n",
    "gspipe_results = pd.DataFrame(gspipe.cv_results_)\n",
    "print(\"Fit time .5% data: \", gspipe_results['mean_fit_time'].sum())\n",
    "print(\"Best Score .5% data:\",gspipe.best_score_)\n",
    "gspipe_results_1100 = pd.DataFrame(gspipe.cv_results_)\n",
    "picked_GS_BenchMarkig1100row = \\\n",
    "        pd.DataFrame.to_pickle(gspipe_results_1100,\\\n",
    "        '/home/jovyan/work/DSI/projects/project_3/data/GS_BenchMarkig_knc_pt5_percent')\n",
    "    "
   ]
  },
  {
   "cell_type": "code",
   "execution_count": null,
   "metadata": {
    "collapsed": true
   },
   "outputs": [],
   "source": [
    "### Bench Marking for 1% (2200 rows)\n",
    "\n",
    "gspipe.fit(madelon_df2200, np.ravel(target2200.values))\n",
    "gspipe_results = pd.DataFrame(gspipe.cv_results_)\n",
    "print(\"Fit time 1% data: \", gspipe_results['mean_fit_time'].sum())\n",
    "print(\"Best Score 1% data:\",gspipe.best_score_)\n",
    "gspipe_results_2200 = pd.DataFrame(gspipe.cv_results_)\n",
    "picked_GS_BenchMarkig_2200row = \\\n",
    "        pd.DataFrame.to_pickle(gspipe_results_2200,\\\n",
    "        '/home/jovyan/work/DSI/projects/project_3/data/GS_BenchMarkig_knc_1_percent')\n",
    "    "
   ]
  },
  {
   "cell_type": "code",
   "execution_count": null,
   "metadata": {
    "collapsed": true
   },
   "outputs": [],
   "source": []
  }
 ],
 "metadata": {
  "kernelspec": {
   "display_name": "Python 3",
   "language": "python",
   "name": "python3"
  },
  "language_info": {
   "codemirror_mode": {
    "name": "ipython",
    "version": 3
   },
   "file_extension": ".py",
   "mimetype": "text/x-python",
   "name": "python",
   "nbconvert_exporter": "python",
   "pygments_lexer": "ipython3",
   "version": "3.5.2"
  }
 },
 "nbformat": 4,
 "nbformat_minor": 2
}
