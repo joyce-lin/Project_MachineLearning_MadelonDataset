{
 "cells": [
  {
   "cell_type": "code",
   "execution_count": 1,
   "metadata": {
    "collapsed": true
   },
   "outputs": [],
   "source": [
    "from os import chdir\n",
    "chdir('../')\n",
    "%matplotlib inline\n",
    "from lib import *\n",
    "\n",
    "pd.options.display.precision = 4\n",
    "import matplotlib as mpl\n",
    "mpl.rcParams['font.family'] = 'Lato'\n",
    "mpl.rcParams['font.weight'] = 700\n",
    "sns.set(font='Lato', font_scale=1)\n",
    "sns.set()\n",
    "np.random.seed(42)\n",
    "suppress_warnings()"
   ]
  },
  {
   "cell_type": "code",
   "execution_count": 2,
   "metadata": {
    "collapsed": true,
    "scrolled": true
   },
   "outputs": [],
   "source": [
    "feature = pd.read_pickle('/home/jovyan/work/DSI/projects/project_3/data/feature')\n",
    "target= pd.read_pickle('/home/jovyan/work/DSI/projects/project_3/data/target')"
   ]
  },
  {
   "cell_type": "code",
   "execution_count": 3,
   "metadata": {},
   "outputs": [
    {
     "data": {
      "text/plain": [
       "(10767, 1000)"
      ]
     },
     "metadata": {},
     "output_type": "display_data"
    },
    {
     "data": {
      "text/plain": [
       "(10767, 1)"
      ]
     },
     "metadata": {},
     "output_type": "display_data"
    }
   ],
   "source": [
    "display(feature.shape)\n",
    "display(target.shape)"
   ]
  },
  {
   "cell_type": "code",
   "execution_count": 4,
   "metadata": {
    "collapsed": true
   },
   "outputs": [],
   "source": [
    "from sklearn.preprocessing import StandardScaler\n",
    "from sklearn.model_selection import train_test_split, GridSearchCV, ShuffleSplit\n",
    "from sklearn.feature_selection import SelectKBest, SelectPercentile, f_classif\n",
    "from sklearn import svm\n",
    "from sklearn.tree import DecisionTreeClassifier, DecisionTreeRegressor\n",
    "from sklearn.decomposition import PCA\n",
    "from sklearn.linear_model import Lasso, LogisticRegression,LinearRegression\n",
    "from sklearn.pipeline import Pipeline"
   ]
  },
  {
   "cell_type": "markdown",
   "metadata": {},
   "source": [
    "# Step 2 Identify Features"
   ]
  },
  {
   "cell_type": "code",
   "execution_count": 5,
   "metadata": {
    "collapsed": true
   },
   "outputs": [],
   "source": [
    "from sklearn.feature_selection import SelectKBest, \\\n",
    "                                      SelectFromModel, \\\n",
    "                                      RFE, SelectPercentile, \\\n",
    "                                      SelectFdr, SelectFpr\n",
    "from sklearn.feature_selection import f_regression, f_classif\n",
    "from sklearn.neighbors import KNeighborsClassifier"
   ]
  },
  {
   "cell_type": "markdown",
   "metadata": {},
   "source": [
    "### Pipeline 2: SKB, PCA, SFM, KNC"
   ]
  },
  {
   "cell_type": "code",
   "execution_count": 6,
   "metadata": {
    "collapsed": true
   },
   "outputs": [],
   "source": [
    "pipe_for_gs = Pipeline([\n",
    "    ('skb', SelectKBest(score_func=f_classif)),\n",
    "    ('pca',PCA(random_state=42)),\n",
    "    ('sfm', SelectFromModel(LogisticRegression())),\n",
    "    ('knc', KNeighborsClassifier())\n",
    "])"
   ]
  },
  {
   "cell_type": "code",
   "execution_count": 7,
   "metadata": {
    "collapsed": true
   },
   "outputs": [],
   "source": [
    "params = {    \n",
    "    'skb__k':[250,500],\n",
    "    'pca__n_components':[50,100,150],\n",
    "    'sfm__estimator':[LogisticRegression(C=0.1,penalty='l1',random_state=42),\n",
    "                      LogisticRegression(C=1,penalty='l1',random_state=42),\n",
    "                      LogisticRegression(C=10,penalty='l1',random_state=42),\n",
    "                      LogisticRegression(C=1e2,penalty='l1',random_state=42),\n",
    "                      LogisticRegression(C=1e3,penalty='l1',random_state=42),\n",
    "                      LogisticRegression(C=1e4,penalty='l1',random_state=42)]\n",
    "}"
   ]
  },
  {
   "cell_type": "code",
   "execution_count": 8,
   "metadata": {
    "collapsed": true
   },
   "outputs": [],
   "source": [
    "gspipe = GridSearchCV(pipe_for_gs,\n",
    "                      param_grid=params,\n",
    "                      n_jobs=-1,\n",
    "                      cv=ShuffleSplit(random_state=42))"
   ]
  },
  {
   "cell_type": "code",
   "execution_count": 9,
   "metadata": {},
   "outputs": [
    {
     "data": {
      "text/plain": [
       "GridSearchCV(cv=ShuffleSplit(n_splits=10, random_state=42, test_size=0.1, train_size=None),\n",
       "       error_score='raise',\n",
       "       estimator=Pipeline(steps=[('skb', SelectKBest(k=10, score_func=<function f_classif at 0x7fafbe79b7b8>)), ('pca', PCA(copy=True, iterated_power='auto', n_components=None, random_state=42,\n",
       "  svd_solver='auto', tol=0.0, whiten=False)), ('sfm', SelectFromModel(estimator=LogisticRegression(C=1.0, class_weight=None, dual=Fa...owski',\n",
       "           metric_params=None, n_jobs=1, n_neighbors=5, p=2,\n",
       "           weights='uniform'))]),\n",
       "       fit_params={}, iid=True, n_jobs=-1,\n",
       "       param_grid={'skb__k': [250, 500], 'sfm__estimator': [LogisticRegression(C=0.1, class_weight=None, dual=False, fit_intercept=True,\n",
       "          intercept_scaling=1, max_iter=100, multi_class='ovr', n_jobs=1,\n",
       "          penalty='l1', random_state=42, solver='liblinear', tol=0.0001,\n",
       "          verbose=0, wa... solver='liblinear', tol=0.0001, verbose=0, warm_start=False)], 'pca__n_components': [50, 100, 150]},\n",
       "       pre_dispatch='2*n_jobs', refit=True, return_train_score=True,\n",
       "       scoring=None, verbose=0)"
      ]
     },
     "execution_count": 9,
     "metadata": {},
     "output_type": "execute_result"
    }
   ],
   "source": [
    "gspipe.fit(feature[:220], np.ravel(target[:220].values))"
   ]
  },
  {
   "cell_type": "code",
   "execution_count": 10,
   "metadata": {},
   "outputs": [
    {
     "data": {
      "text/plain": [
       "0.56818181818181823"
      ]
     },
     "execution_count": 10,
     "metadata": {},
     "output_type": "execute_result"
    }
   ],
   "source": [
    "gspipe.best_score_"
   ]
  },
  {
   "cell_type": "code",
   "execution_count": 11,
   "metadata": {},
   "outputs": [
    {
     "data": {
      "text/plain": [
       "{'knc': KNeighborsClassifier(algorithm='auto', leaf_size=30, metric='minkowski',\n",
       "            metric_params=None, n_jobs=1, n_neighbors=5, p=2,\n",
       "            weights='uniform'),\n",
       " 'pca': PCA(copy=True, iterated_power='auto', n_components=50, random_state=42,\n",
       "   svd_solver='auto', tol=0.0, whiten=False),\n",
       " 'sfm': SelectFromModel(estimator=LogisticRegression(C=0.1, class_weight=None, dual=False, fit_intercept=True,\n",
       "           intercept_scaling=1, max_iter=100, multi_class='ovr', n_jobs=1,\n",
       "           penalty='l1', random_state=42, solver='liblinear', tol=0.0001,\n",
       "           verbose=0, warm_start=False),\n",
       "         prefit=False, threshold=None),\n",
       " 'skb': SelectKBest(k=500, score_func=<function f_classif at 0x7fafbe79b7b8>)}"
      ]
     },
     "execution_count": 11,
     "metadata": {},
     "output_type": "execute_result"
    }
   ],
   "source": [
    "gspipe.best_estimator_.named_steps"
   ]
  },
  {
   "cell_type": "code",
   "execution_count": 12,
   "metadata": {},
   "outputs": [
    {
     "data": {
      "text/html": [
       "<div>\n",
       "<table border=\"1\" class=\"dataframe\">\n",
       "  <thead>\n",
       "    <tr style=\"text-align: right;\">\n",
       "      <th></th>\n",
       "      <th>1</th>\n",
       "      <th>17</th>\n",
       "      <th>15</th>\n",
       "      <th>29</th>\n",
       "      <th>27</th>\n",
       "      <th>25</th>\n",
       "      <th>13</th>\n",
       "      <th>33</th>\n",
       "      <th>19</th>\n",
       "      <th>35</th>\n",
       "      <th>...</th>\n",
       "      <th>4</th>\n",
       "      <th>8</th>\n",
       "      <th>12</th>\n",
       "      <th>24</th>\n",
       "      <th>10</th>\n",
       "      <th>32</th>\n",
       "      <th>22</th>\n",
       "      <th>0</th>\n",
       "      <th>26</th>\n",
       "      <th>30</th>\n",
       "    </tr>\n",
       "  </thead>\n",
       "  <tbody>\n",
       "    <tr>\n",
       "      <th>mean_fit_time</th>\n",
       "      <td>0.03691</td>\n",
       "      <td>0.04746</td>\n",
       "      <td>0.05511</td>\n",
       "      <td>0.04607</td>\n",
       "      <td>0.0433</td>\n",
       "      <td>0.03823</td>\n",
       "      <td>0.03773</td>\n",
       "      <td>0.04101</td>\n",
       "      <td>0.05131</td>\n",
       "      <td>0.04299</td>\n",
       "      <td>...</td>\n",
       "      <td>0.03969</td>\n",
       "      <td>0.03993</td>\n",
       "      <td>0.0251</td>\n",
       "      <td>0.02503</td>\n",
       "      <td>0.04271</td>\n",
       "      <td>0.03069</td>\n",
       "      <td>0.0268</td>\n",
       "      <td>0.02784</td>\n",
       "      <td>0.02731</td>\n",
       "      <td>0.03443</td>\n",
       "    </tr>\n",
       "    <tr>\n",
       "      <th>mean_score_time</th>\n",
       "      <td>0.001474</td>\n",
       "      <td>0.001987</td>\n",
       "      <td>0.002841</td>\n",
       "      <td>0.002488</td>\n",
       "      <td>0.002106</td>\n",
       "      <td>0.002027</td>\n",
       "      <td>0.00285</td>\n",
       "      <td>0.002433</td>\n",
       "      <td>0.002309</td>\n",
       "      <td>0.002576</td>\n",
       "      <td>...</td>\n",
       "      <td>0.00147</td>\n",
       "      <td>0.001303</td>\n",
       "      <td>0.001261</td>\n",
       "      <td>0.001351</td>\n",
       "      <td>0.001304</td>\n",
       "      <td>0.003302</td>\n",
       "      <td>0.001676</td>\n",
       "      <td>0.001369</td>\n",
       "      <td>0.001658</td>\n",
       "      <td>0.00204</td>\n",
       "    </tr>\n",
       "    <tr>\n",
       "      <th>mean_test_score</th>\n",
       "      <td>0.5682</td>\n",
       "      <td>0.5591</td>\n",
       "      <td>0.5545</td>\n",
       "      <td>0.5455</td>\n",
       "      <td>0.5455</td>\n",
       "      <td>0.5409</td>\n",
       "      <td>0.5409</td>\n",
       "      <td>0.5364</td>\n",
       "      <td>0.5364</td>\n",
       "      <td>0.5364</td>\n",
       "      <td>...</td>\n",
       "      <td>0.5</td>\n",
       "      <td>0.5</td>\n",
       "      <td>0.5</td>\n",
       "      <td>0.5</td>\n",
       "      <td>0.5</td>\n",
       "      <td>0.4955</td>\n",
       "      <td>0.4955</td>\n",
       "      <td>0.4909</td>\n",
       "      <td>0.4864</td>\n",
       "      <td>0.4864</td>\n",
       "    </tr>\n",
       "    <tr>\n",
       "      <th>mean_train_score</th>\n",
       "      <td>0.7005</td>\n",
       "      <td>0.6934</td>\n",
       "      <td>0.6854</td>\n",
       "      <td>0.6985</td>\n",
       "      <td>0.701</td>\n",
       "      <td>0.7005</td>\n",
       "      <td>0.701</td>\n",
       "      <td>0.703</td>\n",
       "      <td>0.702</td>\n",
       "      <td>0.7045</td>\n",
       "      <td>...</td>\n",
       "      <td>0.7015</td>\n",
       "      <td>0.7005</td>\n",
       "      <td>0.7081</td>\n",
       "      <td>0.7081</td>\n",
       "      <td>0.7005</td>\n",
       "      <td>0.7045</td>\n",
       "      <td>0.703</td>\n",
       "      <td>0.7061</td>\n",
       "      <td>0.704</td>\n",
       "      <td>0.7015</td>\n",
       "    </tr>\n",
       "    <tr>\n",
       "      <th>param_pca__n_components</th>\n",
       "      <td>50</td>\n",
       "      <td>100</td>\n",
       "      <td>100</td>\n",
       "      <td>150</td>\n",
       "      <td>150</td>\n",
       "      <td>150</td>\n",
       "      <td>100</td>\n",
       "      <td>150</td>\n",
       "      <td>100</td>\n",
       "      <td>150</td>\n",
       "      <td>...</td>\n",
       "      <td>50</td>\n",
       "      <td>50</td>\n",
       "      <td>100</td>\n",
       "      <td>150</td>\n",
       "      <td>50</td>\n",
       "      <td>150</td>\n",
       "      <td>100</td>\n",
       "      <td>50</td>\n",
       "      <td>150</td>\n",
       "      <td>150</td>\n",
       "    </tr>\n",
       "    <tr>\n",
       "      <th>param_sfm__estimator</th>\n",
       "      <td>LogisticRegression(C=0.1, class_weight=None, d...</td>\n",
       "      <td>LogisticRegression(C=10, class_weight=None, du...</td>\n",
       "      <td>LogisticRegression(C=1, class_weight=None, dua...</td>\n",
       "      <td>LogisticRegression(C=10, class_weight=None, du...</td>\n",
       "      <td>LogisticRegression(C=1, class_weight=None, dua...</td>\n",
       "      <td>LogisticRegression(C=0.1, class_weight=None, d...</td>\n",
       "      <td>LogisticRegression(C=0.1, class_weight=None, d...</td>\n",
       "      <td>LogisticRegression(C=1000.0, class_weight=None...</td>\n",
       "      <td>LogisticRegression(C=100.0, class_weight=None,...</td>\n",
       "      <td>LogisticRegression(C=10000.0, class_weight=Non...</td>\n",
       "      <td>...</td>\n",
       "      <td>LogisticRegression(C=10, class_weight=None, du...</td>\n",
       "      <td>LogisticRegression(C=1000.0, class_weight=None...</td>\n",
       "      <td>LogisticRegression(C=0.1, class_weight=None, d...</td>\n",
       "      <td>LogisticRegression(C=0.1, class_weight=None, d...</td>\n",
       "      <td>LogisticRegression(C=10000.0, class_weight=Non...</td>\n",
       "      <td>LogisticRegression(C=1000.0, class_weight=None...</td>\n",
       "      <td>LogisticRegression(C=10000.0, class_weight=Non...</td>\n",
       "      <td>LogisticRegression(C=0.1, class_weight=None, d...</td>\n",
       "      <td>LogisticRegression(C=1, class_weight=None, dua...</td>\n",
       "      <td>LogisticRegression(C=100.0, class_weight=None,...</td>\n",
       "    </tr>\n",
       "  </tbody>\n",
       "</table>\n",
       "<p>6 rows × 36 columns</p>\n",
       "</div>"
      ],
      "text/plain": [
       "                                                                        1   \\\n",
       "mean_fit_time                                                      0.03691   \n",
       "mean_score_time                                                   0.001474   \n",
       "mean_test_score                                                     0.5682   \n",
       "mean_train_score                                                    0.7005   \n",
       "param_pca__n_components                                                 50   \n",
       "param_sfm__estimator     LogisticRegression(C=0.1, class_weight=None, d...   \n",
       "\n",
       "                                                                        17  \\\n",
       "mean_fit_time                                                      0.04746   \n",
       "mean_score_time                                                   0.001987   \n",
       "mean_test_score                                                     0.5591   \n",
       "mean_train_score                                                    0.6934   \n",
       "param_pca__n_components                                                100   \n",
       "param_sfm__estimator     LogisticRegression(C=10, class_weight=None, du...   \n",
       "\n",
       "                                                                        15  \\\n",
       "mean_fit_time                                                      0.05511   \n",
       "mean_score_time                                                   0.002841   \n",
       "mean_test_score                                                     0.5545   \n",
       "mean_train_score                                                    0.6854   \n",
       "param_pca__n_components                                                100   \n",
       "param_sfm__estimator     LogisticRegression(C=1, class_weight=None, dua...   \n",
       "\n",
       "                                                                        29  \\\n",
       "mean_fit_time                                                      0.04607   \n",
       "mean_score_time                                                   0.002488   \n",
       "mean_test_score                                                     0.5455   \n",
       "mean_train_score                                                    0.6985   \n",
       "param_pca__n_components                                                150   \n",
       "param_sfm__estimator     LogisticRegression(C=10, class_weight=None, du...   \n",
       "\n",
       "                                                                        27  \\\n",
       "mean_fit_time                                                       0.0433   \n",
       "mean_score_time                                                   0.002106   \n",
       "mean_test_score                                                     0.5455   \n",
       "mean_train_score                                                     0.701   \n",
       "param_pca__n_components                                                150   \n",
       "param_sfm__estimator     LogisticRegression(C=1, class_weight=None, dua...   \n",
       "\n",
       "                                                                        25  \\\n",
       "mean_fit_time                                                      0.03823   \n",
       "mean_score_time                                                   0.002027   \n",
       "mean_test_score                                                     0.5409   \n",
       "mean_train_score                                                    0.7005   \n",
       "param_pca__n_components                                                150   \n",
       "param_sfm__estimator     LogisticRegression(C=0.1, class_weight=None, d...   \n",
       "\n",
       "                                                                        13  \\\n",
       "mean_fit_time                                                      0.03773   \n",
       "mean_score_time                                                    0.00285   \n",
       "mean_test_score                                                     0.5409   \n",
       "mean_train_score                                                     0.701   \n",
       "param_pca__n_components                                                100   \n",
       "param_sfm__estimator     LogisticRegression(C=0.1, class_weight=None, d...   \n",
       "\n",
       "                                                                        33  \\\n",
       "mean_fit_time                                                      0.04101   \n",
       "mean_score_time                                                   0.002433   \n",
       "mean_test_score                                                     0.5364   \n",
       "mean_train_score                                                     0.703   \n",
       "param_pca__n_components                                                150   \n",
       "param_sfm__estimator     LogisticRegression(C=1000.0, class_weight=None...   \n",
       "\n",
       "                                                                        19  \\\n",
       "mean_fit_time                                                      0.05131   \n",
       "mean_score_time                                                   0.002309   \n",
       "mean_test_score                                                     0.5364   \n",
       "mean_train_score                                                     0.702   \n",
       "param_pca__n_components                                                100   \n",
       "param_sfm__estimator     LogisticRegression(C=100.0, class_weight=None,...   \n",
       "\n",
       "                                                                        35  \\\n",
       "mean_fit_time                                                      0.04299   \n",
       "mean_score_time                                                   0.002576   \n",
       "mean_test_score                                                     0.5364   \n",
       "mean_train_score                                                    0.7045   \n",
       "param_pca__n_components                                                150   \n",
       "param_sfm__estimator     LogisticRegression(C=10000.0, class_weight=Non...   \n",
       "\n",
       "                                               ...                          \\\n",
       "mean_fit_time                                  ...                           \n",
       "mean_score_time                                ...                           \n",
       "mean_test_score                                ...                           \n",
       "mean_train_score                               ...                           \n",
       "param_pca__n_components                        ...                           \n",
       "param_sfm__estimator                           ...                           \n",
       "\n",
       "                                                                        4   \\\n",
       "mean_fit_time                                                      0.03969   \n",
       "mean_score_time                                                    0.00147   \n",
       "mean_test_score                                                        0.5   \n",
       "mean_train_score                                                    0.7015   \n",
       "param_pca__n_components                                                 50   \n",
       "param_sfm__estimator     LogisticRegression(C=10, class_weight=None, du...   \n",
       "\n",
       "                                                                        8   \\\n",
       "mean_fit_time                                                      0.03993   \n",
       "mean_score_time                                                   0.001303   \n",
       "mean_test_score                                                        0.5   \n",
       "mean_train_score                                                    0.7005   \n",
       "param_pca__n_components                                                 50   \n",
       "param_sfm__estimator     LogisticRegression(C=1000.0, class_weight=None...   \n",
       "\n",
       "                                                                        12  \\\n",
       "mean_fit_time                                                       0.0251   \n",
       "mean_score_time                                                   0.001261   \n",
       "mean_test_score                                                        0.5   \n",
       "mean_train_score                                                    0.7081   \n",
       "param_pca__n_components                                                100   \n",
       "param_sfm__estimator     LogisticRegression(C=0.1, class_weight=None, d...   \n",
       "\n",
       "                                                                        24  \\\n",
       "mean_fit_time                                                      0.02503   \n",
       "mean_score_time                                                   0.001351   \n",
       "mean_test_score                                                        0.5   \n",
       "mean_train_score                                                    0.7081   \n",
       "param_pca__n_components                                                150   \n",
       "param_sfm__estimator     LogisticRegression(C=0.1, class_weight=None, d...   \n",
       "\n",
       "                                                                        10  \\\n",
       "mean_fit_time                                                      0.04271   \n",
       "mean_score_time                                                   0.001304   \n",
       "mean_test_score                                                        0.5   \n",
       "mean_train_score                                                    0.7005   \n",
       "param_pca__n_components                                                 50   \n",
       "param_sfm__estimator     LogisticRegression(C=10000.0, class_weight=Non...   \n",
       "\n",
       "                                                                        32  \\\n",
       "mean_fit_time                                                      0.03069   \n",
       "mean_score_time                                                   0.003302   \n",
       "mean_test_score                                                     0.4955   \n",
       "mean_train_score                                                    0.7045   \n",
       "param_pca__n_components                                                150   \n",
       "param_sfm__estimator     LogisticRegression(C=1000.0, class_weight=None...   \n",
       "\n",
       "                                                                        22  \\\n",
       "mean_fit_time                                                       0.0268   \n",
       "mean_score_time                                                   0.001676   \n",
       "mean_test_score                                                     0.4955   \n",
       "mean_train_score                                                     0.703   \n",
       "param_pca__n_components                                                100   \n",
       "param_sfm__estimator     LogisticRegression(C=10000.0, class_weight=Non...   \n",
       "\n",
       "                                                                        0   \\\n",
       "mean_fit_time                                                      0.02784   \n",
       "mean_score_time                                                   0.001369   \n",
       "mean_test_score                                                     0.4909   \n",
       "mean_train_score                                                    0.7061   \n",
       "param_pca__n_components                                                 50   \n",
       "param_sfm__estimator     LogisticRegression(C=0.1, class_weight=None, d...   \n",
       "\n",
       "                                                                        26  \\\n",
       "mean_fit_time                                                      0.02731   \n",
       "mean_score_time                                                   0.001658   \n",
       "mean_test_score                                                     0.4864   \n",
       "mean_train_score                                                     0.704   \n",
       "param_pca__n_components                                                150   \n",
       "param_sfm__estimator     LogisticRegression(C=1, class_weight=None, dua...   \n",
       "\n",
       "                                                                        30  \n",
       "mean_fit_time                                                      0.03443  \n",
       "mean_score_time                                                    0.00204  \n",
       "mean_test_score                                                     0.4864  \n",
       "mean_train_score                                                    0.7015  \n",
       "param_pca__n_components                                                150  \n",
       "param_sfm__estimator     LogisticRegression(C=100.0, class_weight=None,...  \n",
       "\n",
       "[6 rows x 36 columns]"
      ]
     },
     "execution_count": 12,
     "metadata": {},
     "output_type": "execute_result"
    }
   ],
   "source": [
    "gspipe_results = pd.DataFrame(gspipe.cv_results_)\n",
    "gspipe_results.sort_values('rank_test_score', ascending=True).T.head(6)"
   ]
  },
  {
   "cell_type": "code",
   "execution_count": 13,
   "metadata": {},
   "outputs": [
    {
     "data": {
      "text/plain": [
       "1.4230743885040282"
      ]
     },
     "execution_count": 13,
     "metadata": {},
     "output_type": "execute_result"
    }
   ],
   "source": [
    "gspipe_results['mean_fit_time'].sum()"
   ]
  },
  {
   "cell_type": "code",
   "execution_count": 14,
   "metadata": {
    "collapsed": true
   },
   "outputs": [],
   "source": [
    "#gspipe_results.info(memory_usage='deep')"
   ]
  },
  {
   "cell_type": "code",
   "execution_count": 15,
   "metadata": {},
   "outputs": [
    {
     "name": "stdout",
     "output_type": "stream",
     "text": [
      "Fit time .1% data:  1.4230743885\n",
      "Best Score .1% data:  0.568181818182\n"
     ]
    }
   ],
   "source": [
    "print(\"Fit time .1% data: \", gspipe_results['mean_fit_time'].sum())\n",
    "print(\"Best Score .1% data: \",gspipe.best_score_)\n",
    "### Pipeline2 for .1% (220 rows)\n",
    "picked_pipeline_220row = \\\n",
    "        pd.DataFrame.to_pickle(gspipe_results,\\\n",
    "        '/home/jovyan/work/DSI/projects/project_3/data/Pipeline2_knc_pt1_percent')"
   ]
  },
  {
   "cell_type": "code",
   "execution_count": 16,
   "metadata": {},
   "outputs": [
    {
     "name": "stdout",
     "output_type": "stream",
     "text": [
      "Fit time .5% data:  5.33873505592\n",
      "Best Score .5% data:  0.509090909091\n"
     ]
    }
   ],
   "source": [
    "### Pipeline2 for .5% (1100 rows)\n",
    "\n",
    "gspipe.fit(feature[:1100], np.ravel(target[:1100].values))\n",
    "gspipe_results = pd.DataFrame(gspipe.cv_results_)\n",
    "print(\"Fit time .5% data: \", gspipe_results['mean_fit_time'].sum())\n",
    "print(\"Best Score .5% data: \",gspipe.best_score_)\n",
    "gspipe_results_1100 = pd.DataFrame(gspipe.cv_results_)\n",
    "picked_Pipeline2_1100row = \\\n",
    "        pd.DataFrame.to_pickle(gspipe_results_1100,\\\n",
    "        '/home/jovyan/work/DSI/projects/project_3/data/Pipeline2_knc_pt5_percent')"
   ]
  },
  {
   "cell_type": "code",
   "execution_count": 17,
   "metadata": {},
   "outputs": [
    {
     "name": "stdout",
     "output_type": "stream",
     "text": [
      "Fit time 1% data:  11.0064968348\n",
      "Best Score 1% data:  0.524545454545\n"
     ]
    }
   ],
   "source": [
    "### Pipeline2 for 1% (2200 rows)\n",
    "\n",
    "gspipe.fit(feature[:2200], np.ravel(target[:2200].values))\n",
    "gspipe_results = pd.DataFrame(gspipe.cv_results_)\n",
    "print(\"Fit time 1% data: \", gspipe_results['mean_fit_time'].sum())\n",
    "print(\"Best Score 1% data: \",gspipe.best_score_)\n",
    "gspipe_results_2200 = pd.DataFrame(gspipe.cv_results_)\n",
    "picked_Pipeline2_2200row = \\\n",
    "        pd.DataFrame.to_pickle(gspipe_results_2200,\\\n",
    "        '/home/jovyan/work/DSI/projects/project_3/data/Pipeline2_knc_1_percent')"
   ]
  },
  {
   "cell_type": "code",
   "execution_count": 18,
   "metadata": {},
   "outputs": [
    {
     "name": "stdout",
     "output_type": "stream",
     "text": [
      "Fit time 5% data:  53.1676916122\n",
      "Best Score 5% data: 0.533147632312\n"
     ]
    }
   ],
   "source": [
    "### Bench Marking for 5% (11000 rows)\n",
    "\n",
    "gspipe.fit(feature, np.ravel(target.values))\n",
    "gspipe_results = pd.DataFrame(gspipe.cv_results_)\n",
    "print(\"Fit time 5% data: \", gspipe_results['mean_fit_time'].sum())\n",
    "print(\"Best Score 5% data:\",gspipe.best_score_)\n",
    "gspipe_results_11000 = pd.DataFrame(gspipe.cv_results_)\n",
    "picked_GS_BenchMarkig_11000row = \\\n",
    "        pd.DataFrame.to_pickle(gspipe_results_11000,\\\n",
    "        '/home/jovyan/work/DSI/projects/project_3/data/Pipeline2_knc_5_percent')"
   ]
  },
  {
   "cell_type": "code",
   "execution_count": null,
   "metadata": {
    "collapsed": true
   },
   "outputs": [],
   "source": []
  }
 ],
 "metadata": {
  "kernelspec": {
   "display_name": "Python 3",
   "language": "python",
   "name": "python3"
  },
  "language_info": {
   "codemirror_mode": {
    "name": "ipython",
    "version": 3
   },
   "file_extension": ".py",
   "mimetype": "text/x-python",
   "name": "python",
   "nbconvert_exporter": "python",
   "pygments_lexer": "ipython3",
   "version": "3.5.2"
  }
 },
 "nbformat": 4,
 "nbformat_minor": 2
}
