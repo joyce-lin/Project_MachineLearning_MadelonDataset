{
 "cells": [
  {
   "cell_type": "code",
   "execution_count": 1,
   "metadata": {
    "collapsed": true
   },
   "outputs": [],
   "source": [
    "from os import chdir\n",
    "chdir('../')\n",
    "%matplotlib inline\n",
    "from lib import *\n",
    "\n",
    "pd.options.display.precision = 4\n",
    "import matplotlib as mpl\n",
    "mpl.rcParams['font.family'] = 'Lato'\n",
    "mpl.rcParams['font.weight'] = 700\n",
    "sns.set(font='Lato', font_scale=1)\n",
    "sns.set()\n",
    "np.random.seed(42)\n",
    "suppress_warnings()"
   ]
  },
  {
   "cell_type": "code",
   "execution_count": 2,
   "metadata": {},
   "outputs": [
    {
     "data": {
      "text/plain": [
       "(220, 5000)"
      ]
     },
     "metadata": {},
     "output_type": "display_data"
    },
    {
     "data": {
      "text/plain": [
       "(220, 1)"
      ]
     },
     "metadata": {},
     "output_type": "display_data"
    }
   ],
   "source": [
    "feature = pd.read_pickle('/home/jovyan/work/DSI/projects/project_3/data/feature')\n",
    "target= pd.read_pickle('/home/jovyan/work/DSI/projects/project_3/data/target')"
   ]
  },
  {
   "cell_type": "code",
   "execution_count": 3,
   "metadata": {},
   "outputs": [
    {
     "data": {
      "text/html": [
       "<div>\n",
       "<table border=\"1\" class=\"dataframe\">\n",
       "  <thead>\n",
       "    <tr style=\"text-align: right;\">\n",
       "      <th></th>\n",
       "      <th>target</th>\n",
       "    </tr>\n",
       "    <tr>\n",
       "      <th>yoda</th>\n",
       "      <th></th>\n",
       "    </tr>\n",
       "  </thead>\n",
       "  <tbody>\n",
       "    <tr>\n",
       "      <th>149</th>\n",
       "      <td>0</td>\n",
       "    </tr>\n",
       "    <tr>\n",
       "      <th>850</th>\n",
       "      <td>1</td>\n",
       "    </tr>\n",
       "  </tbody>\n",
       "</table>\n",
       "</div>"
      ],
      "text/plain": [
       "      target\n",
       "yoda        \n",
       "149        0\n",
       "850        1"
      ]
     },
     "metadata": {},
     "output_type": "display_data"
    },
    {
     "data": {
      "text/html": [
       "<div>\n",
       "<table border=\"1\" class=\"dataframe\">\n",
       "  <thead>\n",
       "    <tr style=\"text-align: right;\">\n",
       "      <th></th>\n",
       "      <th>feat_0000</th>\n",
       "      <th>feat_0001</th>\n",
       "      <th>feat_0002</th>\n",
       "      <th>feat_0003</th>\n",
       "      <th>feat_0004</th>\n",
       "      <th>feat_0005</th>\n",
       "      <th>feat_0006</th>\n",
       "      <th>feat_0007</th>\n",
       "      <th>feat_0008</th>\n",
       "      <th>feat_0009</th>\n",
       "      <th>...</th>\n",
       "      <th>feat_4990</th>\n",
       "      <th>feat_4991</th>\n",
       "      <th>feat_4992</th>\n",
       "      <th>feat_4993</th>\n",
       "      <th>feat_4994</th>\n",
       "      <th>feat_4995</th>\n",
       "      <th>feat_4996</th>\n",
       "      <th>feat_4997</th>\n",
       "      <th>feat_4998</th>\n",
       "      <th>feat_4999</th>\n",
       "    </tr>\n",
       "    <tr>\n",
       "      <th>yoda</th>\n",
       "      <th></th>\n",
       "      <th></th>\n",
       "      <th></th>\n",
       "      <th></th>\n",
       "      <th></th>\n",
       "      <th></th>\n",
       "      <th></th>\n",
       "      <th></th>\n",
       "      <th></th>\n",
       "      <th></th>\n",
       "      <th></th>\n",
       "      <th></th>\n",
       "      <th></th>\n",
       "      <th></th>\n",
       "      <th></th>\n",
       "      <th></th>\n",
       "      <th></th>\n",
       "      <th></th>\n",
       "      <th></th>\n",
       "      <th></th>\n",
       "      <th></th>\n",
       "    </tr>\n",
       "  </thead>\n",
       "  <tbody>\n",
       "    <tr>\n",
       "      <th>149</th>\n",
       "      <td>-2.6711</td>\n",
       "      <td>-1.3035</td>\n",
       "      <td>-0.2580</td>\n",
       "      <td>1.7352</td>\n",
       "      <td>-0.0355</td>\n",
       "      <td>0.9231</td>\n",
       "      <td>-1.8490</td>\n",
       "      <td>0.0883</td>\n",
       "      <td>-0.3179</td>\n",
       "      <td>-0.3050</td>\n",
       "      <td>...</td>\n",
       "      <td>0.3159</td>\n",
       "      <td>0.1677</td>\n",
       "      <td>-2.0768</td>\n",
       "      <td>-1.0095</td>\n",
       "      <td>-1.6737</td>\n",
       "      <td>0.5063</td>\n",
       "      <td>-1.8839</td>\n",
       "      <td>0.9482</td>\n",
       "      <td>2.1724</td>\n",
       "      <td>-1.8635</td>\n",
       "    </tr>\n",
       "    <tr>\n",
       "      <th>850</th>\n",
       "      <td>-0.3786</td>\n",
       "      <td>-0.0704</td>\n",
       "      <td>0.0488</td>\n",
       "      <td>0.0151</td>\n",
       "      <td>1.0791</td>\n",
       "      <td>0.1102</td>\n",
       "      <td>1.1322</td>\n",
       "      <td>0.1392</td>\n",
       "      <td>-1.1620</td>\n",
       "      <td>-0.5015</td>\n",
       "      <td>...</td>\n",
       "      <td>0.0308</td>\n",
       "      <td>-1.6522</td>\n",
       "      <td>0.2322</td>\n",
       "      <td>1.1743</td>\n",
       "      <td>0.1309</td>\n",
       "      <td>-0.6744</td>\n",
       "      <td>-0.5459</td>\n",
       "      <td>-0.4057</td>\n",
       "      <td>-0.1089</td>\n",
       "      <td>-0.4610</td>\n",
       "    </tr>\n",
       "  </tbody>\n",
       "</table>\n",
       "<p>2 rows × 5000 columns</p>\n",
       "</div>"
      ],
      "text/plain": [
       "      feat_0000  feat_0001  feat_0002  feat_0003  feat_0004  feat_0005  \\\n",
       "yoda                                                                     \n",
       "149     -2.6711    -1.3035    -0.2580     1.7352    -0.0355     0.9231   \n",
       "850     -0.3786    -0.0704     0.0488     0.0151     1.0791     0.1102   \n",
       "\n",
       "      feat_0006  feat_0007  feat_0008  feat_0009    ...      feat_4990  \\\n",
       "yoda                                                ...                  \n",
       "149     -1.8490     0.0883    -0.3179    -0.3050    ...         0.3159   \n",
       "850      1.1322     0.1392    -1.1620    -0.5015    ...         0.0308   \n",
       "\n",
       "      feat_4991  feat_4992  feat_4993  feat_4994  feat_4995  feat_4996  \\\n",
       "yoda                                                                     \n",
       "149      0.1677    -2.0768    -1.0095    -1.6737     0.5063    -1.8839   \n",
       "850     -1.6522     0.2322     1.1743     0.1309    -0.6744    -0.5459   \n",
       "\n",
       "      feat_4997  feat_4998  feat_4999  \n",
       "yoda                                   \n",
       "149      0.9482     2.1724    -1.8635  \n",
       "850     -0.4057    -0.1089    -0.4610  \n",
       "\n",
       "[2 rows x 5000 columns]"
      ]
     },
     "metadata": {},
     "output_type": "display_data"
    }
   ],
   "source": [
    "display(feature.shape)\n",
    "display(target.shape)"
   ]
  },
  {
   "cell_type": "code",
   "execution_count": 4,
   "metadata": {
    "collapsed": true
   },
   "outputs": [],
   "source": [
    "from sklearn.preprocessing import StandardScaler\n",
    "from sklearn.model_selection import train_test_split, GridSearchCV, ShuffleSplit\n",
    "from sklearn.feature_selection import SelectKBest, SelectPercentile, f_classif\n",
    "from sklearn import svm\n",
    "from sklearn.tree import DecisionTreeClassifier, DecisionTreeRegressor\n",
    "from sklearn.decomposition import PCA\n",
    "from sklearn.linear_model import Lasso, LogisticRegression,LinearRegression\n",
    "from sklearn.pipeline import Pipeline"
   ]
  },
  {
   "cell_type": "markdown",
   "metadata": {},
   "source": [
    "# Step 2 Identify Features"
   ]
  },
  {
   "cell_type": "code",
   "execution_count": 1,
   "metadata": {
    "collapsed": true
   },
   "outputs": [],
   "source": [
    "from sklearn.feature_selection import SelectKBest, \\\n",
    "                                      SelectFromModel, \\\n",
    "                                      RFE, SelectPercentile, \\\n",
    "                                      SelectFdr, SelectFpr\n",
    "from sklearn.feature_selection import f_regression, f_classif\n",
    "from sklearn.neighbors import KNeighborsClassifier"
   ]
  },
  {
   "cell_type": "markdown",
   "metadata": {},
   "source": [
    "### Pipeline 1 - Select K Best - Logistic Regression"
   ]
  },
  {
   "cell_type": "code",
   "execution_count": 8,
   "metadata": {
    "collapsed": true
   },
   "outputs": [],
   "source": [
    "pipe_for_gs = Pipeline([\n",
    "    ('skb', SelectKBest(score_func=f_classif)),\n",
    "    ('knc', KNeighborsClassifier())\n",
    "])"
   ]
  },
  {
   "cell_type": "code",
   "execution_count": 9,
   "metadata": {
    "collapsed": true
   },
   "outputs": [],
   "source": [
    "params = {\n",
    "    'skb__k':[50,150,250,500],\n",
    "}"
   ]
  },
  {
   "cell_type": "code",
   "execution_count": 10,
   "metadata": {
    "collapsed": true
   },
   "outputs": [],
   "source": [
    "gspipe = GridSearchCV(pipe_for_gs,\n",
    "                      param_grid=params,\n",
    "                      n_jobs=-1,\n",
    "                      cv=ShuffleSplit(random_state=42))"
   ]
  },
  {
   "cell_type": "code",
   "execution_count": 11,
   "metadata": {
    "collapsed": true
   },
   "outputs": [
    {
     "name": "stderr",
     "output_type": "stream",
     "text": [
      "/opt/conda/lib/python3.5/site-packages/sklearn/utils/validation.py:526: DataConversionWarning: A column-vector y was passed when a 1d array was expected. Please change the shape of y to (n_samples, ), for example using ravel().\n",
      "  y = column_or_1d(y, warn=True)\n",
      "/opt/conda/lib/python3.5/site-packages/sklearn/utils/validation.py:526: DataConversionWarning: A column-vector y was passed when a 1d array was expected. Please change the shape of y to (n_samples, ), for example using ravel().\n",
      "  y = column_or_1d(y, warn=True)\n",
      "/opt/conda/lib/python3.5/site-packages/sklearn/utils/validation.py:526: DataConversionWarning: A column-vector y was passed when a 1d array was expected. Please change the shape of y to (n_samples, ), for example using ravel().\n",
      "  y = column_or_1d(y, warn=True)\n",
      "/opt/conda/lib/python3.5/site-packages/sklearn/utils/validation.py:526: DataConversionWarning: A column-vector y was passed when a 1d array was expected. Please change the shape of y to (n_samples, ), for example using ravel().\n",
      "  y = column_or_1d(y, warn=True)\n",
      "/opt/conda/lib/python3.5/site-packages/sklearn/utils/validation.py:526: DataConversionWarning: A column-vector y was passed when a 1d array was expected. Please change the shape of y to (n_samples, ), for example using ravel().\n",
      "  y = column_or_1d(y, warn=True)\n",
      "/opt/conda/lib/python3.5/site-packages/sklearn/utils/validation.py:526: DataConversionWarning: A column-vector y was passed when a 1d array was expected. Please change the shape of y to (n_samples, ), for example using ravel().\n",
      "  y = column_or_1d(y, warn=True)\n",
      "/opt/conda/lib/python3.5/site-packages/sklearn/utils/validation.py:526: DataConversionWarning: A column-vector y was passed when a 1d array was expected. Please change the shape of y to (n_samples, ), for example using ravel().\n",
      "  y = column_or_1d(y, warn=True)\n",
      "/opt/conda/lib/python3.5/site-packages/sklearn/utils/validation.py:526: DataConversionWarning: A column-vector y was passed when a 1d array was expected. Please change the shape of y to (n_samples, ), for example using ravel().\n",
      "  y = column_or_1d(y, warn=True)\n",
      "/opt/conda/lib/python3.5/site-packages/sklearn/utils/validation.py:526: DataConversionWarning: A column-vector y was passed when a 1d array was expected. Please change the shape of y to (n_samples, ), for example using ravel().\n",
      "  y = column_or_1d(y, warn=True)\n",
      "/opt/conda/lib/python3.5/site-packages/sklearn/utils/validation.py:526: DataConversionWarning: A column-vector y was passed when a 1d array was expected. Please change the shape of y to (n_samples, ), for example using ravel().\n",
      "  y = column_or_1d(y, warn=True)\n",
      "/opt/conda/lib/python3.5/site-packages/sklearn/utils/validation.py:526: DataConversionWarning: A column-vector y was passed when a 1d array was expected. Please change the shape of y to (n_samples, ), for example using ravel().\n",
      "  y = column_or_1d(y, warn=True)\n",
      "/opt/conda/lib/python3.5/site-packages/sklearn/utils/validation.py:526: DataConversionWarning: A column-vector y was passed when a 1d array was expected. Please change the shape of y to (n_samples, ), for example using ravel().\n",
      "  y = column_or_1d(y, warn=True)\n",
      "/opt/conda/lib/python3.5/site-packages/sklearn/utils/validation.py:526: DataConversionWarning: A column-vector y was passed when a 1d array was expected. Please change the shape of y to (n_samples, ), for example using ravel().\n",
      "  y = column_or_1d(y, warn=True)\n",
      "/opt/conda/lib/python3.5/site-packages/sklearn/utils/validation.py:526: DataConversionWarning: A column-vector y was passed when a 1d array was expected. Please change the shape of y to (n_samples, ), for example using ravel().\n",
      "  y = column_or_1d(y, warn=True)\n",
      "/opt/conda/lib/python3.5/site-packages/sklearn/utils/validation.py:526: DataConversionWarning: A column-vector y was passed when a 1d array was expected. Please change the shape of y to (n_samples, ), for example using ravel().\n",
      "  y = column_or_1d(y, warn=True)\n",
      "/opt/conda/lib/python3.5/site-packages/sklearn/utils/validation.py:526: DataConversionWarning: A column-vector y was passed when a 1d array was expected. Please change the shape of y to (n_samples, ), for example using ravel().\n",
      "  y = column_or_1d(y, warn=True)\n",
      "/opt/conda/lib/python3.5/site-packages/sklearn/utils/validation.py:526: DataConversionWarning: A column-vector y was passed when a 1d array was expected. Please change the shape of y to (n_samples, ), for example using ravel().\n",
      "  y = column_or_1d(y, warn=True)\n",
      "/opt/conda/lib/python3.5/site-packages/sklearn/utils/validation.py:526: DataConversionWarning: A column-vector y was passed when a 1d array was expected. Please change the shape of y to (n_samples, ), for example using ravel().\n",
      "  y = column_or_1d(y, warn=True)\n",
      "/opt/conda/lib/python3.5/site-packages/sklearn/utils/validation.py:526: DataConversionWarning: A column-vector y was passed when a 1d array was expected. Please change the shape of y to (n_samples, ), for example using ravel().\n",
      "  y = column_or_1d(y, warn=True)\n",
      "/opt/conda/lib/python3.5/site-packages/sklearn/utils/validation.py:526: DataConversionWarning: A column-vector y was passed when a 1d array was expected. Please change the shape of y to (n_samples, ), for example using ravel().\n",
      "  y = column_or_1d(y, warn=True)\n",
      "/opt/conda/lib/python3.5/site-packages/sklearn/utils/validation.py:526: DataConversionWarning: A column-vector y was passed when a 1d array was expected. Please change the shape of y to (n_samples, ), for example using ravel().\n",
      "  y = column_or_1d(y, warn=True)\n",
      "/opt/conda/lib/python3.5/site-packages/sklearn/utils/validation.py:526: DataConversionWarning: A column-vector y was passed when a 1d array was expected. Please change the shape of y to (n_samples, ), for example using ravel().\n",
      "  y = column_or_1d(y, warn=True)\n",
      "/opt/conda/lib/python3.5/site-packages/sklearn/utils/validation.py:526: DataConversionWarning: A column-vector y was passed when a 1d array was expected. Please change the shape of y to (n_samples, ), for example using ravel().\n",
      "  y = column_or_1d(y, warn=True)\n",
      "/opt/conda/lib/python3.5/site-packages/sklearn/utils/validation.py:526: DataConversionWarning: A column-vector y was passed when a 1d array was expected. Please change the shape of y to (n_samples, ), for example using ravel().\n",
      "  y = column_or_1d(y, warn=True)\n",
      "/opt/conda/lib/python3.5/site-packages/sklearn/utils/validation.py:526: DataConversionWarning: A column-vector y was passed when a 1d array was expected. Please change the shape of y to (n_samples, ), for example using ravel().\n",
      "  y = column_or_1d(y, warn=True)\n",
      "/opt/conda/lib/python3.5/site-packages/sklearn/utils/validation.py:526: DataConversionWarning: A column-vector y was passed when a 1d array was expected. Please change the shape of y to (n_samples, ), for example using ravel().\n",
      "  y = column_or_1d(y, warn=True)\n",
      "/opt/conda/lib/python3.5/site-packages/sklearn/utils/validation.py:526: DataConversionWarning: A column-vector y was passed when a 1d array was expected. Please change the shape of y to (n_samples, ), for example using ravel().\n",
      "  y = column_or_1d(y, warn=True)\n",
      "/opt/conda/lib/python3.5/site-packages/sklearn/utils/validation.py:526: DataConversionWarning: A column-vector y was passed when a 1d array was expected. Please change the shape of y to (n_samples, ), for example using ravel().\n",
      "  y = column_or_1d(y, warn=True)\n",
      "/opt/conda/lib/python3.5/site-packages/sklearn/utils/validation.py:526: DataConversionWarning: A column-vector y was passed when a 1d array was expected. Please change the shape of y to (n_samples, ), for example using ravel().\n",
      "  y = column_or_1d(y, warn=True)\n",
      "/opt/conda/lib/python3.5/site-packages/sklearn/utils/validation.py:526: DataConversionWarning: A column-vector y was passed when a 1d array was expected. Please change the shape of y to (n_samples, ), for example using ravel().\n",
      "  y = column_or_1d(y, warn=True)\n",
      "/opt/conda/lib/python3.5/site-packages/sklearn/utils/validation.py:526: DataConversionWarning: A column-vector y was passed when a 1d array was expected. Please change the shape of y to (n_samples, ), for example using ravel().\n",
      "  y = column_or_1d(y, warn=True)\n",
      "/opt/conda/lib/python3.5/site-packages/sklearn/utils/validation.py:526: DataConversionWarning: A column-vector y was passed when a 1d array was expected. Please change the shape of y to (n_samples, ), for example using ravel().\n",
      "  y = column_or_1d(y, warn=True)\n",
      "/opt/conda/lib/python3.5/site-packages/sklearn/utils/validation.py:526: DataConversionWarning: A column-vector y was passed when a 1d array was expected. Please change the shape of y to (n_samples, ), for example using ravel().\n",
      "  y = column_or_1d(y, warn=True)\n",
      "/opt/conda/lib/python3.5/site-packages/sklearn/utils/validation.py:526: DataConversionWarning: A column-vector y was passed when a 1d array was expected. Please change the shape of y to (n_samples, ), for example using ravel().\n",
      "  y = column_or_1d(y, warn=True)\n",
      "/opt/conda/lib/python3.5/site-packages/sklearn/utils/validation.py:526: DataConversionWarning: A column-vector y was passed when a 1d array was expected. Please change the shape of y to (n_samples, ), for example using ravel().\n",
      "  y = column_or_1d(y, warn=True)\n",
      "/opt/conda/lib/python3.5/site-packages/sklearn/utils/validation.py:526: DataConversionWarning: A column-vector y was passed when a 1d array was expected. Please change the shape of y to (n_samples, ), for example using ravel().\n",
      "  y = column_or_1d(y, warn=True)\n",
      "/opt/conda/lib/python3.5/site-packages/sklearn/utils/validation.py:526: DataConversionWarning: A column-vector y was passed when a 1d array was expected. Please change the shape of y to (n_samples, ), for example using ravel().\n",
      "  y = column_or_1d(y, warn=True)\n",
      "/opt/conda/lib/python3.5/site-packages/sklearn/utils/validation.py:526: DataConversionWarning: A column-vector y was passed when a 1d array was expected. Please change the shape of y to (n_samples, ), for example using ravel().\n",
      "  y = column_or_1d(y, warn=True)\n",
      "/opt/conda/lib/python3.5/site-packages/sklearn/utils/validation.py:526: DataConversionWarning: A column-vector y was passed when a 1d array was expected. Please change the shape of y to (n_samples, ), for example using ravel().\n",
      "  y = column_or_1d(y, warn=True)\n",
      "/opt/conda/lib/python3.5/site-packages/sklearn/utils/validation.py:526: DataConversionWarning: A column-vector y was passed when a 1d array was expected. Please change the shape of y to (n_samples, ), for example using ravel().\n",
      "  y = column_or_1d(y, warn=True)\n",
      "/opt/conda/lib/python3.5/site-packages/sklearn/utils/validation.py:526: DataConversionWarning: A column-vector y was passed when a 1d array was expected. Please change the shape of y to (n_samples, ), for example using ravel().\n",
      "  y = column_or_1d(y, warn=True)\n",
      "/opt/conda/lib/python3.5/site-packages/sklearn/utils/validation.py:526: DataConversionWarning: A column-vector y was passed when a 1d array was expected. Please change the shape of y to (n_samples, ), for example using ravel().\n",
      "  y = column_or_1d(y, warn=True)\n",
      "/opt/conda/lib/python3.5/site-packages/sklearn/utils/validation.py:526: DataConversionWarning: A column-vector y was passed when a 1d array was expected. Please change the shape of y to (n_samples, ), for example using ravel().\n",
      "  y = column_or_1d(y, warn=True)\n",
      "/opt/conda/lib/python3.5/site-packages/sklearn/utils/validation.py:526: DataConversionWarning: A column-vector y was passed when a 1d array was expected. Please change the shape of y to (n_samples, ), for example using ravel().\n",
      "  y = column_or_1d(y, warn=True)\n",
      "/opt/conda/lib/python3.5/site-packages/sklearn/utils/validation.py:526: DataConversionWarning: A column-vector y was passed when a 1d array was expected. Please change the shape of y to (n_samples, ), for example using ravel().\n",
      "  y = column_or_1d(y, warn=True)\n",
      "/opt/conda/lib/python3.5/site-packages/sklearn/utils/validation.py:526: DataConversionWarning: A column-vector y was passed when a 1d array was expected. Please change the shape of y to (n_samples, ), for example using ravel().\n",
      "  y = column_or_1d(y, warn=True)\n",
      "/opt/conda/lib/python3.5/site-packages/sklearn/utils/validation.py:526: DataConversionWarning: A column-vector y was passed when a 1d array was expected. Please change the shape of y to (n_samples, ), for example using ravel().\n",
      "  y = column_or_1d(y, warn=True)\n",
      "/opt/conda/lib/python3.5/site-packages/sklearn/utils/validation.py:526: DataConversionWarning: A column-vector y was passed when a 1d array was expected. Please change the shape of y to (n_samples, ), for example using ravel().\n",
      "  y = column_or_1d(y, warn=True)\n",
      "/opt/conda/lib/python3.5/site-packages/sklearn/utils/validation.py:526: DataConversionWarning: A column-vector y was passed when a 1d array was expected. Please change the shape of y to (n_samples, ), for example using ravel().\n",
      "  y = column_or_1d(y, warn=True)\n",
      "/opt/conda/lib/python3.5/site-packages/sklearn/utils/validation.py:526: DataConversionWarning: A column-vector y was passed when a 1d array was expected. Please change the shape of y to (n_samples, ), for example using ravel().\n",
      "  y = column_or_1d(y, warn=True)\n",
      "/opt/conda/lib/python3.5/site-packages/sklearn/utils/validation.py:526: DataConversionWarning: A column-vector y was passed when a 1d array was expected. Please change the shape of y to (n_samples, ), for example using ravel().\n",
      "  y = column_or_1d(y, warn=True)\n"
     ]
    },
    {
     "data": {
      "text/plain": [
       "GridSearchCV(cv=ShuffleSplit(n_splits=10, random_state=42, test_size=0.1, train_size=None),\n",
       "       error_score='raise',\n",
       "       estimator=Pipeline(steps=[('skb', SelectKBest(k=10, score_func=<function f_classif at 0x7f7d04570378>)), ('lr', LogisticRegression(C=10000000000.0, class_weight=None, dual=False,\n",
       "          fit_intercept=True, intercept_scaling=1, max_iter=100,\n",
       "          multi_class='ovr', n_jobs=-1, penalty='l2', random_state=42,\n",
       "          solver='liblinear', tol=0.0001, verbose=0, warm_start=False))]),\n",
       "       fit_params={}, iid=True, n_jobs=-1,\n",
       "       param_grid={'skb__k': [250, 500, 1000, 1500, 2000]},\n",
       "       pre_dispatch='2*n_jobs', refit=True, return_train_score=True,\n",
       "       scoring=None, verbose=0)"
      ]
     },
     "execution_count": 11,
     "metadata": {},
     "output_type": "execute_result"
    }
   ],
   "source": [
    "gspipe.fit(feature[:220], np.ravel(target[:220].values))"
   ]
  },
  {
   "cell_type": "code",
   "execution_count": 12,
   "metadata": {},
   "outputs": [
    {
     "data": {
      "text/plain": [
       "0.5636363636363636"
      ]
     },
     "execution_count": 12,
     "metadata": {},
     "output_type": "execute_result"
    }
   ],
   "source": [
    "gspipe.best_score_"
   ]
  },
  {
   "cell_type": "code",
   "execution_count": 13,
   "metadata": {},
   "outputs": [
    {
     "data": {
      "text/plain": [
       "{'lr': LogisticRegression(C=10000000000.0, class_weight=None, dual=False,\n",
       "           fit_intercept=True, intercept_scaling=1, max_iter=100,\n",
       "           multi_class='ovr', n_jobs=-1, penalty='l2', random_state=42,\n",
       "           solver='liblinear', tol=0.0001, verbose=0, warm_start=False),\n",
       " 'skb': SelectKBest(k=1500, score_func=<function f_classif at 0x7f7d04570378>)}"
      ]
     },
     "execution_count": 13,
     "metadata": {},
     "output_type": "execute_result"
    }
   ],
   "source": [
    "gspipe.best_estimator_.named_steps"
   ]
  },
  {
   "cell_type": "code",
   "execution_count": 14,
   "metadata": {
    "collapsed": true
   },
   "outputs": [
    {
     "data": {
      "text/html": [
       "<div>\n",
       "<table border=\"1\" class=\"dataframe\">\n",
       "  <thead>\n",
       "    <tr style=\"text-align: right;\">\n",
       "      <th></th>\n",
       "      <th>3</th>\n",
       "      <th>0</th>\n",
       "      <th>4</th>\n",
       "      <th>2</th>\n",
       "      <th>1</th>\n",
       "    </tr>\n",
       "  </thead>\n",
       "  <tbody>\n",
       "    <tr>\n",
       "      <th>mean_fit_time</th>\n",
       "      <td>0.1167</td>\n",
       "      <td>0.03962</td>\n",
       "      <td>0.156</td>\n",
       "      <td>0.0746</td>\n",
       "      <td>0.0478</td>\n",
       "    </tr>\n",
       "    <tr>\n",
       "      <th>mean_score_time</th>\n",
       "      <td>0.00117</td>\n",
       "      <td>0.001123</td>\n",
       "      <td>0.001031</td>\n",
       "      <td>0.001223</td>\n",
       "      <td>0.001094</td>\n",
       "    </tr>\n",
       "    <tr>\n",
       "      <th>mean_test_score</th>\n",
       "      <td>0.5636</td>\n",
       "      <td>0.5591</td>\n",
       "      <td>0.5591</td>\n",
       "      <td>0.5364</td>\n",
       "      <td>0.4909</td>\n",
       "    </tr>\n",
       "    <tr>\n",
       "      <th>mean_train_score</th>\n",
       "      <td>1</td>\n",
       "      <td>1</td>\n",
       "      <td>1</td>\n",
       "      <td>1</td>\n",
       "      <td>1</td>\n",
       "    </tr>\n",
       "    <tr>\n",
       "      <th>param_skb__k</th>\n",
       "      <td>1500</td>\n",
       "      <td>250</td>\n",
       "      <td>2000</td>\n",
       "      <td>1000</td>\n",
       "      <td>500</td>\n",
       "    </tr>\n",
       "    <tr>\n",
       "      <th>params</th>\n",
       "      <td>{'skb__k': 1500}</td>\n",
       "      <td>{'skb__k': 250}</td>\n",
       "      <td>{'skb__k': 2000}</td>\n",
       "      <td>{'skb__k': 1000}</td>\n",
       "      <td>{'skb__k': 500}</td>\n",
       "    </tr>\n",
       "    <tr>\n",
       "      <th>rank_test_score</th>\n",
       "      <td>1</td>\n",
       "      <td>2</td>\n",
       "      <td>2</td>\n",
       "      <td>4</td>\n",
       "      <td>5</td>\n",
       "    </tr>\n",
       "    <tr>\n",
       "      <th>split0_test_score</th>\n",
       "      <td>0.4091</td>\n",
       "      <td>0.5909</td>\n",
       "      <td>0.3636</td>\n",
       "      <td>0.4091</td>\n",
       "      <td>0.4091</td>\n",
       "    </tr>\n",
       "    <tr>\n",
       "      <th>split0_train_score</th>\n",
       "      <td>1</td>\n",
       "      <td>1</td>\n",
       "      <td>1</td>\n",
       "      <td>1</td>\n",
       "      <td>1</td>\n",
       "    </tr>\n",
       "    <tr>\n",
       "      <th>split1_test_score</th>\n",
       "      <td>0.8182</td>\n",
       "      <td>0.5455</td>\n",
       "      <td>0.7727</td>\n",
       "      <td>0.6818</td>\n",
       "      <td>0.4545</td>\n",
       "    </tr>\n",
       "    <tr>\n",
       "      <th>split1_train_score</th>\n",
       "      <td>1</td>\n",
       "      <td>1</td>\n",
       "      <td>1</td>\n",
       "      <td>1</td>\n",
       "      <td>1</td>\n",
       "    </tr>\n",
       "    <tr>\n",
       "      <th>split2_test_score</th>\n",
       "      <td>0.6818</td>\n",
       "      <td>0.6364</td>\n",
       "      <td>0.6818</td>\n",
       "      <td>0.6364</td>\n",
       "      <td>0.5455</td>\n",
       "    </tr>\n",
       "    <tr>\n",
       "      <th>split2_train_score</th>\n",
       "      <td>1</td>\n",
       "      <td>1</td>\n",
       "      <td>1</td>\n",
       "      <td>1</td>\n",
       "      <td>1</td>\n",
       "    </tr>\n",
       "    <tr>\n",
       "      <th>split3_test_score</th>\n",
       "      <td>0.3182</td>\n",
       "      <td>0.4545</td>\n",
       "      <td>0.4091</td>\n",
       "      <td>0.3636</td>\n",
       "      <td>0.3182</td>\n",
       "    </tr>\n",
       "    <tr>\n",
       "      <th>split3_train_score</th>\n",
       "      <td>1</td>\n",
       "      <td>1</td>\n",
       "      <td>1</td>\n",
       "      <td>1</td>\n",
       "      <td>1</td>\n",
       "    </tr>\n",
       "    <tr>\n",
       "      <th>split4_test_score</th>\n",
       "      <td>0.6364</td>\n",
       "      <td>0.5</td>\n",
       "      <td>0.5909</td>\n",
       "      <td>0.5909</td>\n",
       "      <td>0.4091</td>\n",
       "    </tr>\n",
       "    <tr>\n",
       "      <th>split4_train_score</th>\n",
       "      <td>1</td>\n",
       "      <td>1</td>\n",
       "      <td>1</td>\n",
       "      <td>1</td>\n",
       "      <td>1</td>\n",
       "    </tr>\n",
       "    <tr>\n",
       "      <th>split5_test_score</th>\n",
       "      <td>0.5</td>\n",
       "      <td>0.6364</td>\n",
       "      <td>0.4091</td>\n",
       "      <td>0.3636</td>\n",
       "      <td>0.5455</td>\n",
       "    </tr>\n",
       "    <tr>\n",
       "      <th>split5_train_score</th>\n",
       "      <td>1</td>\n",
       "      <td>1</td>\n",
       "      <td>1</td>\n",
       "      <td>1</td>\n",
       "      <td>1</td>\n",
       "    </tr>\n",
       "    <tr>\n",
       "      <th>split6_test_score</th>\n",
       "      <td>0.5455</td>\n",
       "      <td>0.6364</td>\n",
       "      <td>0.5909</td>\n",
       "      <td>0.5909</td>\n",
       "      <td>0.6364</td>\n",
       "    </tr>\n",
       "    <tr>\n",
       "      <th>split6_train_score</th>\n",
       "      <td>1</td>\n",
       "      <td>1</td>\n",
       "      <td>1</td>\n",
       "      <td>1</td>\n",
       "      <td>1</td>\n",
       "    </tr>\n",
       "    <tr>\n",
       "      <th>split7_test_score</th>\n",
       "      <td>0.6364</td>\n",
       "      <td>0.3182</td>\n",
       "      <td>0.6364</td>\n",
       "      <td>0.5</td>\n",
       "      <td>0.4545</td>\n",
       "    </tr>\n",
       "    <tr>\n",
       "      <th>split7_train_score</th>\n",
       "      <td>1</td>\n",
       "      <td>1</td>\n",
       "      <td>1</td>\n",
       "      <td>1</td>\n",
       "      <td>1</td>\n",
       "    </tr>\n",
       "    <tr>\n",
       "      <th>split8_test_score</th>\n",
       "      <td>0.6818</td>\n",
       "      <td>0.6818</td>\n",
       "      <td>0.6364</td>\n",
       "      <td>0.6818</td>\n",
       "      <td>0.6364</td>\n",
       "    </tr>\n",
       "    <tr>\n",
       "      <th>split8_train_score</th>\n",
       "      <td>1</td>\n",
       "      <td>1</td>\n",
       "      <td>1</td>\n",
       "      <td>1</td>\n",
       "      <td>1</td>\n",
       "    </tr>\n",
       "    <tr>\n",
       "      <th>split9_test_score</th>\n",
       "      <td>0.4091</td>\n",
       "      <td>0.5909</td>\n",
       "      <td>0.5</td>\n",
       "      <td>0.5455</td>\n",
       "      <td>0.5</td>\n",
       "    </tr>\n",
       "    <tr>\n",
       "      <th>split9_train_score</th>\n",
       "      <td>1</td>\n",
       "      <td>1</td>\n",
       "      <td>1</td>\n",
       "      <td>1</td>\n",
       "      <td>1</td>\n",
       "    </tr>\n",
       "    <tr>\n",
       "      <th>std_fit_time</th>\n",
       "      <td>0.009316</td>\n",
       "      <td>0.01433</td>\n",
       "      <td>0.01602</td>\n",
       "      <td>0.007537</td>\n",
       "      <td>0.01137</td>\n",
       "    </tr>\n",
       "    <tr>\n",
       "      <th>std_score_time</th>\n",
       "      <td>0.0002798</td>\n",
       "      <td>0.0004237</td>\n",
       "      <td>1.537e-05</td>\n",
       "      <td>0.0004322</td>\n",
       "      <td>0.000206</td>\n",
       "    </tr>\n",
       "    <tr>\n",
       "      <th>std_test_score</th>\n",
       "      <td>0.1469</td>\n",
       "      <td>0.1038</td>\n",
       "      <td>0.127</td>\n",
       "      <td>0.1164</td>\n",
       "      <td>0.09706</td>\n",
       "    </tr>\n",
       "    <tr>\n",
       "      <th>std_train_score</th>\n",
       "      <td>0</td>\n",
       "      <td>0</td>\n",
       "      <td>0</td>\n",
       "      <td>0</td>\n",
       "      <td>0</td>\n",
       "    </tr>\n",
       "  </tbody>\n",
       "</table>\n",
       "</div>"
      ],
      "text/plain": [
       "                                   3                0                 4  \\\n",
       "mean_fit_time                 0.1167          0.03962             0.156   \n",
       "mean_score_time              0.00117         0.001123          0.001031   \n",
       "mean_test_score               0.5636           0.5591            0.5591   \n",
       "mean_train_score                   1                1                 1   \n",
       "param_skb__k                    1500              250              2000   \n",
       "params              {'skb__k': 1500}  {'skb__k': 250}  {'skb__k': 2000}   \n",
       "rank_test_score                    1                2                 2   \n",
       "split0_test_score             0.4091           0.5909            0.3636   \n",
       "split0_train_score                 1                1                 1   \n",
       "split1_test_score             0.8182           0.5455            0.7727   \n",
       "split1_train_score                 1                1                 1   \n",
       "split2_test_score             0.6818           0.6364            0.6818   \n",
       "split2_train_score                 1                1                 1   \n",
       "split3_test_score             0.3182           0.4545            0.4091   \n",
       "split3_train_score                 1                1                 1   \n",
       "split4_test_score             0.6364              0.5            0.5909   \n",
       "split4_train_score                 1                1                 1   \n",
       "split5_test_score                0.5           0.6364            0.4091   \n",
       "split5_train_score                 1                1                 1   \n",
       "split6_test_score             0.5455           0.6364            0.5909   \n",
       "split6_train_score                 1                1                 1   \n",
       "split7_test_score             0.6364           0.3182            0.6364   \n",
       "split7_train_score                 1                1                 1   \n",
       "split8_test_score             0.6818           0.6818            0.6364   \n",
       "split8_train_score                 1                1                 1   \n",
       "split9_test_score             0.4091           0.5909               0.5   \n",
       "split9_train_score                 1                1                 1   \n",
       "std_fit_time                0.009316          0.01433           0.01602   \n",
       "std_score_time             0.0002798        0.0004237         1.537e-05   \n",
       "std_test_score                0.1469           0.1038             0.127   \n",
       "std_train_score                    0                0                 0   \n",
       "\n",
       "                                   2                1  \n",
       "mean_fit_time                 0.0746           0.0478  \n",
       "mean_score_time             0.001223         0.001094  \n",
       "mean_test_score               0.5364           0.4909  \n",
       "mean_train_score                   1                1  \n",
       "param_skb__k                    1000              500  \n",
       "params              {'skb__k': 1000}  {'skb__k': 500}  \n",
       "rank_test_score                    4                5  \n",
       "split0_test_score             0.4091           0.4091  \n",
       "split0_train_score                 1                1  \n",
       "split1_test_score             0.6818           0.4545  \n",
       "split1_train_score                 1                1  \n",
       "split2_test_score             0.6364           0.5455  \n",
       "split2_train_score                 1                1  \n",
       "split3_test_score             0.3636           0.3182  \n",
       "split3_train_score                 1                1  \n",
       "split4_test_score             0.5909           0.4091  \n",
       "split4_train_score                 1                1  \n",
       "split5_test_score             0.3636           0.5455  \n",
       "split5_train_score                 1                1  \n",
       "split6_test_score             0.5909           0.6364  \n",
       "split6_train_score                 1                1  \n",
       "split7_test_score                0.5           0.4545  \n",
       "split7_train_score                 1                1  \n",
       "split8_test_score             0.6818           0.6364  \n",
       "split8_train_score                 1                1  \n",
       "split9_test_score             0.5455              0.5  \n",
       "split9_train_score                 1                1  \n",
       "std_fit_time                0.007537          0.01137  \n",
       "std_score_time             0.0004322         0.000206  \n",
       "std_test_score                0.1164          0.09706  \n",
       "std_train_score                    0                0  "
      ]
     },
     "execution_count": 14,
     "metadata": {},
     "output_type": "execute_result"
    }
   ],
   "source": [
    "gspipe_results = pd.DataFrame(gspipe.cv_results_)\n",
    "gspipe_results.sort_values('rank_test_score', ascending=True).T"
   ]
  },
  {
   "cell_type": "code",
   "execution_count": 15,
   "metadata": {},
   "outputs": [
    {
     "data": {
      "text/plain": [
       "0.43476717472076415"
      ]
     },
     "execution_count": 15,
     "metadata": {},
     "output_type": "execute_result"
    }
   ],
   "source": [
    "gspipe_results['mean_fit_time'].sum()"
   ]
  },
  {
   "cell_type": "code",
   "execution_count": 16,
   "metadata": {},
   "outputs": [
    {
     "name": "stdout",
     "output_type": "stream",
     "text": [
      "Fit time .1% data:  0.434767174721\n",
      "Best Score .1% data:  0.563636363636\n"
     ]
    }
   ],
   "source": [
    "### Pipeline1 for .1% (220 rows)\n",
    "print(\"Fit time .1% data: \", gspipe_results['mean_fit_time'].sum())\n",
    "print(\"Best Score .1% data: \",gspipe.best_score_)\n",
    "picked_pipeline_220row = \\\n",
    "        pd.DataFrame.to_pickle(gspipe_results,\\\n",
    "        '/home/jovyan/work/DSI/projects/project_3/data/Pipeline1_knc_pt1_percent')"
   ]
  },
  {
   "cell_type": "code",
   "execution_count": 17,
   "metadata": {},
   "outputs": [
    {
     "name": "stdout",
     "output_type": "stream",
     "text": [
      "Fit time .5% data:  0.434767174721\n",
      "Best Score .5% data:  0.546363636364\n"
     ]
    }
   ],
   "source": [
    "### Pipeline1 for .5% (1100 rows)\n",
    "\n",
    "gspipe.fit(feature[:1100], np.ravel(target[:1100].values))\n",
    "gspipe_results = pd.DataFrame(gspipe.cv_results_)\n",
    "print(\"Fit time .5% data: \", gspipe_results['mean_fit_time'].sum())\n",
    "print(\"Best Score .5% data: \",gspipe.best_score_)\n",
    "\n",
    "gspipe_results_1100 = pd.DataFrame(gspipe.cv_results_)\n",
    "picked_Pipeline1_1100row = \\\n",
    "        pd.DataFrame.to_pickle(gspipe_results_1100,\\\n",
    "        '/home/jovyan/work/DSI/projects/project_3/data/Pipeline1_knc_pt5_percent')"
   ]
  },
  {
   "cell_type": "code",
   "execution_count": null,
   "metadata": {
    "collapsed": true
   },
   "outputs": [],
   "source": [
    "### Pipeline1 for 1% (2200 rows)\n",
    "\n",
    "gspipe.fit(feature[:2200], np.ravel(target[:2200].values))\n",
    "gspipe_results = pd.DataFrame(gspipe.cv_results_)\n",
    "print(\"Fit time 1% data: \", gspipe_results['mean_fit_time'].sum())\n",
    "print(\"Best Score 1% data: \",gspipe.best_score_)\n",
    "\n",
    "gspipe_results_2200 = pd.DataFrame(gspipe.cv_results_)\n",
    "picked_Pipeline1_2200row = \\\n",
    "        pd.DataFrame.to_pickle(gspipe_results_2200,\\\n",
    "        '/home/jovyan/work/DSI/projects/project_3/data/Pipeline1_knc_1_percent')"
   ]
  },
  {
   "cell_type": "code",
   "execution_count": null,
   "metadata": {
    "collapsed": true
   },
   "outputs": [],
   "source": [
    "### Bench Marking for 5% (11000 rows)\n",
    "\n",
    "gspipe.fit(feature, np.ravel(target.values))\n",
    "gspipe_results = pd.DataFrame(gspipe.cv_results_)\n",
    "print(\"Fit time 5% data: \", gspipe_results['mean_fit_time'].sum())\n",
    "print(\"Best Score 5% data:\",gspipe.best_score_)\n",
    "gspipe_results_11000 = pd.DataFrame(gspipe.cv_results_)\n",
    "picked_GS_BenchMarkig_11000row = \\\n",
    "        pd.DataFrame.to_pickle(gspipe_results_11000,\\\n",
    "        '/home/jovyan/work/DSI/projects/project_3/data/Pipeline1_knc_5_percent')"
   ]
  }
 ],
 "metadata": {
  "kernelspec": {
   "display_name": "Python 3",
   "language": "python",
   "name": "python3"
  },
  "language_info": {
   "codemirror_mode": {
    "name": "ipython",
    "version": 3
   },
   "file_extension": ".py",
   "mimetype": "text/x-python",
   "name": "python",
   "nbconvert_exporter": "python",
   "pygments_lexer": "ipython3",
   "version": "3.5.2"
  }
 },
 "nbformat": 4,
 "nbformat_minor": 2
}
