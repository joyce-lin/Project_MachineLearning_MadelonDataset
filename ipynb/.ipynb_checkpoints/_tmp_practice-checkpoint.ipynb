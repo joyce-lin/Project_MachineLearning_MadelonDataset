{
 "cells": [
  {
   "cell_type": "code",
   "execution_count": 7,
   "metadata": {
    "collapsed": true,
    "deletable": true,
    "editable": true
   },
   "outputs": [],
   "source": [
    "from os import chdir\n",
    "chdir('../')\n",
    "%matplotlib inline\n",
    "from lib import *\n",
    "\n",
    "from time import time\n",
    "\n",
    "pd.options.display.precision = 4\n",
    "import matplotlib as mpl\n",
    "mpl.rcParams['font.family'] = 'Lato'\n",
    "mpl.rcParams['font.weight'] = 700\n",
    "sns.set(font='Lato', font_scale=1)\n",
    "sns.set()\n",
    "np.random.seed(42)"
   ]
  },
  {
   "cell_type": "code",
   "execution_count": 8,
   "metadata": {
    "collapsed": false,
    "deletable": true,
    "editable": true
   },
   "outputs": [],
   "source": [
    "from lib import *"
   ]
  },
  {
   "cell_type": "raw",
   "metadata": {
    "deletable": true,
    "editable": true
   },
   "source": [
    "def generate_table_group(table_group):\n",
    "    table_groups = {\n",
    "    'A':['madelon_data_1','madelon_data_2'],\n",
    "    'B':['madelon_data_3','madelon_data_4'],\n",
    "    'C':['madelon_data_5','madelon_data_6'],\n",
    "    'D':['madelon_data_7','madelon_data_8'],\n",
    "    }\n",
    "    return table_groups[table_group]\n",
    "\n",
    "def query_tables(yodas, table_group):\n",
    "    table_1, table_2 = query_dict[table_group]\n",
    "    query = \"\"\"\n",
    "        select * \n",
    "        from {} as m1 \n",
    "        join {} as m2\n",
    "        on m1.yoda = m2.yoda\n",
    "        where m1.yoda in ({});\n",
    "    \"\"\".format(table_1, table_2, these_yodas)\n",
    "    con,cur = con_cur()\n",
    "    cur.execute(query)\n",
    "    results = pd.DataFrame(cur.fetchall())\n",
    "    con.close()\n",
    "    return results"
   ]
  },
  {
   "cell_type": "raw",
   "metadata": {
    "deletable": true,
    "editable": true
   },
   "source": [
    "count = 22000\n",
    "n = 220\n",
    "seed = None\n",
    "\n",
    "#generate yodas(ids)\n",
    "def make_dataFrame(count=22000, n=220, seed):    \n",
    "    these_yodas = _generate_random_yodas_string(count=count, \n",
    "                                                n=n,\n",
    "                                                seed=seed)\n",
    "    \n",
    "    feature_A = query_tables(these_yodas,'A')\n",
    "    feature_B = query_tables(these_yodas,'B')\n",
    "    feature_C = query_tables(these_yodas,'C')\n",
    "    feature_D = query_tables(these_yodas,'D')\n",
    "    feature = (feature_A.merge(feature_B, on='yoda')\n",
    "                        .merge(feature_C, on='yoda')\n",
    "                        .merge(feature_D, on='yoda'))\n",
    "    feature.set_index('yoda', inplace = True)\n",
    "    \n",
    "    target = query_target_table(these_yodas)\n",
    "    target.set_index('yoda', inplace = True)\n",
    "    return feature, target"
   ]
  },
  {
   "cell_type": "code",
   "execution_count": 9,
   "metadata": {
    "collapsed": false,
    "deletable": true,
    "editable": true
   },
   "outputs": [],
   "source": [
    "start = time()\n",
    "madelon_df, target = make_DataFrame(22000,220,42)\n",
    "end = time()\n",
    "total_time_220 = end - start"
   ]
  },
  {
   "cell_type": "code",
   "execution_count": 10,
   "metadata": {
    "collapsed": false,
    "deletable": true,
    "editable": true
   },
   "outputs": [
    {
     "ename": "NameError",
     "evalue": "name 'feat' is not defined",
     "output_type": "error",
     "traceback": [
      "\u001b[0;31m---------------------------------------------------------------------------\u001b[0m",
      "\u001b[0;31mNameError\u001b[0m                                 Traceback (most recent call last)",
      "\u001b[0;32m<ipython-input-10-941a26cfdd24>\u001b[0m in \u001b[0;36m<module>\u001b[0;34m()\u001b[0m\n\u001b[0;32m----> 1\u001b[0;31m \u001b[0mfeat\u001b[0m\u001b[0;34m.\u001b[0m\u001b[0mshape\u001b[0m\u001b[0;34m\u001b[0m\u001b[0m\n\u001b[0m",
      "\u001b[0;31mNameError\u001b[0m: name 'feat' is not defined"
     ]
    }
   ],
   "source": [
    "madelon_df.shape"
   ]
  },
  {
   "cell_type": "code",
   "execution_count": null,
   "metadata": {
    "collapsed": true,
    "deletable": true,
    "editable": true
   },
   "outputs": [],
   "source": []
  }
 ],
 "metadata": {
  "kernelspec": {
   "display_name": "Python 3",
   "language": "python",
   "name": "python3"
  },
  "language_info": {
   "codemirror_mode": {
    "name": "ipython",
    "version": 3
   },
   "file_extension": ".py",
   "mimetype": "text/x-python",
   "name": "python",
   "nbconvert_exporter": "python",
   "pygments_lexer": "ipython3",
   "version": "3.5.2"
  }
 },
 "nbformat": 4,
 "nbformat_minor": 2
}
