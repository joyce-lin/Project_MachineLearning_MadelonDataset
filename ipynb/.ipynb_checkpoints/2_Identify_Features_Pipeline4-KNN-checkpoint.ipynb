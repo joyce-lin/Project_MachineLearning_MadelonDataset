{
 "cells": [
  {
   "cell_type": "code",
   "execution_count": 1,
   "metadata": {
    "collapsed": true
   },
   "outputs": [],
   "source": [
    "from os import chdir\n",
    "chdir('../')\n",
    "%matplotlib inline\n",
    "from lib import *\n",
    "\n",
    "pd.options.display.precision = 4\n",
    "import matplotlib as mpl\n",
    "mpl.rcParams['font.family'] = 'Lato'\n",
    "mpl.rcParams['font.weight'] = 700\n",
    "sns.set(font='Lato', font_scale=1)\n",
    "sns.set()\n",
    "np.random.seed(42)\n",
    "suppress_warnings()"
   ]
  },
  {
   "cell_type": "code",
   "execution_count": 4,
   "metadata": {},
   "outputs": [
    {
     "data": {
      "text/plain": [
       "'/home/jovyan/work/projects/project_3'"
      ]
     },
     "execution_count": 4,
     "metadata": {},
     "output_type": "execute_result"
    }
   ],
   "source": [
    "pwd"
   ]
  },
  {
   "cell_type": "code",
   "execution_count": 5,
   "metadata": {
    "scrolled": true
   },
   "outputs": [],
   "source": [
    "feature = pd.read_pickle('/home/jovyan/work/projects/project_3/data/feature')\n",
    "target= pd.read_pickle('/home/jovyan/work/projects/project_3/data/target')"
   ]
  },
  {
   "cell_type": "code",
   "execution_count": 6,
   "metadata": {},
   "outputs": [
    {
     "data": {
      "text/plain": [
       "(11000, 1000)"
      ]
     },
     "metadata": {},
     "output_type": "display_data"
    },
    {
     "data": {
      "text/plain": [
       "(11000, 1)"
      ]
     },
     "metadata": {},
     "output_type": "display_data"
    }
   ],
   "source": [
    "display(feature.shape)\n",
    "display(target.shape)"
   ]
  },
  {
   "cell_type": "code",
   "execution_count": 10,
   "metadata": {
    "collapsed": true
   },
   "outputs": [],
   "source": [
    "from sklearn.preprocessing import StandardScaler\n",
    "from sklearn.model_selection import train_test_split, GridSearchCV, ShuffleSplit\n",
    "from sklearn.feature_selection import SelectKBest, SelectPercentile, f_classif\n",
    "from sklearn import svm\n",
    "from sklearn.tree import DecisionTreeClassifier, DecisionTreeRegressor\n",
    "from sklearn.decomposition import PCA\n",
    "from sklearn.linear_model import Lasso, LogisticRegression,LinearRegression\n",
    "from sklearn.pipeline import Pipeline\n",
    "from sklearn.ensemble import RandomForestClassifier"
   ]
  },
  {
   "cell_type": "markdown",
   "metadata": {},
   "source": [
    "# Step 2 Identify Features"
   ]
  },
  {
   "cell_type": "code",
   "execution_count": 8,
   "metadata": {
    "collapsed": true
   },
   "outputs": [],
   "source": [
    "from sklearn.feature_selection import SelectKBest, \\\n",
    "                                      SelectFromModel, \\\n",
    "                                      RFE, SelectPercentile, \\\n",
    "                                      SelectFdr, SelectFpr\n",
    "from sklearn.feature_selection import f_regression, f_classif\n",
    "from sklearn.neighbors import KNeighborsClassifier"
   ]
  },
  {
   "cell_type": "markdown",
   "metadata": {},
   "source": [
    "### Pipeline: Select K best - PCA - SFM(LR) - SFM(RFC) - KNC"
   ]
  },
  {
   "cell_type": "code",
   "execution_count": 17,
   "metadata": {
    "collapsed": true
   },
   "outputs": [],
   "source": [
    "pipe_for_gs = Pipeline([\n",
    "    ('skb', SelectKBest(score_func=f_classif)),\n",
    "    ('pca',PCA(random_state=42)),\n",
    "    ('sfmrf', SelectFromModel(RandomForestClassifier(random_state=42,n_jobs=-1))),\n",
    "    ('knc', KNeighborsClassifier())\n",
    "])"
   ]
  },
  {
   "cell_type": "code",
   "execution_count": 18,
   "metadata": {},
   "outputs": [],
   "source": [
    "params = {\n",
    "    'skb__k':[200,300,500],\n",
    "    'pca__n_components':[50,100,150],\n",
    "    'sfmrf__estimator':[  RandomForestClassifier(n_estimators=10, criterion='entropy',random_state=42,n_jobs=-1),\n",
    "                          RandomForestClassifier(n_estimators=20, criterion='entropy',random_state=42,n_jobs=-1),  \n",
    "                          RandomForestClassifier(n_estimators=30, criterion='entropy',random_state=42,n_jobs=-1),\n",
    "                          RandomForestClassifier(n_estimators=40, criterion='entropy',random_state=42,n_jobs=-1),  \n",
    "                          RandomForestClassifier(n_estimators=50, criterion='entropy',random_state=42,n_jobs=-1),\n",
    "                        ],                    \n",
    "}"
   ]
  },
  {
   "cell_type": "code",
   "execution_count": 19,
   "metadata": {
    "collapsed": true
   },
   "outputs": [],
   "source": [
    "gspipe = GridSearchCV(pipe_for_gs,\n",
    "                      param_grid=params,\n",
    "                      n_jobs=-1,\n",
    "                      cv=ShuffleSplit(random_state=42))"
   ]
  },
  {
   "cell_type": "code",
   "execution_count": 20,
   "metadata": {},
   "outputs": [
    {
     "data": {
      "text/plain": [
       "GridSearchCV(cv=ShuffleSplit(n_splits=10, random_state=42, test_size=0.1, train_size=None),\n",
       "       error_score='raise',\n",
       "       estimator=Pipeline(steps=[('skb', SelectKBest(k=10, score_func=<function f_classif at 0x7f8c37c9cbf8>)), ('pca', PCA(copy=True, iterated_power='auto', n_components=None, random_state=42,\n",
       "  svd_solver='auto', tol=0.0, whiten=False)), ('sfmrf', SelectFromModel(estimator=RandomForestClassifier(bootstrap=True, class_weigh...owski',\n",
       "           metric_params=None, n_jobs=1, n_neighbors=5, p=2,\n",
       "           weights='uniform'))]),\n",
       "       fit_params={}, iid=True, n_jobs=-1,\n",
       "       param_grid={'sfmrf__estimator': [RandomForestClassifier(bootstrap=True, class_weight=None, criterion='entropy',\n",
       "            max_depth=None, max_features='auto', max_leaf_nodes=None,\n",
       "            min_impurity_split=1e-07, min_samples_leaf=1,\n",
       "            min_samples_split=2, min_weight_fraction_leaf=0....      verbose=0, warm_start=False)], 'pca__n_components': [50, 100, 150], 'skb__k': [200, 300, 500]},\n",
       "       pre_dispatch='2*n_jobs', refit=True, return_train_score=True,\n",
       "       scoring=None, verbose=0)"
      ]
     },
     "execution_count": 20,
     "metadata": {},
     "output_type": "execute_result"
    }
   ],
   "source": [
    "gspipe.fit(feature[:220], np.ravel(target[:220].values))"
   ]
  },
  {
   "cell_type": "code",
   "execution_count": 21,
   "metadata": {},
   "outputs": [
    {
     "data": {
      "text/plain": [
       "0.54545454545454541"
      ]
     },
     "execution_count": 21,
     "metadata": {},
     "output_type": "execute_result"
    }
   ],
   "source": [
    "gspipe.best_score_"
   ]
  },
  {
   "cell_type": "code",
   "execution_count": 22,
   "metadata": {
    "scrolled": true
   },
   "outputs": [
    {
     "data": {
      "text/plain": [
       "{'knc': KNeighborsClassifier(algorithm='auto', leaf_size=30, metric='minkowski',\n",
       "            metric_params=None, n_jobs=1, n_neighbors=5, p=2,\n",
       "            weights='uniform'),\n",
       " 'pca': PCA(copy=True, iterated_power='auto', n_components=150, random_state=42,\n",
       "   svd_solver='auto', tol=0.0, whiten=False),\n",
       " 'sfmrf': SelectFromModel(estimator=RandomForestClassifier(bootstrap=True, class_weight=None, criterion='entropy',\n",
       "             max_depth=None, max_features='auto', max_leaf_nodes=None,\n",
       "             min_impurity_split=1e-07, min_samples_leaf=1,\n",
       "             min_samples_split=2, min_weight_fraction_leaf=0.0,\n",
       "             n_estimators=20, n_jobs=-1, oob_score=False, random_state=42,\n",
       "             verbose=0, warm_start=False),\n",
       "         prefit=False, threshold=None),\n",
       " 'skb': SelectKBest(k=500, score_func=<function f_classif at 0x7f8c37c9cbf8>)}"
      ]
     },
     "execution_count": 22,
     "metadata": {},
     "output_type": "execute_result"
    }
   ],
   "source": [
    "gspipe.best_estimator_.named_steps"
   ]
  },
  {
   "cell_type": "code",
   "execution_count": 23,
   "metadata": {},
   "outputs": [
    {
     "data": {
      "text/html": [
       "<div>\n",
       "<table border=\"1\" class=\"dataframe\">\n",
       "  <thead>\n",
       "    <tr style=\"text-align: right;\">\n",
       "      <th></th>\n",
       "      <th>35</th>\n",
       "      <th>8</th>\n",
       "      <th>31</th>\n",
       "      <th>11</th>\n",
       "      <th>40</th>\n",
       "      <th>22</th>\n",
       "      <th>5</th>\n",
       "      <th>3</th>\n",
       "      <th>25</th>\n",
       "      <th>7</th>\n",
       "      <th>...</th>\n",
       "      <th>43</th>\n",
       "      <th>33</th>\n",
       "      <th>39</th>\n",
       "      <th>6</th>\n",
       "      <th>28</th>\n",
       "      <th>30</th>\n",
       "      <th>21</th>\n",
       "      <th>20</th>\n",
       "      <th>18</th>\n",
       "      <th>15</th>\n",
       "    </tr>\n",
       "  </thead>\n",
       "  <tbody>\n",
       "    <tr>\n",
       "      <th>mean_fit_time</th>\n",
       "      <td>0.08666</td>\n",
       "      <td>0.09453</td>\n",
       "      <td>0.05379</td>\n",
       "      <td>0.1151</td>\n",
       "      <td>0.1293</td>\n",
       "      <td>0.09562</td>\n",
       "      <td>0.07558</td>\n",
       "      <td>0.06504</td>\n",
       "      <td>0.1274</td>\n",
       "      <td>0.08635</td>\n",
       "      <td>...</td>\n",
       "      <td>0.159</td>\n",
       "      <td>0.07395</td>\n",
       "      <td>0.1254</td>\n",
       "      <td>0.08708</td>\n",
       "      <td>0.14</td>\n",
       "      <td>0.04849</td>\n",
       "      <td>0.09229</td>\n",
       "      <td>0.08343</td>\n",
       "      <td>0.06767</td>\n",
       "      <td>0.04569</td>\n",
       "    </tr>\n",
       "    <tr>\n",
       "      <th>mean_score_time</th>\n",
       "      <td>0.00298</td>\n",
       "      <td>0.002991</td>\n",
       "      <td>0.002348</td>\n",
       "      <td>0.003435</td>\n",
       "      <td>0.003778</td>\n",
       "      <td>0.003045</td>\n",
       "      <td>0.002362</td>\n",
       "      <td>0.002448</td>\n",
       "      <td>0.003969</td>\n",
       "      <td>0.003094</td>\n",
       "      <td>...</td>\n",
       "      <td>0.004304</td>\n",
       "      <td>0.002632</td>\n",
       "      <td>0.003596</td>\n",
       "      <td>0.003011</td>\n",
       "      <td>0.004011</td>\n",
       "      <td>0.002147</td>\n",
       "      <td>0.002917</td>\n",
       "      <td>0.002756</td>\n",
       "      <td>0.002378</td>\n",
       "      <td>0.00194</td>\n",
       "    </tr>\n",
       "    <tr>\n",
       "      <th>mean_test_score</th>\n",
       "      <td>0.5455</td>\n",
       "      <td>0.5364</td>\n",
       "      <td>0.5273</td>\n",
       "      <td>0.5182</td>\n",
       "      <td>0.5182</td>\n",
       "      <td>0.5182</td>\n",
       "      <td>0.5182</td>\n",
       "      <td>0.5045</td>\n",
       "      <td>0.5</td>\n",
       "      <td>0.4955</td>\n",
       "      <td>...</td>\n",
       "      <td>0.45</td>\n",
       "      <td>0.4455</td>\n",
       "      <td>0.4409</td>\n",
       "      <td>0.4409</td>\n",
       "      <td>0.4409</td>\n",
       "      <td>0.4364</td>\n",
       "      <td>0.4364</td>\n",
       "      <td>0.4364</td>\n",
       "      <td>0.4273</td>\n",
       "      <td>0.3909</td>\n",
       "    </tr>\n",
       "    <tr>\n",
       "      <th>mean_train_score</th>\n",
       "      <td>0.7056</td>\n",
       "      <td>0.7288</td>\n",
       "      <td>0.703</td>\n",
       "      <td>0.7212</td>\n",
       "      <td>0.7157</td>\n",
       "      <td>0.7475</td>\n",
       "      <td>0.7354</td>\n",
       "      <td>0.746</td>\n",
       "      <td>0.7394</td>\n",
       "      <td>0.7212</td>\n",
       "      <td>...</td>\n",
       "      <td>0.7253</td>\n",
       "      <td>0.7455</td>\n",
       "      <td>0.7419</td>\n",
       "      <td>0.7288</td>\n",
       "      <td>0.7293</td>\n",
       "      <td>0.7313</td>\n",
       "      <td>0.7338</td>\n",
       "      <td>0.7167</td>\n",
       "      <td>0.7379</td>\n",
       "      <td>0.7263</td>\n",
       "    </tr>\n",
       "    <tr>\n",
       "      <th>param_pca__n_components</th>\n",
       "      <td>150</td>\n",
       "      <td>50</td>\n",
       "      <td>150</td>\n",
       "      <td>50</td>\n",
       "      <td>150</td>\n",
       "      <td>100</td>\n",
       "      <td>50</td>\n",
       "      <td>50</td>\n",
       "      <td>100</td>\n",
       "      <td>50</td>\n",
       "      <td>...</td>\n",
       "      <td>150</td>\n",
       "      <td>150</td>\n",
       "      <td>150</td>\n",
       "      <td>50</td>\n",
       "      <td>100</td>\n",
       "      <td>150</td>\n",
       "      <td>100</td>\n",
       "      <td>100</td>\n",
       "      <td>100</td>\n",
       "      <td>100</td>\n",
       "    </tr>\n",
       "    <tr>\n",
       "      <th>param_sfmrf__estimator</th>\n",
       "      <td>()</td>\n",
       "      <td>()</td>\n",
       "      <td>()</td>\n",
       "      <td>()</td>\n",
       "      <td>()</td>\n",
       "      <td>()</td>\n",
       "      <td>()</td>\n",
       "      <td>()</td>\n",
       "      <td>()</td>\n",
       "      <td>()</td>\n",
       "      <td>...</td>\n",
       "      <td>()</td>\n",
       "      <td>()</td>\n",
       "      <td>()</td>\n",
       "      <td>()</td>\n",
       "      <td>()</td>\n",
       "      <td>()</td>\n",
       "      <td>()</td>\n",
       "      <td>()</td>\n",
       "      <td>()</td>\n",
       "      <td>()</td>\n",
       "    </tr>\n",
       "  </tbody>\n",
       "</table>\n",
       "<p>6 rows × 45 columns</p>\n",
       "</div>"
      ],
      "text/plain": [
       "                              35        8         31        11        40  \\\n",
       "mean_fit_time            0.08666   0.09453   0.05379    0.1151    0.1293   \n",
       "mean_score_time          0.00298  0.002991  0.002348  0.003435  0.003778   \n",
       "mean_test_score           0.5455    0.5364    0.5273    0.5182    0.5182   \n",
       "mean_train_score          0.7056    0.7288     0.703    0.7212    0.7157   \n",
       "param_pca__n_components      150        50       150        50       150   \n",
       "param_sfmrf__estimator        ()        ()        ()        ()        ()   \n",
       "\n",
       "                               22        5         3         25        7   \\\n",
       "mean_fit_time             0.09562   0.07558   0.06504    0.1274   0.08635   \n",
       "mean_score_time          0.003045  0.002362  0.002448  0.003969  0.003094   \n",
       "mean_test_score            0.5182    0.5182    0.5045       0.5    0.4955   \n",
       "mean_train_score           0.7475    0.7354     0.746    0.7394    0.7212   \n",
       "param_pca__n_components       100        50        50       100        50   \n",
       "param_sfmrf__estimator         ()        ()        ()        ()        ()   \n",
       "\n",
       "                          ...           43        33        39        6   \\\n",
       "mean_fit_time             ...        0.159   0.07395    0.1254   0.08708   \n",
       "mean_score_time           ...     0.004304  0.002632  0.003596  0.003011   \n",
       "mean_test_score           ...         0.45    0.4455    0.4409    0.4409   \n",
       "mean_train_score          ...       0.7253    0.7455    0.7419    0.7288   \n",
       "param_pca__n_components   ...          150       150       150        50   \n",
       "param_sfmrf__estimator    ...           ()        ()        ()        ()   \n",
       "\n",
       "                               28        30        21        20        18  \\\n",
       "mean_fit_time                0.14   0.04849   0.09229   0.08343   0.06767   \n",
       "mean_score_time          0.004011  0.002147  0.002917  0.002756  0.002378   \n",
       "mean_test_score            0.4409    0.4364    0.4364    0.4364    0.4273   \n",
       "mean_train_score           0.7293    0.7313    0.7338    0.7167    0.7379   \n",
       "param_pca__n_components       100       150       100       100       100   \n",
       "param_sfmrf__estimator         ()        ()        ()        ()        ()   \n",
       "\n",
       "                              15  \n",
       "mean_fit_time            0.04569  \n",
       "mean_score_time          0.00194  \n",
       "mean_test_score           0.3909  \n",
       "mean_train_score          0.7263  \n",
       "param_pca__n_components      100  \n",
       "param_sfmrf__estimator        ()  \n",
       "\n",
       "[6 rows x 45 columns]"
      ]
     },
     "execution_count": 23,
     "metadata": {},
     "output_type": "execute_result"
    }
   ],
   "source": [
    "gspipe_results = pd.DataFrame(gspipe.cv_results_)\n",
    "gspipe_results.sort_values('rank_test_score', ascending=True).T.head(6)"
   ]
  },
  {
   "cell_type": "code",
   "execution_count": 13,
   "metadata": {},
   "outputs": [
    {
     "data": {
      "text/plain": [
       "3.7310012340545655"
      ]
     },
     "execution_count": 13,
     "metadata": {},
     "output_type": "execute_result"
    }
   ],
   "source": [
    "gspipe_results['mean_fit_time'].sum()"
   ]
  },
  {
   "cell_type": "code",
   "execution_count": 14,
   "metadata": {
    "collapsed": true
   },
   "outputs": [],
   "source": [
    "#gspipe_results.info(memory_usage='deep')"
   ]
  },
  {
   "cell_type": "code",
   "execution_count": 15,
   "metadata": {},
   "outputs": [
    {
     "name": "stdout",
     "output_type": "stream",
     "text": [
      "Fit time .1% data:  3.73100123405\n",
      "Best Score .1% data:  0.55\n"
     ]
    }
   ],
   "source": [
    "print(\"Fit time .1% data: \", gspipe_results['mean_fit_time'].sum())\n",
    "print(\"Best Score .1% data: \",gspipe.best_score_)\n",
    "### Pipeline3 for .1% (220 rows)\n",
    "picked_pipeline_220row = \\\n",
    "        pd.DataFrame.to_pickle(gspipe_results,\\\n",
    "        '/home/jovyan/work/DSI/projects/project_3/data/Pipeline3_knc_pt1_percent')"
   ]
  },
  {
   "cell_type": "code",
   "execution_count": 16,
   "metadata": {},
   "outputs": [
    {
     "name": "stdout",
     "output_type": "stream",
     "text": [
      "Fit time .5% data:  20.7094220161\n",
      "Best Score .5% data:  0.524545454545\n"
     ]
    }
   ],
   "source": [
    "### Pipeline3 for .5% (1100 rows)\n",
    "\n",
    "gspipe.fit(feature[:1100], np.ravel(target[:1100].values))\n",
    "gspipe_results = pd.DataFrame(gspipe.cv_results_)\n",
    "print(\"Fit time .5% data: \", gspipe_results['mean_fit_time'].sum())\n",
    "print(\"Best Score .5% data: \",gspipe.best_score_)\n",
    "gspipe_results_1100 = pd.DataFrame(gspipe.cv_results_)\n",
    "picked_Pipeline3_1100row = \\\n",
    "        pd.DataFrame.to_pickle(gspipe_results_1100,\\\n",
    "        '/home/jovyan/work/DSI/projects/project_3/data/Pipeline3_knc_pt5_percent')"
   ]
  },
  {
   "cell_type": "code",
   "execution_count": 17,
   "metadata": {},
   "outputs": [
    {
     "name": "stdout",
     "output_type": "stream",
     "text": [
      "Fit time 1% data:  46.2971142769\n",
      "Best Score 1% data:  0.530909090909\n"
     ]
    }
   ],
   "source": [
    "### Pipeline3 for 1% (2200 rows)\n",
    "\n",
    "gspipe.fit(feature[:2200], np.ravel(target[:2200].values))\n",
    "gspipe_results = pd.DataFrame(gspipe.cv_results_)\n",
    "print(\"Fit time 1% data: \", gspipe_results['mean_fit_time'].sum())\n",
    "print(\"Best Score 1% data: \",gspipe.best_score_)\n",
    "gspipe_results_2200 = pd.DataFrame(gspipe.cv_results_)\n",
    "picked_Pipeline2_2200row = \\\n",
    "        pd.DataFrame.to_pickle(gspipe_results_2200,\\\n",
    "        '/home/jovyan/work/DSI/projects/project_3/data/Pipeline3_knc_1_percent')"
   ]
  },
  {
   "cell_type": "code",
   "execution_count": 19,
   "metadata": {},
   "outputs": [
    {
     "name": "stdout",
     "output_type": "stream",
     "text": [
      "Fit time 5% data:  350.386888742\n",
      "Best Score 5% data: 0.522191272052\n"
     ]
    }
   ],
   "source": [
    "### Bench Marking for 5% (11000 rows)\n",
    "\n",
    "gspipe.fit(feature, np.ravel(target.values))\n",
    "gspipe_results = pd.DataFrame(gspipe.cv_results_)\n",
    "print(\"Fit time 5% data: \", gspipe_results['mean_fit_time'].sum())\n",
    "print(\"Best Score 5% data:\",gspipe.best_score_)\n",
    "gspipe_results_11000 = pd.DataFrame(gspipe.cv_results_)\n",
    "picked_GS_BenchMarkig_11000row = \\\n",
    "        pd.DataFrame.to_pickle(gspipe_results_11000,\\\n",
    "        '/home/jovyan/work/DSI/projects/project_3/data/Pipeline3_knc_5_percent')\n",
    "    "
   ]
  },
  {
   "cell_type": "code",
   "execution_count": null,
   "metadata": {
    "collapsed": true
   },
   "outputs": [],
   "source": []
  }
 ],
 "metadata": {
  "kernelspec": {
   "display_name": "Python 3",
   "language": "python",
   "name": "python3"
  },
  "language_info": {
   "codemirror_mode": {
    "name": "ipython",
    "version": 3
   },
   "file_extension": ".py",
   "mimetype": "text/x-python",
   "name": "python",
   "nbconvert_exporter": "python",
   "pygments_lexer": "ipython3",
   "version": "3.5.2"
  }
 },
 "nbformat": 4,
 "nbformat_minor": 2
}
