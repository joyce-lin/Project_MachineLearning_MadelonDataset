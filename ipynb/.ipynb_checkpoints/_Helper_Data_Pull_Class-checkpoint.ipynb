{
 "cells": [
  {
   "cell_type": "code",
   "execution_count": 7,
   "metadata": {
    "collapsed": false
   },
   "outputs": [],
   "source": [
    "COUNT = 220000\n",
    "HOST ='54.200.77.93'\n",
    "PORT = 5432\n",
    "DATABASE ='postgres'\n",
    "PASSWORD ='postgres'\n",
    "USER ='postgres'\n",
    "SEED = 42"
   ]
  },
  {
   "cell_type": "code",
   "execution_count": 20,
   "metadata": {
    "collapsed": true
   },
   "outputs": [],
   "source": [
    "query='''\n",
    "    SELECT * \n",
    "    FROM madelon_data_1\n",
    "    where madelon_data_1.yoda in ({});\n",
    "    \n",
    "'''.format('0')"
   ]
  },
  {
   "cell_type": "code",
   "execution_count": 25,
   "metadata": {
    "collapsed": true
   },
   "outputs": [],
   "source": [
    "import psycopg2\n",
    "from psycopg2.extras import RealDictCursor # return column name as key and result as value\n",
    "import pandas as pd"
   ]
  },
  {
   "cell_type": "code",
   "execution_count": 26,
   "metadata": {
    "collapsed": false
   },
   "outputs": [],
   "source": [
    "con = psycopg2.connect(database=DATABASE, port=PORT,user=USER, password=PASSWORD,host=HOST)\n",
    "cur=con.cursor(cursor_factory=RealDictCursor)\n",
    "cur.execute(query)\n",
    "result = cur.fetchall()\n",
    "con.close()"
   ]
  },
  {
   "cell_type": "code",
   "execution_count": 27,
   "metadata": {
    "collapsed": false
   },
   "outputs": [
    {
     "data": {
      "text/plain": [
       "0"
      ]
     },
     "execution_count": 27,
     "metadata": {},
     "output_type": "execute_result"
    }
   ],
   "source": [
    "result[0]['yoda']"
   ]
  },
  {
   "cell_type": "code",
   "execution_count": 28,
   "metadata": {
    "collapsed": false
   },
   "outputs": [
    {
     "data": {
      "text/html": [
       "<div>\n",
       "<table border=\"1\" class=\"dataframe\">\n",
       "  <thead>\n",
       "    <tr style=\"text-align: right;\">\n",
       "      <th></th>\n",
       "      <th>feat_0000</th>\n",
       "      <th>feat_0001</th>\n",
       "      <th>feat_0002</th>\n",
       "      <th>feat_0003</th>\n",
       "      <th>feat_0004</th>\n",
       "      <th>feat_0005</th>\n",
       "      <th>feat_0006</th>\n",
       "      <th>feat_0007</th>\n",
       "      <th>feat_0008</th>\n",
       "      <th>feat_0009</th>\n",
       "      <th>...</th>\n",
       "      <th>feat_0615</th>\n",
       "      <th>feat_0616</th>\n",
       "      <th>feat_0617</th>\n",
       "      <th>feat_0618</th>\n",
       "      <th>feat_0619</th>\n",
       "      <th>feat_0620</th>\n",
       "      <th>feat_0621</th>\n",
       "      <th>feat_0622</th>\n",
       "      <th>feat_0623</th>\n",
       "      <th>feat_0624</th>\n",
       "    </tr>\n",
       "    <tr>\n",
       "      <th>yoda</th>\n",
       "      <th></th>\n",
       "      <th></th>\n",
       "      <th></th>\n",
       "      <th></th>\n",
       "      <th></th>\n",
       "      <th></th>\n",
       "      <th></th>\n",
       "      <th></th>\n",
       "      <th></th>\n",
       "      <th></th>\n",
       "      <th></th>\n",
       "      <th></th>\n",
       "      <th></th>\n",
       "      <th></th>\n",
       "      <th></th>\n",
       "      <th></th>\n",
       "      <th></th>\n",
       "      <th></th>\n",
       "      <th></th>\n",
       "      <th></th>\n",
       "      <th></th>\n",
       "    </tr>\n",
       "  </thead>\n",
       "  <tbody>\n",
       "    <tr>\n",
       "      <th>0</th>\n",
       "      <td>-6.89058</td>\n",
       "      <td>1.898045</td>\n",
       "      <td>-0.081773</td>\n",
       "      <td>-0.211159</td>\n",
       "      <td>-1.89961</td>\n",
       "      <td>0.602261</td>\n",
       "      <td>1.257378</td>\n",
       "      <td>1.106597</td>\n",
       "      <td>-0.911746</td>\n",
       "      <td>-0.378782</td>\n",
       "      <td>...</td>\n",
       "      <td>-0.549621</td>\n",
       "      <td>-0.482523</td>\n",
       "      <td>-0.308728</td>\n",
       "      <td>0.140235</td>\n",
       "      <td>-2.109784</td>\n",
       "      <td>0.712417</td>\n",
       "      <td>-1.693767</td>\n",
       "      <td>0.613437</td>\n",
       "      <td>0.114052</td>\n",
       "      <td>0.219454</td>\n",
       "    </tr>\n",
       "  </tbody>\n",
       "</table>\n",
       "<p>1 rows × 625 columns</p>\n",
       "</div>"
      ],
      "text/plain": [
       "      feat_0000  feat_0001  feat_0002  feat_0003  feat_0004  feat_0005  \\\n",
       "yoda                                                                     \n",
       "0      -6.89058   1.898045  -0.081773  -0.211159   -1.89961   0.602261   \n",
       "\n",
       "      feat_0006  feat_0007  feat_0008  feat_0009    ...      feat_0615  \\\n",
       "yoda                                                ...                  \n",
       "0      1.257378   1.106597  -0.911746  -0.378782    ...      -0.549621   \n",
       "\n",
       "      feat_0616  feat_0617  feat_0618  feat_0619  feat_0620  feat_0621  \\\n",
       "yoda                                                                     \n",
       "0     -0.482523  -0.308728   0.140235  -2.109784   0.712417  -1.693767   \n",
       "\n",
       "      feat_0622  feat_0623  feat_0624  \n",
       "yoda                                   \n",
       "0      0.613437   0.114052   0.219454  \n",
       "\n",
       "[1 rows x 625 columns]"
      ]
     },
     "execution_count": 28,
     "metadata": {},
     "output_type": "execute_result"
    }
   ],
   "source": [
    "pd.DataFrame(result).set_index('yoda')"
   ]
  },
  {
   "cell_type": "code",
   "execution_count": 32,
   "metadata": {
    "collapsed": true
   },
   "outputs": [],
   "source": [
    "def make_query(table_name,yoda_list):\n",
    "    yoda_list=','.join([str(yoda) for yoda in yoda_list])\n",
    "    \n",
    "    query='''\n",
    "            SELECT * \n",
    "            FROM {}\n",
    "            where {}.yoda in ({});\n",
    "\n",
    "            '''.format(table_name,table_name, yoda_list)\n",
    "    \n",
    "    return query"
   ]
  },
  {
   "cell_type": "code",
   "execution_count": 33,
   "metadata": {
    "collapsed": false
   },
   "outputs": [
    {
     "name": "stdout",
     "output_type": "stream",
     "text": [
      "\n",
      "            SELECT * \n",
      "            FROM madelon_data_1\n",
      "            where madelon_data_1.yoda in (0,1,2);\n",
      "\n",
      "            \n"
     ]
    }
   ],
   "source": [
    "print(make_query('madelon_data_1',[0,1,2]))"
   ]
  },
  {
   "cell_type": "code",
   "execution_count": 35,
   "metadata": {
    "collapsed": false
   },
   "outputs": [],
   "source": [
    "def query_table (table_name,yoda_list):\n",
    "    query = make_query(table_name,yoda_list)\n",
    "    con = psycopg2.connect(database=DATABASE, port=PORT,user=USER, password=PASSWORD,host=HOST)\n",
    "    cur=con.cursor(cursor_factory=RealDictCursor)\n",
    "    cur.execute(query)\n",
    "    result = cur.fetchall()\n",
    "    con.close()\n",
    "    \n",
    "    return pd.DataFrame(result).set_index(['yoda'])"
   ]
  },
  {
   "cell_type": "code",
   "execution_count": 42,
   "metadata": {
    "collapsed": false
   },
   "outputs": [
    {
     "data": {
      "text/plain": [
       "{1: 'madelon_data_1',\n",
       " 2: 'madelon_data_2',\n",
       " 3: 'madelon_data_3',\n",
       " 4: 'madelon_data_4',\n",
       " 5: 'madelon_data_5',\n",
       " 6: 'madelon_data_6',\n",
       " 7: 'madelon_data_7',\n",
       " 8: 'madelon_data_8'}"
      ]
     },
     "execution_count": 42,
     "metadata": {},
     "output_type": "execute_result"
    }
   ],
   "source": [
    "TABLES = {i:'madelon_data_{}'.format(i) for i in range(1,9)}\n",
    "TABLES"
   ]
  },
  {
   "cell_type": "code",
   "execution_count": 43,
   "metadata": {
    "collapsed": true
   },
   "outputs": [],
   "source": [
    "## need a list of yodas\n",
    "def get_data(yodas):\n",
    "    dfs=[]\n",
    "    for table in range(1,9):\n",
    "        dfs.append(query_table(TABLES[table],yodas))\n",
    "        \n",
    "    merged = pd.concat(dfs, axis=1)\n",
    "    return merged\n"
   ]
  },
  {
   "cell_type": "code",
   "execution_count": 44,
   "metadata": {
    "collapsed": false
   },
   "outputs": [],
   "source": [
    "test = get_data([1,2,3])"
   ]
  },
  {
   "cell_type": "code",
   "execution_count": 45,
   "metadata": {
    "collapsed": false
   },
   "outputs": [
    {
     "data": {
      "text/html": [
       "<div>\n",
       "<table border=\"1\" class=\"dataframe\">\n",
       "  <thead>\n",
       "    <tr style=\"text-align: right;\">\n",
       "      <th></th>\n",
       "      <th>feat_0000</th>\n",
       "      <th>feat_0001</th>\n",
       "      <th>feat_0002</th>\n",
       "      <th>feat_0003</th>\n",
       "      <th>feat_0004</th>\n",
       "      <th>feat_0005</th>\n",
       "      <th>feat_0006</th>\n",
       "      <th>feat_0007</th>\n",
       "      <th>feat_0008</th>\n",
       "      <th>feat_0009</th>\n",
       "      <th>...</th>\n",
       "      <th>feat_4990</th>\n",
       "      <th>feat_4991</th>\n",
       "      <th>feat_4992</th>\n",
       "      <th>feat_4993</th>\n",
       "      <th>feat_4994</th>\n",
       "      <th>feat_4995</th>\n",
       "      <th>feat_4996</th>\n",
       "      <th>feat_4997</th>\n",
       "      <th>feat_4998</th>\n",
       "      <th>feat_4999</th>\n",
       "    </tr>\n",
       "    <tr>\n",
       "      <th>yoda</th>\n",
       "      <th></th>\n",
       "      <th></th>\n",
       "      <th></th>\n",
       "      <th></th>\n",
       "      <th></th>\n",
       "      <th></th>\n",
       "      <th></th>\n",
       "      <th></th>\n",
       "      <th></th>\n",
       "      <th></th>\n",
       "      <th></th>\n",
       "      <th></th>\n",
       "      <th></th>\n",
       "      <th></th>\n",
       "      <th></th>\n",
       "      <th></th>\n",
       "      <th></th>\n",
       "      <th></th>\n",
       "      <th></th>\n",
       "      <th></th>\n",
       "      <th></th>\n",
       "    </tr>\n",
       "  </thead>\n",
       "  <tbody>\n",
       "    <tr>\n",
       "      <th>1</th>\n",
       "      <td>2.836983</td>\n",
       "      <td>0.468780</td>\n",
       "      <td>-3.557848</td>\n",
       "      <td>0.253684</td>\n",
       "      <td>1.493863</td>\n",
       "      <td>-0.616160</td>\n",
       "      <td>0.006989</td>\n",
       "      <td>0.576280</td>\n",
       "      <td>-0.694593</td>\n",
       "      <td>1.965929</td>\n",
       "      <td>...</td>\n",
       "      <td>0.127546</td>\n",
       "      <td>-0.804609</td>\n",
       "      <td>1.053465</td>\n",
       "      <td>-1.142528</td>\n",
       "      <td>-0.850633</td>\n",
       "      <td>-0.456611</td>\n",
       "      <td>-1.368771</td>\n",
       "      <td>-0.121254</td>\n",
       "      <td>1.839091</td>\n",
       "      <td>-0.385779</td>\n",
       "    </tr>\n",
       "    <tr>\n",
       "      <th>2</th>\n",
       "      <td>7.872049</td>\n",
       "      <td>-0.403441</td>\n",
       "      <td>-0.112700</td>\n",
       "      <td>1.381223</td>\n",
       "      <td>1.034884</td>\n",
       "      <td>0.902558</td>\n",
       "      <td>-0.788522</td>\n",
       "      <td>-0.135428</td>\n",
       "      <td>0.575735</td>\n",
       "      <td>-0.770869</td>\n",
       "      <td>...</td>\n",
       "      <td>0.001346</td>\n",
       "      <td>0.511870</td>\n",
       "      <td>0.011579</td>\n",
       "      <td>-1.631434</td>\n",
       "      <td>0.199908</td>\n",
       "      <td>-1.075231</td>\n",
       "      <td>-1.192241</td>\n",
       "      <td>0.235938</td>\n",
       "      <td>-0.707320</td>\n",
       "      <td>-0.088669</td>\n",
       "    </tr>\n",
       "    <tr>\n",
       "      <th>3</th>\n",
       "      <td>-1.306599</td>\n",
       "      <td>-0.126873</td>\n",
       "      <td>-1.776510</td>\n",
       "      <td>0.430761</td>\n",
       "      <td>0.428714</td>\n",
       "      <td>0.579034</td>\n",
       "      <td>-0.057546</td>\n",
       "      <td>-0.021347</td>\n",
       "      <td>-0.112300</td>\n",
       "      <td>-0.417874</td>\n",
       "      <td>...</td>\n",
       "      <td>-0.969493</td>\n",
       "      <td>-0.486911</td>\n",
       "      <td>0.510224</td>\n",
       "      <td>-0.525300</td>\n",
       "      <td>1.433065</td>\n",
       "      <td>0.514432</td>\n",
       "      <td>-0.874046</td>\n",
       "      <td>0.740881</td>\n",
       "      <td>0.551109</td>\n",
       "      <td>-0.955274</td>\n",
       "    </tr>\n",
       "  </tbody>\n",
       "</table>\n",
       "<p>3 rows × 5000 columns</p>\n",
       "</div>"
      ],
      "text/plain": [
       "      feat_0000  feat_0001  feat_0002  feat_0003  feat_0004  feat_0005  \\\n",
       "yoda                                                                     \n",
       "1      2.836983   0.468780  -3.557848   0.253684   1.493863  -0.616160   \n",
       "2      7.872049  -0.403441  -0.112700   1.381223   1.034884   0.902558   \n",
       "3     -1.306599  -0.126873  -1.776510   0.430761   0.428714   0.579034   \n",
       "\n",
       "      feat_0006  feat_0007  feat_0008  feat_0009    ...      feat_4990  \\\n",
       "yoda                                                ...                  \n",
       "1      0.006989   0.576280  -0.694593   1.965929    ...       0.127546   \n",
       "2     -0.788522  -0.135428   0.575735  -0.770869    ...       0.001346   \n",
       "3     -0.057546  -0.021347  -0.112300  -0.417874    ...      -0.969493   \n",
       "\n",
       "      feat_4991  feat_4992  feat_4993  feat_4994  feat_4995  feat_4996  \\\n",
       "yoda                                                                     \n",
       "1     -0.804609   1.053465  -1.142528  -0.850633  -0.456611  -1.368771   \n",
       "2      0.511870   0.011579  -1.631434   0.199908  -1.075231  -1.192241   \n",
       "3     -0.486911   0.510224  -0.525300   1.433065   0.514432  -0.874046   \n",
       "\n",
       "      feat_4997  feat_4998  feat_4999  \n",
       "yoda                                   \n",
       "1     -0.121254   1.839091  -0.385779  \n",
       "2      0.235938  -0.707320  -0.088669  \n",
       "3      0.740881   0.551109  -0.955274  \n",
       "\n",
       "[3 rows x 5000 columns]"
      ]
     },
     "execution_count": 45,
     "metadata": {},
     "output_type": "execute_result"
    }
   ],
   "source": [
    "test"
   ]
  },
  {
   "cell_type": "code",
   "execution_count": 74,
   "metadata": {
    "collapsed": false
   },
   "outputs": [],
   "source": [
    "class project3tool(object):\n",
    "    \n",
    "    def __init__(self,\n",
    "                    COUNT = 220000,\n",
    "                    HOST = '54.200.77.93',\n",
    "                    PORT = 5432,\n",
    "                    DATABASE ='postgres',\n",
    "                    PASSWORD ='postgres',\n",
    "                    USER ='postgres',\n",
    "                    SEED = 42):\n",
    "        \n",
    "        self.COUNT = COUNT\n",
    "        self.HOST = HOST\n",
    "        self.PORT = PORT\n",
    "        self.DATABASE = DATABASE\n",
    "        self.PASSWORD = PASSWORD\n",
    "        self.USER = USER\n",
    "        self.SEED = SEED\n",
    "        self.TABLE = {i:'madelon_data_{}'.format(i) for i in range(1,9)}\n",
    "        self.POSITION = 0\n",
    "        \n",
    "    def make_query(self, table_name, yoda_list):\n",
    "        yoda_list=','.join([str(yoda) for yoda in yoda_list])\n",
    "\n",
    "        query='''\n",
    "                SELECT * \n",
    "                FROM {}\n",
    "                where {}.yoda in ({});\n",
    "\n",
    "                '''.format(table_name,table_name, yoda_list)\n",
    "    \n",
    "        return query\n",
    "\n",
    "    def query_table (self, table_name, yoda_list):\n",
    "        query = self.make_query(table_name,yoda_list)\n",
    "        con = psycopg2.connect(database=DATABASE, \n",
    "                               port=PORT,user=USER, \n",
    "                               password=PASSWORD,\n",
    "                               host=HOST)\n",
    "        \n",
    "        cur=con.cursor(cursor_factory=RealDictCursor)\n",
    "        cur.execute(query)\n",
    "        result = cur.fetchall()\n",
    "        con.close()\n",
    "        return pd.DataFrame(result).set_index(['yoda'])    \n",
    "\n",
    "\n",
    "    def get_data(self, yodas):\n",
    "        dfs=[]\n",
    "        for table in range(1,9):\n",
    "            dfs.append(self.query_table(TABLES[table],yodas))\n",
    "\n",
    "        merged = pd.concat(dfs, axis=1)\n",
    "        \n",
    "        target= self.query_table('madelon_target',yodas)\n",
    "        target = pd.DataFrame(target)\n",
    "        \n",
    "        return merged, target\n",
    "    \n",
    "    \n",
    "    def load_sequential(self, n=100, position = None):\n",
    "        if not position:\n",
    "            pos = self.POSITION\n",
    "        else:\n",
    "            pos = position\n",
    "        \n",
    "        data, target = self.get_data(range(pos, pos+n))\n",
    "        \n",
    "        if not position:\n",
    "            self.POSITION += n\n",
    "            \n",
    "        self.POSITION +=n\n",
    "        \n",
    "    \n",
    "        return data, target\n",
    "    \n",
    "    def reset_position(self):\n",
    "        self.POSITION = 0"
   ]
  },
  {
   "cell_type": "code",
   "execution_count": 75,
   "metadata": {
    "collapsed": true
   },
   "outputs": [],
   "source": [
    "p = project3tool()"
   ]
  },
  {
   "cell_type": "code",
   "execution_count": 76,
   "metadata": {
    "collapsed": false
   },
   "outputs": [
    {
     "data": {
      "text/plain": [
       "(      feat_0000  feat_0001  feat_0002  feat_0003  feat_0004  feat_0005  \\\n",
       " yoda                                                                     \n",
       " 1      2.836983   0.468780  -3.557848   0.253684   1.493863  -0.616160   \n",
       " 2      7.872049  -0.403441  -0.112700   1.381223   1.034884   0.902558   \n",
       " 3     -1.306599  -0.126873  -1.776510   0.430761   0.428714   0.579034   \n",
       " \n",
       "       feat_0006  feat_0007  feat_0008  feat_0009    ...      feat_4990  \\\n",
       " yoda                                                ...                  \n",
       " 1      0.006989   0.576280  -0.694593   1.965929    ...       0.127546   \n",
       " 2     -0.788522  -0.135428   0.575735  -0.770869    ...       0.001346   \n",
       " 3     -0.057546  -0.021347  -0.112300  -0.417874    ...      -0.969493   \n",
       " \n",
       "       feat_4991  feat_4992  feat_4993  feat_4994  feat_4995  feat_4996  \\\n",
       " yoda                                                                     \n",
       " 1     -0.804609   1.053465  -1.142528  -0.850633  -0.456611  -1.368771   \n",
       " 2      0.511870   0.011579  -1.631434   0.199908  -1.075231  -1.192241   \n",
       " 3     -0.486911   0.510224  -0.525300   1.433065   0.514432  -0.874046   \n",
       " \n",
       "       feat_4997  feat_4998  feat_4999  \n",
       " yoda                                   \n",
       " 1     -0.121254   1.839091  -0.385779  \n",
       " 2      0.235938  -0.707320  -0.088669  \n",
       " 3      0.740881   0.551109  -0.955274  \n",
       " \n",
       " [3 rows x 5000 columns],       target\n",
       " yoda        \n",
       " 1          1\n",
       " 2          1\n",
       " 3          1)"
      ]
     },
     "execution_count": 76,
     "metadata": {},
     "output_type": "execute_result"
    }
   ],
   "source": [
    "p.get_data([1,2,3])"
   ]
  },
  {
   "cell_type": "code",
   "execution_count": 77,
   "metadata": {
    "collapsed": false
   },
   "outputs": [
    {
     "data": {
      "text/plain": [
       "(      feat_0000  feat_0001  feat_0002  feat_0003  feat_0004  feat_0005  \\\n",
       " yoda                                                                     \n",
       " 0     -6.890580   1.898045  -0.081773  -0.211159  -1.899610   0.602261   \n",
       " 1      2.836983   0.468780  -3.557848   0.253684   1.493863  -0.616160   \n",
       " 2      7.872049  -0.403441  -0.112700   1.381223   1.034884   0.902558   \n",
       " 3     -1.306599  -0.126873  -1.776510   0.430761   0.428714   0.579034   \n",
       " 4     -2.607775   1.603122   0.181388  -1.714153  -1.498501   0.501507   \n",
       " \n",
       "       feat_0006  feat_0007  feat_0008  feat_0009    ...      feat_4990  \\\n",
       " yoda                                                ...                  \n",
       " 0      1.257378   1.106597  -0.911746  -0.378782    ...      -0.971490   \n",
       " 1      0.006989   0.576280  -0.694593   1.965929    ...       0.127546   \n",
       " 2     -0.788522  -0.135428   0.575735  -0.770869    ...       0.001346   \n",
       " 3     -0.057546  -0.021347  -0.112300  -0.417874    ...      -0.969493   \n",
       " 4     -1.101622  -0.690756   1.085934  -0.156181    ...      -0.785567   \n",
       " \n",
       "       feat_4991  feat_4992  feat_4993  feat_4994  feat_4995  feat_4996  \\\n",
       " yoda                                                                     \n",
       " 0      0.779660  -1.002319  -1.064847  -1.579634  -1.483756   0.469772   \n",
       " 1     -0.804609   1.053465  -1.142528  -0.850633  -0.456611  -1.368771   \n",
       " 2      0.511870   0.011579  -1.631434   0.199908  -1.075231  -1.192241   \n",
       " 3     -0.486911   0.510224  -0.525300   1.433065   0.514432  -0.874046   \n",
       " 4      0.150381  -1.157627   1.464807  -0.673677  -1.639545   0.860970   \n",
       " \n",
       "       feat_4997  feat_4998  feat_4999  \n",
       " yoda                                   \n",
       " 0     -1.504564  -0.562759   2.128202  \n",
       " 1     -0.121254   1.839091  -0.385779  \n",
       " 2      0.235938  -0.707320  -0.088669  \n",
       " 3      0.740881   0.551109  -0.955274  \n",
       " 4     -0.097254   0.339448  -1.349059  \n",
       " \n",
       " [5 rows x 5000 columns],       target\n",
       " yoda        \n",
       " 0          0\n",
       " 1          1\n",
       " 2          1\n",
       " 3          1\n",
       " 4          1)"
      ]
     },
     "execution_count": 77,
     "metadata": {},
     "output_type": "execute_result"
    }
   ],
   "source": [
    "p.load_sequential(n=5)"
   ]
  },
  {
   "cell_type": "code",
   "execution_count": 78,
   "metadata": {
    "collapsed": false
   },
   "outputs": [
    {
     "data": {
      "text/plain": [
       "(      feat_0000  feat_0001  feat_0002  feat_0003  feat_0004  feat_0005  \\\n",
       " yoda                                                                     \n",
       " 10    -5.801925   0.439438  -0.356751  -1.982038  -0.581173  -0.014606   \n",
       " 11    -5.233052   0.268431  -0.027052  -1.726165   0.507615  -0.971806   \n",
       " 12     3.446826   0.159899  -2.366513  -0.840647   0.816073   0.054734   \n",
       " 13    -1.845775   0.218009  -0.576930   0.273524  -0.833092   0.441670   \n",
       " 14    -1.907224  -1.249405   0.149745  -0.655946  -0.064271  -0.944549   \n",
       " 15     2.445022  -0.588875   1.241076   0.247915  -1.286078   0.255282   \n",
       " 16    -1.182019   0.461506  -1.241509  -0.800396   1.839876  -0.209792   \n",
       " 17    -0.651212   2.033381   1.793011   0.910166   1.017687   1.662920   \n",
       " 18    -0.457177   0.290030   0.576179  -1.610049  -0.247709  -0.381459   \n",
       " 19     1.300128   0.409136  -0.594941   0.242888   1.013736   0.348396   \n",
       " \n",
       "       feat_0006  feat_0007  feat_0008  feat_0009    ...      feat_4990  \\\n",
       " yoda                                                ...                  \n",
       " 10    -0.862536  -1.026256   0.909536  -0.572204    ...       0.979385   \n",
       " 11     0.087082  -0.230748  -1.239514   0.493251    ...      -0.627332   \n",
       " 12     0.628948   0.147335  -0.217512  -0.708545    ...      -1.242785   \n",
       " 13    -0.129321   0.283967   0.606651   0.000779    ...       1.099365   \n",
       " 14    -0.851590  -0.638722  -0.627529  -0.774123    ...      -1.874129   \n",
       " 15    -1.704355  -1.585273  -0.401216   0.518218    ...      -0.193670   \n",
       " 16     0.031875   0.163019   0.622967  -0.324272    ...       0.832690   \n",
       " 17    -0.369326  -1.472486  -0.630752   1.340601    ...       0.225508   \n",
       " 18    -0.384608   0.647763   0.055872   0.700103    ...      -0.066047   \n",
       " 19    -0.069503   0.640314   1.988610   0.084409    ...       1.271079   \n",
       " \n",
       "       feat_4991  feat_4992  feat_4993  feat_4994  feat_4995  feat_4996  \\\n",
       " yoda                                                                     \n",
       " 10     0.385326  -0.080820   0.114897   1.639061   0.653551  -0.191052   \n",
       " 11    -0.339675  -0.230333   1.160601   0.224828   0.530157  -0.112533   \n",
       " 12    -1.498861   0.025872  -0.332694   0.216485   1.096309   1.075742   \n",
       " 13     0.436215  -1.140123   0.017090   0.291896  -0.074320   1.336399   \n",
       " 14     0.292358   0.144196  -0.960849   0.588050  -2.041249  -0.566151   \n",
       " 15     0.761931  -0.114136   1.109599  -1.892525   1.332463   0.600149   \n",
       " 16    -1.061826  -0.103056  -1.135697  -0.651794   0.627743  -0.366511   \n",
       " 17    -0.445130   0.385047  -0.751613   0.551425  -0.103948   0.111444   \n",
       " 18    -0.892687  -0.316441   1.905715   0.229826  -1.137012  -0.316986   \n",
       " 19    -0.372683   0.396161   2.435052   0.589865  -0.550421  -0.566983   \n",
       " \n",
       "       feat_4997  feat_4998  feat_4999  \n",
       " yoda                                   \n",
       " 10     0.971843   0.520672  -0.535432  \n",
       " 11    -0.310450   0.502062  -1.603831  \n",
       " 12     0.350953   0.415858  -0.077368  \n",
       " 13    -0.320240   0.240230  -1.401876  \n",
       " 14    -0.034650  -0.241176  -0.335170  \n",
       " 15     1.110877   1.299077   1.168716  \n",
       " 16     0.262095  -0.582845   0.851397  \n",
       " 17    -2.022162   1.593620  -1.705416  \n",
       " 18     0.960037  -0.020215  -1.125775  \n",
       " 19     0.002360   0.359054   0.044488  \n",
       " \n",
       " [10 rows x 5000 columns],       target\n",
       " yoda        \n",
       " 10         0\n",
       " 11         0\n",
       " 12         0\n",
       " 13         0\n",
       " 14         0\n",
       " 15         1\n",
       " 16         1\n",
       " 17         0\n",
       " 18         0\n",
       " 19         0)"
      ]
     },
     "execution_count": 78,
     "metadata": {},
     "output_type": "execute_result"
    }
   ],
   "source": [
    "p.load_sequential(n=10)"
   ]
  },
  {
   "cell_type": "code",
   "execution_count": 79,
   "metadata": {
    "collapsed": true
   },
   "outputs": [],
   "source": [
    "p = project3tool()"
   ]
  },
  {
   "cell_type": "code",
   "execution_count": 80,
   "metadata": {
    "collapsed": true
   },
   "outputs": [],
   "source": [
    "from sklearn.preprocessing import StandardScaler"
   ]
  },
  {
   "cell_type": "code",
   "execution_count": 82,
   "metadata": {
    "collapsed": false
   },
   "outputs": [
    {
     "name": "stdout",
     "output_type": "stream",
     "text": [
      "400\n",
      "600\n"
     ]
    }
   ],
   "source": [
    "while p.POSITION < 500:\n",
    "    scaler=StandardScaler()\n",
    "    data, target = p.load_sequential()\n",
    "    scaler.partial_fit(data)\n",
    "    print(p.POSITION)"
   ]
  },
  {
   "cell_type": "code",
   "execution_count": 83,
   "metadata": {
    "collapsed": false
   },
   "outputs": [
    {
     "data": {
      "text/plain": [
       "220000"
      ]
     },
     "execution_count": 83,
     "metadata": {},
     "output_type": "execute_result"
    }
   ],
   "source": [
    "p.COUNT"
   ]
  },
  {
   "cell_type": "code",
   "execution_count": 84,
   "metadata": {
    "collapsed": false
   },
   "outputs": [
    {
     "data": {
      "text/plain": [
       "array([ 0.123651  , -0.02402638, -0.11457782, ...,  0.12474507,\n",
       "       -0.06037614,  0.09704351])"
      ]
     },
     "execution_count": 84,
     "metadata": {},
     "output_type": "execute_result"
    }
   ],
   "source": [
    "scaler.mean_"
   ]
  },
  {
   "cell_type": "code",
   "execution_count": 87,
   "metadata": {
    "collapsed": false
   },
   "outputs": [
    {
     "data": {
      "text/plain": [
       "array([ 4.12980595,  1.0267818 ,  1.03687979, ...,  0.98686858,\n",
       "        0.95646347,  0.93000137])"
      ]
     },
     "execution_count": 87,
     "metadata": {},
     "output_type": "execute_result"
    }
   ],
   "source": [
    "scaler.scale_\n"
   ]
  },
  {
   "cell_type": "code",
   "execution_count": 88,
   "metadata": {
    "collapsed": true
   },
   "outputs": [],
   "source": [
    "from sklearn.decomposition import IncrementalPCA"
   ]
  },
  {
   "cell_type": "code",
   "execution_count": 89,
   "metadata": {
    "collapsed": true
   },
   "outputs": [],
   "source": [
    "p.reset_position()"
   ]
  },
  {
   "cell_type": "code",
   "execution_count": 93,
   "metadata": {
    "collapsed": true
   },
   "outputs": [],
   "source": [
    "ipca=IncrementalPCA(n_components=50)"
   ]
  },
  {
   "cell_type": "code",
   "execution_count": 94,
   "metadata": {
    "collapsed": false
   },
   "outputs": [
    {
     "name": "stdout",
     "output_type": "stream",
     "text": [
      "240\n",
      "440\n",
      "640\n"
     ]
    }
   ],
   "source": [
    "while p.POSITION < 500:\n",
    "    scaler=StandardScaler()\n",
    "    data, target = p.load_sequential(n=100)\n",
    "    ipca.partial_fit(data)\n",
    "    print(p.POSITION)"
   ]
  },
  {
   "cell_type": "code",
   "execution_count": 100,
   "metadata": {
    "collapsed": false
   },
   "outputs": [
    {
     "data": {
      "text/plain": [
       "array([ 0.05199838,  0.04765862,  0.04452629,  0.03889619,  0.03779774,\n",
       "        0.036774  ,  0.03534152,  0.03302661,  0.03189357,  0.03101234,\n",
       "        0.02993744,  0.02807411,  0.02608479,  0.02576226,  0.02393152,\n",
       "        0.02358637,  0.02266962,  0.02234929,  0.02018346,  0.01958121,\n",
       "        0.01859444,  0.01794559,  0.01668456,  0.01564404,  0.01455843,\n",
       "        0.01442994,  0.01419577,  0.01348464,  0.01328727,  0.01193894,\n",
       "        0.01171093,  0.01140815,  0.01022363,  0.0099311 ,  0.00908707,\n",
       "        0.00857607,  0.00764072,  0.00731372,  0.00705968,  0.00640119,\n",
       "        0.00634844,  0.00607065,  0.00538446,  0.00527031,  0.00469591,\n",
       "        0.00450535,  0.00418646,  0.00403664,  0.00355017,  0.00314882])"
      ]
     },
     "execution_count": 100,
     "metadata": {},
     "output_type": "execute_result"
    }
   ],
   "source": [
    "ipca.explained_variance_ratio_"
   ]
  },
  {
   "cell_type": "code",
   "execution_count": 102,
   "metadata": {
    "collapsed": true
   },
   "outputs": [],
   "source": [
    "c0 = list(zip(data.columns, ipca.components_[0]))"
   ]
  },
  {
   "cell_type": "code",
   "execution_count": 104,
   "metadata": {
    "collapsed": false
   },
   "outputs": [],
   "source": [
    "c0.sort(key=lambda x: abs(x[1]), reverse=True)"
   ]
  },
  {
   "cell_type": "code",
   "execution_count": 105,
   "metadata": {
    "collapsed": false
   },
   "outputs": [
    {
     "data": {
      "text/plain": [
       "('feat_2727', 1.4141803461940276e-05)"
      ]
     },
     "execution_count": 105,
     "metadata": {},
     "output_type": "execute_result"
    }
   ],
   "source": [
    "c0[-50]"
   ]
  },
  {
   "cell_type": "code",
   "execution_count": 95,
   "metadata": {
    "collapsed": false
   },
   "outputs": [
    {
     "ename": "NameError",
     "evalue": "name 'steps' is not defined",
     "output_type": "error",
     "traceback": [
      "\u001b[0;31m---------------------------------------------------------------------------\u001b[0m",
      "\u001b[0;31mNameError\u001b[0m                                 Traceback (most recent call last)",
      "\u001b[0;32m<ipython-input-95-d2205b7fe018>\u001b[0m in \u001b[0;36m<module>\u001b[0;34m()\u001b[0m\n\u001b[0;32m----> 1\u001b[0;31m \u001b[0msteps\u001b[0m\u001b[0;34m[\u001b[0m\u001b[0;36m1\u001b[0m\u001b[0;34m]\u001b[0m \u001b[0;34m=\u001b[0m \u001b[0;34m(\u001b[0m\u001b[0;34m'pca'\u001b[0m\u001b[0;34m,\u001b[0m\u001b[0mipca\u001b[0m\u001b[0;34m)\u001b[0m\u001b[0;34m\u001b[0m\u001b[0m\n\u001b[0m",
      "\u001b[0;31mNameError\u001b[0m: name 'steps' is not defined"
     ]
    }
   ],
   "source": [
    "steps[1] = ('pca',ipca)"
   ]
  },
  {
   "cell_type": "code",
   "execution_count": 96,
   "metadata": {
    "collapsed": true
   },
   "outputs": [],
   "source": [
    "from sklearn.linear_model import LogisticRegression"
   ]
  },
  {
   "cell_type": "code",
   "execution_count": 97,
   "metadata": {
    "collapsed": true
   },
   "outputs": [],
   "source": [
    "lr = LogisticRegression(penalty='l1', C = 5, warm_start=True)"
   ]
  },
  {
   "cell_type": "code",
   "execution_count": 98,
   "metadata": {
    "collapsed": true
   },
   "outputs": [],
   "source": [
    "p.reset_position()"
   ]
  },
  {
   "cell_type": "code",
   "execution_count": 101,
   "metadata": {
    "collapsed": false
   },
   "outputs": [
    {
     "name": "stderr",
     "output_type": "stream",
     "text": [
      "/opt/conda/lib/python3.5/site-packages/sklearn/utils/validation.py:526: DataConversionWarning: A column-vector y was passed when a 1d array was expected. Please change the shape of y to (n_samples, ), for example using ravel().\n",
      "  y = column_or_1d(y, warn=True)\n"
     ]
    },
    {
     "name": "stdout",
     "output_type": "stream",
     "text": [
      "400\n",
      "600\n"
     ]
    }
   ],
   "source": [
    "while p.POSITION < 500:\n",
    "    scaler=StandardScaler()\n",
    "    data, target = p.load_sequential(n=100)\n",
    "    lr.fit(data.values, target.values)\n",
    "    print(p.POSITION)"
   ]
  },
  {
   "cell_type": "code",
   "execution_count": 108,
   "metadata": {
    "collapsed": false
   },
   "outputs": [
    {
     "data": {
      "text/plain": [
       "array([ 0.12812935,  0.00917368,  0.13638624,  0.0778494 ,  0.11878684,\n",
       "        0.03912059,  0.02077412,  0.01892413,  0.06884793,  0.03693613,\n",
       "        0.20904146,  0.03366215,  0.12117795,  0.50443123,  0.14089099,\n",
       "        0.11073418,  0.04247683,  0.8229803 ,  0.02451133,  0.02895009,\n",
       "        0.02340871,  0.18163055,  0.07708672,  0.02601854,  0.49814095,\n",
       "        0.08047096,  0.02250821,  0.10198115,  1.06066832])"
      ]
     },
     "execution_count": 108,
     "metadata": {},
     "output_type": "execute_result"
    }
   ],
   "source": [
    "lr.coef_[lr.coef_>0]"
   ]
  },
  {
   "cell_type": "code",
   "execution_count": null,
   "metadata": {
    "collapsed": true
   },
   "outputs": [],
   "source": []
  }
 ],
 "metadata": {
  "kernelspec": {
   "display_name": "Python 3",
   "language": "python",
   "name": "python3"
  },
  "language_info": {
   "codemirror_mode": {
    "name": "ipython",
    "version": 3
   },
   "file_extension": ".py",
   "mimetype": "text/x-python",
   "name": "python",
   "nbconvert_exporter": "python",
   "pygments_lexer": "ipython3",
   "version": "3.5.2"
  }
 },
 "nbformat": 4,
 "nbformat_minor": 2
}
