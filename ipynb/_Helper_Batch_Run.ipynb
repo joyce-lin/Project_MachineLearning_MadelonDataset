{
 "cells": [
  {
   "cell_type": "code",
   "execution_count": 1,
   "metadata": {
    "collapsed": true
   },
   "outputs": [],
   "source": [
    "import nbformat\n",
    "from nbconvert.preprocessors import ExecutePreprocessor"
   ]
  },
  {
   "cell_type": "code",
   "execution_count": 2,
   "metadata": {
    "collapsed": true
   },
   "outputs": [],
   "source": [
    "## add error handling\n",
    "## add time stamp\n",
    "# load\n",
    "\n",
    "#nb00 = nbformat.read(open('0_DropCols_ANOVA.ipynb'), as_version=4)\n",
    "nb01 = nbformat.read(open('0_DropDuplicates.ipynb'), as_version=4)\n",
    "\n",
    "nb1 = nbformat.read(open('1_BenchMarking-LR.ipynb'), as_version=4)\n",
    "nb2 = nbformat.read(open('2_Identify_Features_Pipeline1-LR.ipynb'), as_version=4)\n",
    "nb3 = nbformat.read(open('2_Identify_Features_Pipeline2-LR.ipynb'), as_version=4)\n",
    "nb4 = nbformat.read(open('2_Identify_Features_Pipeline3-LR.ipynb'), as_version=4)\n",
    "\n",
    "nb6 = nbformat.read(open('1_BenchMarking-KNN.ipynb'), as_version=4)\n",
    "nb7 = nbformat.read(open('2_Identify_Features_Pipeline1-KNN.ipynb'), as_version=4)\n",
    "nb8 = nbformat.read(open('2_Identify_Features_Pipeline2-KNN.ipynb'), as_version=4)\n",
    "nb9 = nbformat.read(open('2_Identify_Features_Pipeline3-KNN.ipynb'), as_version=4)\n",
    "\n",
    "\n",
    "#configure the notebook execution mode\n",
    "ep = ExecutePreprocessor(timeout=600000, kernel_name='python3')\n",
    "\n",
    "#ep.preprocess(nb00, {'metadata': {'path': '../data/'}})\n",
    "ep.preprocess(nb01, {'metadata': {'path': '../data/'}})\n",
    "#run\n",
    "ep.preprocess(nb1, {'metadata': {'path': '../data/'}})\n",
    "#save result\n",
    "nbformat.write(nb1, open('executed_nb1.ipynb', mode='wt'))\n",
    "\n",
    "ep.preprocess(nb2, {'metadata': {'path': '../data/'}})\n",
    "nbformat.write(nb2, open('executed_nb2.ipynb', mode='wt'))\n",
    "\n",
    "ep.preprocess(nb3, {'metadata': {'path': '../data/'}})\n",
    "nbformat.write(nb3, open('executed_nb3.ipynb', mode='wt'))\n",
    "\n",
    "ep.preprocess(nb4, {'metadata': {'path': '../data/'}})\n",
    "nbformat.write(nb4, open('executed_nb4.ipynb', mode='wt'))\n",
    "\n",
    "#ep.preprocess(nb5, {'metadata': {'path': '../data/'}})\n",
    "#nbformat.write(nb5, open('executed_nb5.ipynb', mode='wt'))\n",
    "\n",
    "ep.preprocess(nb6, {'metadata': {'path': '../data/'}})\n",
    "nbformat.write(nb6, open('executed_nb6.ipynb', mode='wt'))\n",
    "\n",
    "ep.preprocess(nb7, {'metadata': {'path': '../data/'}})\n",
    "nbformat.write(nb7, open('executed_nb7.ipynb', mode='wt'))\n",
    "\n",
    "ep.preprocess(nb8, {'metadata': {'path': '../data/'}})\n",
    "nbformat.write(nb8, open('executed_nb8.ipynb', mode='wt'))\n",
    "\n",
    "ep.preprocess(nb9, {'metadata': {'path': '../data/'}})\n",
    "nbformat.write(nb9, open('executed_nb9.ipynb', mode='wt'))"
   ]
  },
  {
   "cell_type": "code",
   "execution_count": null,
   "metadata": {
    "collapsed": true
   },
   "outputs": [],
   "source": []
  },
  {
   "cell_type": "code",
   "execution_count": null,
   "metadata": {
    "collapsed": true
   },
   "outputs": [],
   "source": []
  },
  {
   "cell_type": "code",
   "execution_count": null,
   "metadata": {
    "collapsed": true
   },
   "outputs": [],
   "source": []
  },
  {
   "cell_type": "code",
   "execution_count": null,
   "metadata": {
    "collapsed": true
   },
   "outputs": [],
   "source": [
    "### Error Handling\n",
    "\n",
    "nbformat.write(nb, open('executed_notebook.ipynb', mode='wt'))\n",
    "\n",
    "try:\n",
    "    out = ep.preprocess(nb, {'metadata': {'path': run_path}})\n",
    "except CellExecutionError:\n",
    "    msg = 'Error executing the notebook \"%s\".\\n\\n' % notebook_filename\n",
    "    msg += 'See notebook \"%s\" for the traceback.' % notebook_filename_out\n",
    "    print(msg)\n",
    "    raise\n",
    "finally:\n",
    "    nbformat.write(nb, open(notebook_filename_out, mode='wt'"
   ]
  },
  {
   "cell_type": "code",
   "execution_count": null,
   "metadata": {
    "collapsed": true
   },
   "outputs": [],
   "source": [
    "jupyter nbconvert --ExecutePreprocessor.timeout=600 --to notebook --execute mynotebook.ipynb"
   ]
  }
 ],
 "metadata": {
  "kernelspec": {
   "display_name": "Python 3",
   "language": "python",
   "name": "python3"
  },
  "language_info": {
   "codemirror_mode": {
    "name": "ipython",
    "version": 3
   },
   "file_extension": ".py",
   "mimetype": "text/x-python",
   "name": "python",
   "nbconvert_exporter": "python",
   "pygments_lexer": "ipython3",
   "version": "3.5.2"
  }
 },
 "nbformat": 4,
 "nbformat_minor": 2
}
