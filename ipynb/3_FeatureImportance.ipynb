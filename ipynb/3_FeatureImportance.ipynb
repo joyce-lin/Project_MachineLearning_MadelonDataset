{
 "cells": [
  {
   "cell_type": "code",
   "execution_count": 1,
   "metadata": {
    "collapsed": true
   },
   "outputs": [],
   "source": [
    "from os import chdir\n",
    "chdir('../')\n",
    "%matplotlib inline\n",
    "from lib import *\n",
    "\n",
    "pd.options.display.precision = 4\n",
    "import matplotlib as mpl\n",
    "mpl.rcParams['font.family'] = 'Lato'\n",
    "mpl.rcParams['font.weight'] = 700\n",
    "sns.set(font='Lato', font_scale=1)\n",
    "sns.set()\n",
    "np.random.seed(42)\n",
    "suppress_warnings()"
   ]
  },
  {
   "cell_type": "code",
   "execution_count": 2,
   "metadata": {
    "collapsed": true,
    "scrolled": true
   },
   "outputs": [],
   "source": [
    "feature = pd.read_pickle('/home/jovyan/work/DSI/projects/project_3/data/feature')\n",
    "target= pd.read_pickle('/home/jovyan/work/DSI/projects/project_3/data/target')"
   ]
  },
  {
   "cell_type": "code",
   "execution_count": 3,
   "metadata": {},
   "outputs": [
    {
     "data": {
      "text/plain": [
       "(10767, 1000)"
      ]
     },
     "metadata": {},
     "output_type": "display_data"
    },
    {
     "data": {
      "text/plain": [
       "(10767, 1)"
      ]
     },
     "metadata": {},
     "output_type": "display_data"
    }
   ],
   "source": [
    "display(feature.shape)\n",
    "display(target.shape)"
   ]
  },
  {
   "cell_type": "code",
   "execution_count": 4,
   "metadata": {
    "collapsed": true
   },
   "outputs": [],
   "source": [
    "from sklearn.preprocessing import StandardScaler\n",
    "from sklearn.model_selection import train_test_split, GridSearchCV, ShuffleSplit\n",
    "from sklearn.feature_selection import SelectKBest, SelectPercentile, f_classif\n",
    "from sklearn import svm\n",
    "from sklearn.tree import DecisionTreeClassifier, DecisionTreeRegressor\n",
    "from sklearn.decomposition import PCA\n",
    "from sklearn.linear_model import Lasso, LogisticRegression,LinearRegression\n",
    "from sklearn.pipeline import Pipeline\n",
    "from sklearn.ensemble import RandomForestClassifier\n",
    "from sklearn.feature_selection import SelectKBest, \\\n",
    "                                      SelectFromModel, \\\n",
    "                                      RFE, SelectPercentile, \\\n",
    "                                      SelectFdr, SelectFpr\n",
    "from sklearn.feature_selection import f_regression\n",
    "from sklearn.neighbors import KNeighborsClassifier"
   ]
  },
  {
   "cell_type": "markdown",
   "metadata": {},
   "source": [
    "### Selected Pipeline: Select K best - PCA - SelectFromModel(RFC) - KNN"
   ]
  },
  {
   "cell_type": "code",
   "execution_count": 5,
   "metadata": {
    "collapsed": true
   },
   "outputs": [],
   "source": [
    "pipe_for_gs = Pipeline([\n",
    "    ('skb', SelectKBest(score_func=f_classif, k = 250)),\n",
    "    ('pca',PCA(n_components = 50,random_state=42)),\n",
    "    ('sfmlr', SelectFromModel(LogisticRegression(C=10, penalty='l1',random_state=42))),\n",
    "    ('knc', KNeighborsClassifier())\n",
    "])"
   ]
  },
  {
   "cell_type": "code",
   "execution_count": 6,
   "metadata": {
    "collapsed": true
   },
   "outputs": [],
   "source": [
    "params={\n",
    "    'knc__n_neighbors':[3,6,9,12,15,18,21,24],\n",
    "\n",
    "}"
   ]
  },
  {
   "cell_type": "code",
   "execution_count": 7,
   "metadata": {
    "collapsed": true,
    "scrolled": true
   },
   "outputs": [],
   "source": [
    "gspipe = GridSearchCV(pipe_for_gs,\n",
    "                      param_grid=params,\n",
    "                      n_jobs=-1,\n",
    "                      cv=ShuffleSplit(random_state=42))"
   ]
  },
  {
   "cell_type": "code",
   "execution_count": 8,
   "metadata": {},
   "outputs": [
    {
     "data": {
      "text/plain": [
       "GridSearchCV(cv=ShuffleSplit(n_splits=10, random_state=42, test_size=0.1, train_size=None),\n",
       "       error_score='raise',\n",
       "       estimator=Pipeline(steps=[('skb', SelectKBest(k=250, score_func=<function f_classif at 0x7f9c15523730>)), ('pca', PCA(copy=True, iterated_power='auto', n_components=50, random_state=42,\n",
       "  svd_solver='auto', tol=0.0, whiten=False)), ('sfmlr', SelectFromModel(estimator=LogisticRegression(C=10, class_weight=None, dual=Fa...owski',\n",
       "           metric_params=None, n_jobs=1, n_neighbors=5, p=2,\n",
       "           weights='uniform'))]),\n",
       "       fit_params={}, iid=True, n_jobs=-1,\n",
       "       param_grid={'knc__n_neighbors': [3, 6, 9, 12, 15, 18, 21, 24]},\n",
       "       pre_dispatch='2*n_jobs', refit=True, return_train_score=True,\n",
       "       scoring=None, verbose=0)"
      ]
     },
     "execution_count": 8,
     "metadata": {},
     "output_type": "execute_result"
    }
   ],
   "source": [
    "gspipe.fit(feature, np.ravel(target.values))"
   ]
  },
  {
   "cell_type": "code",
   "execution_count": 9,
   "metadata": {},
   "outputs": [
    {
     "data": {
      "text/plain": [
       "0.53825441039925714"
      ]
     },
     "execution_count": 9,
     "metadata": {},
     "output_type": "execute_result"
    }
   ],
   "source": [
    "gspipe.best_score_"
   ]
  },
  {
   "cell_type": "code",
   "execution_count": 10,
   "metadata": {},
   "outputs": [
    {
     "data": {
      "text/plain": [
       "{'knc': KNeighborsClassifier(algorithm='auto', leaf_size=30, metric='minkowski',\n",
       "            metric_params=None, n_jobs=1, n_neighbors=3, p=2,\n",
       "            weights='uniform'),\n",
       " 'pca': PCA(copy=True, iterated_power='auto', n_components=50, random_state=42,\n",
       "   svd_solver='auto', tol=0.0, whiten=False),\n",
       " 'sfmlr': SelectFromModel(estimator=LogisticRegression(C=10, class_weight=None, dual=False, fit_intercept=True,\n",
       "           intercept_scaling=1, max_iter=100, multi_class='ovr', n_jobs=1,\n",
       "           penalty='l1', random_state=42, solver='liblinear', tol=0.0001,\n",
       "           verbose=0, warm_start=False),\n",
       "         prefit=False, threshold=None),\n",
       " 'skb': SelectKBest(k=250, score_func=<function f_classif at 0x7f9c15523730>)}"
      ]
     },
     "execution_count": 10,
     "metadata": {},
     "output_type": "execute_result"
    }
   ],
   "source": [
    "gspipe.best_estimator_.named_steps"
   ]
  },
  {
   "cell_type": "code",
   "execution_count": 11,
   "metadata": {
    "scrolled": true
   },
   "outputs": [
    {
     "data": {
      "text/html": [
       "<div>\n",
       "<table border=\"1\" class=\"dataframe\">\n",
       "  <thead>\n",
       "    <tr style=\"text-align: right;\">\n",
       "      <th></th>\n",
       "      <th>0</th>\n",
       "      <th>6</th>\n",
       "      <th>2</th>\n",
       "      <th>3</th>\n",
       "      <th>7</th>\n",
       "      <th>5</th>\n",
       "      <th>4</th>\n",
       "      <th>1</th>\n",
       "    </tr>\n",
       "  </thead>\n",
       "  <tbody>\n",
       "    <tr>\n",
       "      <th>mean_fit_time</th>\n",
       "      <td>0.5727</td>\n",
       "      <td>0.5225</td>\n",
       "      <td>0.5481</td>\n",
       "      <td>0.5257</td>\n",
       "      <td>0.5235</td>\n",
       "      <td>0.5246</td>\n",
       "      <td>0.5221</td>\n",
       "      <td>0.5646</td>\n",
       "    </tr>\n",
       "    <tr>\n",
       "      <th>mean_score_time</th>\n",
       "      <td>1.188</td>\n",
       "      <td>1.047</td>\n",
       "      <td>1.131</td>\n",
       "      <td>1.074</td>\n",
       "      <td>1.043</td>\n",
       "      <td>1.041</td>\n",
       "      <td>1.044</td>\n",
       "      <td>1.183</td>\n",
       "    </tr>\n",
       "    <tr>\n",
       "      <th>mean_test_score</th>\n",
       "      <td>0.5383</td>\n",
       "      <td>0.5367</td>\n",
       "      <td>0.5329</td>\n",
       "      <td>0.5324</td>\n",
       "      <td>0.5312</td>\n",
       "      <td>0.5297</td>\n",
       "      <td>0.5284</td>\n",
       "      <td>0.5258</td>\n",
       "    </tr>\n",
       "    <tr>\n",
       "      <th>mean_train_score</th>\n",
       "      <td>0.7689</td>\n",
       "      <td>0.6135</td>\n",
       "      <td>0.6577</td>\n",
       "      <td>0.6347</td>\n",
       "      <td>0.6064</td>\n",
       "      <td>0.6174</td>\n",
       "      <td>0.6289</td>\n",
       "      <td>0.6768</td>\n",
       "    </tr>\n",
       "    <tr>\n",
       "      <th>param_knc__n_neighbors</th>\n",
       "      <td>3</td>\n",
       "      <td>21</td>\n",
       "      <td>9</td>\n",
       "      <td>12</td>\n",
       "      <td>24</td>\n",
       "      <td>18</td>\n",
       "      <td>15</td>\n",
       "      <td>6</td>\n",
       "    </tr>\n",
       "    <tr>\n",
       "      <th>params</th>\n",
       "      <td>{'knc__n_neighbors': 3}</td>\n",
       "      <td>{'knc__n_neighbors': 21}</td>\n",
       "      <td>{'knc__n_neighbors': 9}</td>\n",
       "      <td>{'knc__n_neighbors': 12}</td>\n",
       "      <td>{'knc__n_neighbors': 24}</td>\n",
       "      <td>{'knc__n_neighbors': 18}</td>\n",
       "      <td>{'knc__n_neighbors': 15}</td>\n",
       "      <td>{'knc__n_neighbors': 6}</td>\n",
       "    </tr>\n",
       "  </tbody>\n",
       "</table>\n",
       "</div>"
      ],
      "text/plain": [
       "                                              0                         6  \\\n",
       "mean_fit_time                            0.5727                    0.5225   \n",
       "mean_score_time                           1.188                     1.047   \n",
       "mean_test_score                          0.5383                    0.5367   \n",
       "mean_train_score                         0.7689                    0.6135   \n",
       "param_knc__n_neighbors                        3                        21   \n",
       "params                  {'knc__n_neighbors': 3}  {'knc__n_neighbors': 21}   \n",
       "\n",
       "                                              2                         3  \\\n",
       "mean_fit_time                            0.5481                    0.5257   \n",
       "mean_score_time                           1.131                     1.074   \n",
       "mean_test_score                          0.5329                    0.5324   \n",
       "mean_train_score                         0.6577                    0.6347   \n",
       "param_knc__n_neighbors                        9                        12   \n",
       "params                  {'knc__n_neighbors': 9}  {'knc__n_neighbors': 12}   \n",
       "\n",
       "                                               7                         5  \\\n",
       "mean_fit_time                             0.5235                    0.5246   \n",
       "mean_score_time                            1.043                     1.041   \n",
       "mean_test_score                           0.5312                    0.5297   \n",
       "mean_train_score                          0.6064                    0.6174   \n",
       "param_knc__n_neighbors                        24                        18   \n",
       "params                  {'knc__n_neighbors': 24}  {'knc__n_neighbors': 18}   \n",
       "\n",
       "                                               4                        1  \n",
       "mean_fit_time                             0.5221                   0.5646  \n",
       "mean_score_time                            1.044                    1.183  \n",
       "mean_test_score                           0.5284                   0.5258  \n",
       "mean_train_score                          0.6289                   0.6768  \n",
       "param_knc__n_neighbors                        15                        6  \n",
       "params                  {'knc__n_neighbors': 15}  {'knc__n_neighbors': 6}  "
      ]
     },
     "execution_count": 11,
     "metadata": {},
     "output_type": "execute_result"
    }
   ],
   "source": [
    "gspipe_results = pd.DataFrame(gspipe.cv_results_)\n",
    "gspipe_results.sort_values('rank_test_score', ascending=True).T.head(6)"
   ]
  },
  {
   "cell_type": "code",
   "execution_count": 18,
   "metadata": {},
   "outputs": [
    {
     "data": {
      "text/plain": [
       "Pipeline(steps=[('skb', SelectKBest(k=250, score_func=<function f_classif at 0x7f9c15523730>)), ('pca', PCA(copy=True, iterated_power='auto', n_components=50, random_state=42,\n",
       "  svd_solver='auto', tol=0.0, whiten=False)), ('sfmlr', SelectFromModel(estimator=LogisticRegression(C=10, class_weight=None, dual=Fa...owski',\n",
       "           metric_params=None, n_jobs=1, n_neighbors=3, p=2,\n",
       "           weights='uniform'))])"
      ]
     },
     "execution_count": 18,
     "metadata": {},
     "output_type": "execute_result"
    }
   ],
   "source": [
    "pipe_for_gs = Pipeline([\n",
    "    ('skb', SelectKBest(score_func=f_classif, k = 250)),\n",
    "    ('pca',PCA(n_components = 50,random_state=42)),\n",
    "    ('sfmlr', SelectFromModel(LogisticRegression(C=10, penalty='l1',random_state=42))),\n",
    "    ('knc', KNeighborsClassifier(n_neighbors=3))\n",
    "])\n",
    "pipe_for_gs.fit(feature, np.ravel(target.values))"
   ]
  },
  {
   "cell_type": "code",
   "execution_count": 19,
   "metadata": {},
   "outputs": [
    {
     "data": {
      "text/plain": [
       "0.771709854184081"
      ]
     },
     "execution_count": 19,
     "metadata": {},
     "output_type": "execute_result"
    }
   ],
   "source": [
    "gspipe_results = pd.DataFrame(gspipe.cv_results_)\n",
    "pipe_for_gs.score(feature,target)"
   ]
  },
  {
   "cell_type": "code",
   "execution_count": 14,
   "metadata": {},
   "outputs": [
    {
     "data": {
      "text/plain": [
       "{'knc': KNeighborsClassifier(algorithm='auto', leaf_size=30, metric='minkowski',\n",
       "            metric_params=None, n_jobs=1, n_neighbors=3, p=2,\n",
       "            weights='uniform'),\n",
       " 'pca': PCA(copy=True, iterated_power='auto', n_components=50, random_state=42,\n",
       "   svd_solver='auto', tol=0.0, whiten=False),\n",
       " 'sfmlr': SelectFromModel(estimator=LogisticRegression(C=10, class_weight=None, dual=False, fit_intercept=True,\n",
       "           intercept_scaling=1, max_iter=100, multi_class='ovr', n_jobs=1,\n",
       "           penalty='l1', random_state=42, solver='liblinear', tol=0.0001,\n",
       "           verbose=0, warm_start=False),\n",
       "         prefit=False, threshold=None),\n",
       " 'skb': SelectKBest(k=250, score_func=<function f_classif at 0x7f9c15523730>)}"
      ]
     },
     "execution_count": 14,
     "metadata": {},
     "output_type": "execute_result"
    }
   ],
   "source": [
    "pipe_for_gs.named_steps"
   ]
  },
  {
   "cell_type": "code",
   "execution_count": 15,
   "metadata": {
    "collapsed": true
   },
   "outputs": [],
   "source": [
    "cols_after_SKB = feature.columns[pipe_for_gs.steps[0][1].get_support()]"
   ]
  },
  {
   "cell_type": "code",
   "execution_count": 16,
   "metadata": {},
   "outputs": [
    {
     "data": {
      "text/plain": [
       "(50,)"
      ]
     },
     "execution_count": 16,
     "metadata": {},
     "output_type": "execute_result"
    }
   ],
   "source": [
    "cols_after_SFM = feature.columns[pipe_for_gs.steps[0][1].get_support()][pipe_for_gs.steps[2][1].get_support()]\n",
    "cols_after_SFM.shape"
   ]
  },
  {
   "cell_type": "code",
   "execution_count": 17,
   "metadata": {
    "scrolled": false
   },
   "outputs": [
    {
     "data": {
      "text/plain": [
       "Index(['feat_0011', 'feat_0013', 'feat_0067', 'feat_0122', 'feat_0128',\n",
       "       'feat_0136', 'feat_0155', 'feat_0180', 'feat_0182', 'feat_0205',\n",
       "       'feat_0211', 'feat_0233', 'feat_0246', 'feat_0254', 'feat_0293',\n",
       "       'feat_0297', 'feat_0322', 'feat_0343', 'feat_0409', 'feat_0468',\n",
       "       'feat_0469', 'feat_0481', 'feat_0484', 'feat_0508', 'feat_0514',\n",
       "       'feat_0516', 'feat_0569', 'feat_0578', 'feat_0582', 'feat_0584',\n",
       "       'feat_0602', 'feat_0656', 'feat_0665', 'feat_0773', 'feat_0780',\n",
       "       'feat_0785', 'feat_0790', 'feat_0800', 'feat_0804', 'feat_0834',\n",
       "       'feat_0840', 'feat_0875', 'feat_0876', 'feat_0888', 'feat_0904',\n",
       "       'feat_0929', 'feat_0931', 'feat_0943', 'feat_0968', 'feat_1025'],\n",
       "      dtype='object')"
      ]
     },
     "execution_count": 17,
     "metadata": {},
     "output_type": "execute_result"
    }
   ],
   "source": [
    "cols_after_SFM"
   ]
  },
  {
   "cell_type": "code",
   "execution_count": null,
   "metadata": {
    "collapsed": true
   },
   "outputs": [],
   "source": []
  }
 ],
 "metadata": {
  "kernelspec": {
   "display_name": "Python 3",
   "language": "python",
   "name": "python3"
  },
  "language_info": {
   "codemirror_mode": {
    "name": "ipython",
    "version": 3
   },
   "file_extension": ".py",
   "mimetype": "text/x-python",
   "name": "python",
   "nbconvert_exporter": "python",
   "pygments_lexer": "ipython3",
   "version": "3.5.2"
  }
 },
 "nbformat": 4,
 "nbformat_minor": 2
}
