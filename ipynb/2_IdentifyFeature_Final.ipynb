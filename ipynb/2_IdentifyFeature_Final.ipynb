{
 "cells": [
  {
   "cell_type": "code",
   "execution_count": 1,
   "metadata": {
    "collapsed": true,
    "slideshow": {
     "slide_type": "skip"
    }
   },
   "outputs": [],
   "source": [
    "from os import chdir\n",
    "chdir('../')\n",
    "%matplotlib inline\n",
    "from lib import *\n",
    "pd.options.display.precision = 4\n",
    "import matplotlib as mpl\n",
    "mpl.rcParams['font.family'] = 'Lato'\n",
    "mpl.rcParams['font.weight'] = 700\n",
    "sns.set(font='Lato', font_scale=1)\n",
    "sns.set()\n",
    "np.random.seed(42)\n",
    "suppress_warnings()"
   ]
  },
  {
   "cell_type": "code",
   "execution_count": 2,
   "metadata": {
    "collapsed": true,
    "slideshow": {
     "slide_type": "skip"
    }
   },
   "outputs": [],
   "source": [
    "data_loadtime = pd.read_pickle('/home/jovyan/work/DSI/projects/project_3/data/data_loadtime')\n",
    "bm_knc_pt1 = pd.read_pickle('/home/jovyan/work/DSI/projects/project_3/data/GS_BenchMarkig_knc_pt1_percent')\n",
    "bm_knc_pt5 = pd.read_pickle('/home/jovyan/work/DSI/projects/project_3/data/GS_BenchMarkig_knc_pt5_percent')\n",
    "bm_knc_1 = pd.read_pickle('/home/jovyan/work/DSI/projects/project_3/data/GS_BenchMarkig_knc_1_percent')\n",
    "bm_knc_5 = pd.read_pickle('/home/jovyan/work/DSI/projects/project_3/data/GS_BenchMarkig_knc_5_percent')\n",
    "bm_lr_pt1 = pd.read_pickle('/home/jovyan/work/DSI/projects/project_3/data/GS_BenchMarkig_lr_pt1_percent')\n",
    "bm_lr_pt5 = pd.read_pickle('/home/jovyan/work/DSI/projects/project_3/data/GS_BenchMarkig_lr_pt5_percent')\n",
    "bm_lr_1 = pd.read_pickle('/home/jovyan/work/DSI/projects/project_3/data/GS_BenchMarkig_lr_1_percent')\n",
    "bm_lr_5 = pd.read_pickle('/home/jovyan/work/DSI/projects/project_3/data/GS_BenchMarkig_lr_5_percent')"
   ]
  },
  {
   "cell_type": "code",
   "execution_count": 3,
   "metadata": {
    "collapsed": true,
    "slideshow": {
     "slide_type": "skip"
    }
   },
   "outputs": [],
   "source": [
    "P1_knc_pt1 = pd.read_pickle('/home/jovyan/work/DSI/projects/project_3/data/Pipeline1_knc_pt1_percent')\n",
    "P1_knc_pt5 = pd.read_pickle('/home/jovyan/work/DSI/projects/project_3/data/Pipeline1_knc_pt5_percent')\n",
    "P1_knc_1 = pd.read_pickle('/home/jovyan/work/DSI/projects/project_3/data/Pipeline1_knc_1_percent')\n",
    "P1_knc_5 = pd.read_pickle('/home/jovyan/work/DSI/projects/project_3/data/Pipeline1_knc_5_percent')\n",
    "P2_knc_pt1 = pd.read_pickle('/home/jovyan/work/DSI/projects/project_3/data/Pipeline2_knc_pt1_percent')\n",
    "P2_knc_pt5 = pd.read_pickle('/home/jovyan/work/DSI/projects/project_3/data/Pipeline2_knc_pt5_percent')\n",
    "P2_knc_1 = pd.read_pickle('/home/jovyan/work/DSI/projects/project_3/data/Pipeline2_knc_1_percent')\n",
    "P2_knc_5 = pd.read_pickle('/home/jovyan/work/DSI/projects/project_3/data/Pipeline2_knc_5_percent')\n",
    "P3_knc_pt1 = pd.read_pickle('/home/jovyan/work/DSI/projects/project_3/data/Pipeline3_knc_pt1_percent')\n",
    "P3_knc_pt5 = pd.read_pickle('/home/jovyan/work/DSI/projects/project_3/data/Pipeline3_knc_pt5_percent')\n",
    "P3_knc_1 = pd.read_pickle('/home/jovyan/work/DSI/projects/project_3/data/Pipeline3_knc_1_percent')\n",
    "P3_knc_5 = pd.read_pickle('/home/jovyan/work/DSI/projects/project_3/data/Pipeline3_knc_5_percent')"
   ]
  },
  {
   "cell_type": "code",
   "execution_count": 4,
   "metadata": {},
   "outputs": [
    {
     "data": {
      "text/plain": [
       "0.5331476323119777"
      ]
     },
     "execution_count": 4,
     "metadata": {},
     "output_type": "execute_result"
    }
   ],
   "source": [
    "P2_knc_5['mean_test_score'][P2_knc_5['rank_test_score']==1].mean()"
   ]
  },
  {
   "cell_type": "code",
   "execution_count": 5,
   "metadata": {
    "collapsed": true,
    "slideshow": {
     "slide_type": "skip"
    }
   },
   "outputs": [],
   "source": [
    "P1_lr_pt1 = pd.read_pickle('/home/jovyan/work/DSI/projects/project_3/data/Pipeline1_lr_pt1_percent')\n",
    "P1_lr_pt5 = pd.read_pickle('/home/jovyan/work/DSI/projects/project_3/data/Pipeline1_lr_pt5_percent')\n",
    "P1_lr_1 = pd.read_pickle('/home/jovyan/work/DSI/projects/project_3/data/Pipeline1_lr_1_percent')\n",
    "P1_lr_5 = pd.read_pickle('/home/jovyan/work/DSI/projects/project_3/data/Pipeline1_lr_5_percent')\n",
    "P2_lr_pt1 = pd.read_pickle('/home/jovyan/work/DSI/projects/project_3/data/Pipeline2_lr_pt1_percent')\n",
    "P2_lr_pt5 = pd.read_pickle('/home/jovyan/work/DSI/projects/project_3/data/Pipeline2_lr_pt5_percent')\n",
    "P2_lr_1 = pd.read_pickle('/home/jovyan/work/DSI/projects/project_3/data/Pipeline2_lr_1_percent')\n",
    "P2_lr_5 = pd.read_pickle('/home/jovyan/work/DSI/projects/project_3/data/Pipeline2_lr_5_percent')\n",
    "P3_lr_pt1 = pd.read_pickle('/home/jovyan/work/DSI/projects/project_3/data/Pipeline3_lr_pt1_percent')\n",
    "P3_lr_pt5 = pd.read_pickle('/home/jovyan/work/DSI/projects/project_3/data/Pipeline3_lr_pt5_percent')\n",
    "P3_lr_1 = pd.read_pickle('/home/jovyan/work/DSI/projects/project_3/data/Pipeline3_lr_1_percent')\n",
    "P3_lr_5 = pd.read_pickle('/home/jovyan/work/DSI/projects/project_3/data/Pipeline3_lr_5_percent')"
   ]
  },
  {
   "cell_type": "code",
   "execution_count": 6,
   "metadata": {
    "collapsed": true,
    "slideshow": {
     "slide_type": "subslide"
    }
   },
   "outputs": [],
   "source": [
    "score_stats={\n",
    "    'bm_knc_pt1':[round(float((bm_knc_pt1['mean_test_score'][bm_knc_pt1['rank_test_score']==1].values[0])),3),\n",
    "                     round(float((bm_knc_pt1['mean_fit_time'][bm_knc_pt1['rank_test_score']==1].values[0])),3)],\n",
    "    \n",
    "    'bm_knc_pt5':[round(float((bm_knc_pt5['mean_test_score'][bm_knc_pt5['rank_test_score']==1].values[0])),3),\n",
    "                    round(float((bm_knc_pt5['mean_fit_time'][bm_knc_pt5['rank_test_score']==1].values[0])),3)],\n",
    "    \n",
    "    'bm_knc_1':[round(float((bm_knc_1['mean_test_score'][bm_knc_1['rank_test_score']==1].values[0])),3),\n",
    "                    round(float((bm_knc_1['mean_fit_time'][bm_knc_1['rank_test_score']==1].values[0])),3)],\n",
    "    \n",
    "    'bm_knc_5':[round(float((bm_knc_5['mean_test_score'][bm_knc_5['rank_test_score']==1].values[0])),3),\n",
    "                    round(float((bm_knc_5['mean_fit_time'][bm_knc_5['rank_test_score']==1].values[0])),3)],\n",
    "    \n",
    "    'bm_lr_pt1':[round(float((bm_lr_pt1['mean_test_score'][bm_lr_pt1['rank_test_score']==1].values[0])),3),\n",
    "                    round(float((bm_lr_pt1['mean_fit_time'][bm_lr_pt1['rank_test_score']==1].values[0])),3)],\n",
    "    \n",
    "    'bm_lr_pt5':[round(float((bm_lr_pt5['mean_test_score'][bm_lr_pt5['rank_test_score']==1].values[0])),3),\n",
    "                 round(float((bm_lr_pt1['mean_fit_time'][bm_lr_pt1['rank_test_score']==1].values[0])),10)],\n",
    "    \n",
    "    'bm_lr_1':[round(float((bm_lr_1['mean_test_score'][bm_lr_1['rank_test_score']==1].values[0])),3),\n",
    "                round(float((bm_lr_1['mean_fit_time'][bm_lr_1['rank_test_score']==1].values[0])),3)],\n",
    "    \n",
    "    'bm_lr_5':[round(float((bm_lr_5['mean_test_score'][bm_lr_5['rank_test_score']==1].values[0])),3),\n",
    "                round(float((bm_lr_5['mean_fit_time'][bm_lr_5['rank_test_score']==1].values[0])),3)],\n",
    "    \n",
    "    'P1_knc_pt1':[round(float((P1_knc_pt1['mean_test_score'][P1_knc_pt1['rank_test_score']==1].values[0])),3),\n",
    "                    round(float((P1_knc_pt1['mean_fit_time'][P1_knc_pt1['rank_test_score']==1].values[0])),3)],\n",
    "    \n",
    "    'P1_knc_pt5':[round(float((P1_knc_pt5['mean_test_score'][P1_knc_pt5['rank_test_score']==1].values[0])),3),\n",
    "                    round(float((P1_knc_pt5['mean_fit_time'][P1_knc_pt5['rank_test_score']==1].values[0])),3)],\n",
    "    \n",
    "    'P1_knc_1':[round(float((P1_knc_1['mean_test_score'][P1_knc_1['rank_test_score']==1].values[0])),3),\n",
    "                    round(float((P1_knc_1['mean_fit_time'][P1_knc_1['rank_test_score']==1].values[0])),3)],\n",
    "    \n",
    "    'P1_knc_5':[round(float((P1_knc_5['mean_test_score'][P1_knc_5['rank_test_score']==1].values[0])),3),\n",
    "                    round(float((P1_knc_5['mean_fit_time'][P1_knc_5['rank_test_score']==1].values[0])),3)],\n",
    "    \n",
    "    'P2_knc_pt1':[round(float((P2_knc_pt1['mean_test_score'][P2_knc_pt1['rank_test_score']==1])),3),\n",
    "                  round(float((P2_knc_pt1['mean_fit_time'][P2_knc_pt1['rank_test_score']==1])),3)],\n",
    "    \n",
    "    'P2_knc_pt5':[round(float((P2_knc_pt5['mean_test_score'][P2_knc_pt5['rank_test_score']==1])),3),\n",
    "                    round(float((P2_knc_pt5['mean_fit_time'][P2_knc_pt5['rank_test_score']==1])),3)],\n",
    "    \n",
    "    'P2_knc_1':[round(float((P2_knc_1['mean_test_score'][P2_knc_1['rank_test_score']==1].mean())),3),\n",
    "                round(float((P2_knc_1['mean_fit_time'][P2_knc_1['rank_test_score']==1].mean())),3)],\n",
    "    \n",
    "   \n",
    "    'P2_knc_5':[round(float((P2_knc_5['mean_test_score'][P2_knc_5['rank_test_score']==1].mean())),3),\n",
    "                round(float((P2_knc_5['mean_fit_time'][P2_knc_5['rank_test_score']==1].mean())),3)],\n",
    "    \n",
    "    'P3_knc_pt1':[round(float((P3_knc_pt1['mean_test_score'][P3_knc_pt1['rank_test_score']==1])),3),\n",
    "                    round(float((P3_knc_pt1['mean_fit_time'][P3_knc_pt1['rank_test_score']==1])),3)],\n",
    "                  \n",
    "    'P3_knc_pt5':[round(float((P3_knc_pt5['mean_test_score'][P3_knc_pt5['rank_test_score']==1])),3),\n",
    "                  round(float((P3_knc_pt5['mean_fit_time'][P3_knc_pt5['rank_test_score']==1])),3)],\n",
    "                  \n",
    "    'P3_knc_1':[round(float((P3_knc_1['mean_test_score'][P3_knc_1['rank_test_score']==1].values[0])),3),\n",
    "                round(float((P3_knc_1['mean_fit_time'][P3_knc_1['rank_test_score']==1].values[0])),3)],\n",
    "                  \n",
    "    'P3_knc_5':[round(float((P3_knc_5['mean_test_score'][P3_knc_5['rank_test_score']==1].values[0])),3),\n",
    "                round(float((P3_knc_5['mean_fit_time'][P3_knc_5['rank_test_score']==1].values[0])),3)],\n",
    "    \n",
    "    'P1_lr_pt1':[round(float((P1_lr_pt1['mean_test_score'][P1_lr_pt1['rank_test_score']==1].values[0])),3),\n",
    "                 round(float((P1_lr_pt1['mean_fit_time'][P1_lr_pt1['rank_test_score']==1].values[0])),3)],\n",
    "                  \n",
    "    'P1_lr_pt5':[round(float((P1_lr_pt5['mean_test_score'][P1_lr_pt5['rank_test_score']==1].values[0])),3),\n",
    "                 round(float((P1_lr_pt5['mean_fit_time'][P1_lr_pt5['rank_test_score']==1].values[0])),3)],\n",
    "                  \n",
    "    'P1_lr_1':[round(float((P1_lr_1['mean_test_score'][P1_knc_1['rank_test_score']==1].values[0])),3),\n",
    "               round(float((P1_lr_1['mean_fit_time'][P1_knc_1['rank_test_score']==1].values[0])),3)],\n",
    "    \n",
    "    'P1_lr_5':[round(float((P1_lr_5['mean_test_score'][P1_knc_5['rank_test_score']==1].values[0])),3),\n",
    "               round(float((P1_lr_5['mean_fit_time'][P1_knc_5['rank_test_score']==1].values[0])),3)],\n",
    "    \n",
    "    'P2_lr_pt1':[round(float((P2_lr_pt1['mean_test_score'][P2_lr_pt1['rank_test_score']==1].values[0])),3),\n",
    "                 round(float((P2_lr_pt1['mean_fit_time'][P2_lr_pt1['rank_test_score']==1].values[0])),3)],\n",
    "                  \n",
    "    'P2_lr_pt5':[round(float((P2_lr_pt5['mean_test_score'][P2_lr_pt5['rank_test_score']==1].values[0])),3),\n",
    "                 round(float((P2_lr_pt5['mean_fit_time'][P2_lr_pt5['rank_test_score']==1].values[0])),3)],\n",
    "    \n",
    "    'P2_lr_5':[round(float((P2_lr_5['mean_test_score'][P2_lr_5['rank_test_score']==1].values[0])),3),\n",
    "                 round(float((P2_lr_5['mean_fit_time'][P2_lr_5['rank_test_score']==1].values[0])),3)],\n",
    "                  \n",
    "    'P2_lr_1':[round(float((P2_lr_1['mean_test_score'][P2_lr_1['rank_test_score']==1].values[0])),3),\n",
    "               round(float((P2_lr_1['mean_fit_time'][P2_lr_1['rank_test_score']==1].values[0])),3)],\n",
    "                  \n",
    "    'P3_lr_pt1':[round(float((P2_lr_pt1['mean_test_score'][P3_lr_pt1['rank_test_score']==1].values[0])),3),\n",
    "                 round(float((P2_lr_pt1['mean_test_score'][P3_lr_pt1['rank_test_score']==1].values[0])),3)],\n",
    "                 \n",
    "    'P3_lr_pt5':[round(float((P2_lr_pt5['mean_test_score'][P3_lr_pt5['rank_test_score']==1].values[0])),3),\n",
    "                 round(float((P2_lr_pt5['mean_test_score'][P3_lr_pt5['rank_test_score']==1].values[0])),3)],\n",
    "                  \n",
    "    'P3_lr_1':[round(float((P2_lr_1['mean_test_score'][P3_lr_1['rank_test_score']==1].values[0])),3),\n",
    "               round(float((P2_lr_1['mean_test_score'][P3_lr_1['rank_test_score']==1].values[0])),3)],\n",
    "    \n",
    "    'P3_lr_5':[round(float((P2_lr_5['mean_test_score'][P3_lr_5['rank_test_score']==1].values[0])),3),\n",
    "               round(float((P2_lr_5['mean_test_score'][P3_lr_5['rank_test_score']==1].values[0])),3)],\n",
    "}"
   ]
  },
  {
   "cell_type": "code",
   "execution_count": 7,
   "metadata": {
    "collapsed": true,
    "slideshow": {
     "slide_type": "skip"
    }
   },
   "outputs": [],
   "source": [
    "Total_Fit_Time = {\n",
    "'P1_knc_1': P1_knc_1['mean_fit_time'].sum(),\n",
    "'P1_knc_5': P1_knc_5['mean_fit_time'].sum(),\n",
    "'P1_knc_pt1': P1_knc_pt1['mean_fit_time'].sum(),\n",
    "'P1_knc_pt5': P1_knc_pt5['mean_fit_time'].sum(),\n",
    "'P1_lr_1': P1_lr_1['mean_fit_time'].sum(),\n",
    "'P1_lr_5': P1_lr_5['mean_fit_time'].sum(),\n",
    "'P1_lr_pt1': P1_lr_pt1['mean_fit_time'].sum(),\n",
    "'P1_lr_pt5': P1_lr_pt5['mean_fit_time'].sum(),\n",
    "'P2_knc_1': P2_knc_1['mean_fit_time'].sum(),\n",
    "'P2_knc_5': P2_knc_5['mean_fit_time'].sum(),    \n",
    "'P2_knc_pt1': P2_knc_pt1['mean_fit_time'].sum(),\n",
    "'P2_knc_pt5':P2_knc_pt5['mean_fit_time'].sum(),\n",
    "'P2_lr_1': P2_lr_1['mean_fit_time'].sum(),\n",
    "'P2_lr_5': P2_lr_5['mean_fit_time'].sum(),    \n",
    "'P2_lr_pt1': P2_lr_pt1['mean_fit_time'].sum(),\n",
    "'P2_lr_pt5': P2_lr_pt5['mean_fit_time'].sum(),\n",
    "'P3_knc_1': P3_knc_1['mean_fit_time'].sum(),\n",
    "'P3_knc_5': P3_knc_5['mean_fit_time'].sum(),    \n",
    "'P3_knc_pt1': P3_knc_pt1['mean_fit_time'].sum(),\n",
    "'P3_knc_pt5': P3_knc_pt5['mean_fit_time'].sum(),\n",
    "'P3_lr_1': P3_lr_1['mean_fit_time'].sum(),\n",
    "'P3_lr_5': P3_lr_5['mean_fit_time'].sum(),    \n",
    "'P3_lr_pt1': P3_lr_pt1['mean_fit_time'].sum(),\n",
    "'P3_lr_pt5': P3_lr_pt5['mean_fit_time'].sum(),\n",
    "'bm_knc_1': bm_knc_1['mean_fit_time'].sum(),\n",
    "'bm_knc_5': bm_knc_5['mean_fit_time'].sum(),\n",
    "'bm_knc_pt1': bm_knc_pt1['mean_fit_time'].sum(),\n",
    "'bm_knc_pt5': bm_knc_pt5['mean_fit_time'].sum(),\n",
    "'bm_lr_1': bm_lr_1['mean_fit_time'].sum(),\n",
    "'bm_lr_5': bm_lr_5['mean_fit_time'].sum(),    \n",
    "'bm_lr_pt1': bm_lr_pt1['mean_fit_time'].sum(),\n",
    "'bm_lr_pt5':bm_lr_pt5['mean_fit_time'].sum(),\n",
    "}"
   ]
  },
  {
   "cell_type": "code",
   "execution_count": 8,
   "metadata": {
    "collapsed": true,
    "slideshow": {
     "slide_type": "skip"
    }
   },
   "outputs": [],
   "source": [
    "stats = pd.DataFrame.from_dict(score_stats).T\n",
    "stats.rename(columns={0: 'Best_Test_Score', 1:'Mean_Fit_Time'}, inplace=True)\n",
    "stats.reset_index(level=0, inplace=True)\n",
    "stats.rename(columns={'index': 'Run_Case'}, inplace=True)\n",
    "stats = stats.merge(stats['Run_Case'].str[:].str.split('_', expand=True),left_index=True, right_index=True)\n",
    "stats.rename(columns={0: 'Transformer_Pipeline', 1:'Model', 2:'DataSize'}, inplace=True)"
   ]
  },
  {
   "cell_type": "code",
   "execution_count": 9,
   "metadata": {
    "collapsed": true,
    "slideshow": {
     "slide_type": "skip"
    }
   },
   "outputs": [],
   "source": [
    "stats['DataSize']=stats['DataSize'].mask(stats['DataSize']== 'pt5',0.0005)\n",
    "stats['DataSize']=stats['DataSize'].mask(stats['DataSize']== 'pt1',0.0001)\n",
    "stats['DataSize']=stats['DataSize'].mask(stats['DataSize']== '1',0.001)\n",
    "stats['DataSize']=stats['DataSize'].mask(stats['DataSize']== '5',0.005)"
   ]
  },
  {
   "cell_type": "code",
   "execution_count": 10,
   "metadata": {
    "collapsed": true,
    "slideshow": {
     "slide_type": "skip"
    }
   },
   "outputs": [],
   "source": [
    "pickle_score_stats = pd.DataFrame.to_pickle(stats,\\\n",
    "        '/home/jovyan/work/DSI/projects/project_3/data/score_stats')"
   ]
  },
  {
   "cell_type": "markdown",
   "metadata": {
    "slideshow": {
     "slide_type": "skip"
    }
   },
   "source": [
    "#### Fit Time "
   ]
  },
  {
   "cell_type": "code",
   "execution_count": 12,
   "metadata": {
    "collapsed": true,
    "slideshow": {
     "slide_type": "skip"
    }
   },
   "outputs": [],
   "source": [
    "Total_Fit_Time= pd.DataFrame.from_dict(Total_Fit_Time,orient='index')"
   ]
  },
  {
   "cell_type": "code",
   "execution_count": 13,
   "metadata": {
    "collapsed": true,
    "slideshow": {
     "slide_type": "skip"
    }
   },
   "outputs": [],
   "source": [
    "Total_Fit_Time.rename(columns={0: 'sum_Fit_Time'}, inplace=True)\n",
    "Total_Fit_Time.reset_index(level=0, inplace=True)\n",
    "Total_Fit_Time.rename(columns={'index': 'Run_Case'}, inplace=True)\n",
    "Total_Fit_Time = Total_Fit_Time.merge(Total_Fit_Time['Run_Case'].str[:].str.split('_', expand=True),left_index=True, right_index=True)\n",
    "Total_Fit_Time.rename(columns={0: 'Transformer_Pipeline', 1:'Model', 2:'DataSize'}, inplace=True)"
   ]
  },
  {
   "cell_type": "code",
   "execution_count": 14,
   "metadata": {
    "collapsed": true,
    "slideshow": {
     "slide_type": "skip"
    }
   },
   "outputs": [],
   "source": [
    "Total_Fit_Time['DataSize']=Total_Fit_Time['DataSize'].mask(Total_Fit_Time['DataSize']== 'pt5',0.0005)\n",
    "Total_Fit_Time['DataSize']=Total_Fit_Time['DataSize'].mask(Total_Fit_Time['DataSize']== 'pt1',0.0001)\n",
    "Total_Fit_Time['DataSize']=Total_Fit_Time['DataSize'].mask(Total_Fit_Time['DataSize']== '1',0.001)\n",
    "Total_Fit_Time['DataSize']=Total_Fit_Time['DataSize'].mask(Total_Fit_Time['DataSize']== '5',0.005)\n",
    "Total_Fit_Time=(Total_Fit_Time.sort(columns='DataSize',ascending=True))"
   ]
  },
  {
   "cell_type": "code",
   "execution_count": 15,
   "metadata": {
    "collapsed": true,
    "scrolled": true,
    "slideshow": {
     "slide_type": "skip"
    }
   },
   "outputs": [],
   "source": [
    "Total_Fit_Time=Total_Fit_Time.sort(columns='sum_Fit_Time',ascending=True)\n",
    "pickle_Total_Fit_Time = pd.DataFrame.to_pickle(Total_Fit_Time,\\\n",
    "        '/home/jovyan/work/DSI/projects/project_3/data/Total_Fit_Time')"
   ]
  },
  {
   "cell_type": "code",
   "execution_count": 16,
   "metadata": {
    "scrolled": true,
    "slideshow": {
     "slide_type": "slide"
    }
   },
   "outputs": [
    {
     "data": {
      "text/html": [
       "<div>\n",
       "<table border=\"1\" class=\"dataframe\">\n",
       "  <thead>\n",
       "    <tr style=\"text-align: right;\">\n",
       "      <th></th>\n",
       "      <th></th>\n",
       "      <th>Best_Test_Score</th>\n",
       "      <th>Mean_Fit_Time</th>\n",
       "    </tr>\n",
       "    <tr>\n",
       "      <th>Transformer_Pipeline</th>\n",
       "      <th>Model</th>\n",
       "      <th></th>\n",
       "      <th></th>\n",
       "    </tr>\n",
       "  </thead>\n",
       "  <tbody>\n",
       "    <tr>\n",
       "      <th rowspan=\"2\" valign=\"top\">P1</th>\n",
       "      <th>knc</th>\n",
       "      <td>0.5262</td>\n",
       "      <td>0.0675</td>\n",
       "    </tr>\n",
       "    <tr>\n",
       "      <th>lr</th>\n",
       "      <td>0.4755</td>\n",
       "      <td>0.4888</td>\n",
       "    </tr>\n",
       "    <tr>\n",
       "      <th rowspan=\"2\" valign=\"top\">P2</th>\n",
       "      <th>knc</th>\n",
       "      <td>0.5337</td>\n",
       "      <td>0.3590</td>\n",
       "    </tr>\n",
       "    <tr>\n",
       "      <th>lr</th>\n",
       "      <td>0.5135</td>\n",
       "      <td>0.3535</td>\n",
       "    </tr>\n",
       "    <tr>\n",
       "      <th rowspan=\"2\" valign=\"top\">P3</th>\n",
       "      <th>knc</th>\n",
       "      <td>0.5320</td>\n",
       "      <td>1.0940</td>\n",
       "    </tr>\n",
       "    <tr>\n",
       "      <th>lr</th>\n",
       "      <td>0.4830</td>\n",
       "      <td>0.4830</td>\n",
       "    </tr>\n",
       "    <tr>\n",
       "      <th rowspan=\"2\" valign=\"top\">bm</th>\n",
       "      <th>knc</th>\n",
       "      <td>0.5308</td>\n",
       "      <td>0.1105</td>\n",
       "    </tr>\n",
       "    <tr>\n",
       "      <th>lr</th>\n",
       "      <td>0.4860</td>\n",
       "      <td>2.5096</td>\n",
       "    </tr>\n",
       "  </tbody>\n",
       "</table>\n",
       "</div>"
      ],
      "text/plain": [
       "                            Best_Test_Score  Mean_Fit_Time\n",
       "Transformer_Pipeline Model                                \n",
       "P1                   knc             0.5262         0.0675\n",
       "                     lr              0.4755         0.4888\n",
       "P2                   knc             0.5337         0.3590\n",
       "                     lr              0.5135         0.3535\n",
       "P3                   knc             0.5320         1.0940\n",
       "                     lr              0.4830         0.4830\n",
       "bm                   knc             0.5308         0.1105\n",
       "                     lr              0.4860         2.5096"
      ]
     },
     "execution_count": 16,
     "metadata": {},
     "output_type": "execute_result"
    }
   ],
   "source": [
    "stats.groupby(by=[stats['Transformer_Pipeline'],stats['Model']]).mean()"
   ]
  },
  {
   "cell_type": "code",
   "execution_count": 35,
   "metadata": {
    "slideshow": {
     "slide_type": "slide"
    }
   },
   "outputs": [
    {
     "data": {
      "text/html": [
       "<div>\n",
       "<table border=\"1\" class=\"dataframe\">\n",
       "  <thead>\n",
       "    <tr style=\"text-align: right;\">\n",
       "      <th></th>\n",
       "      <th></th>\n",
       "      <th>Run_Case</th>\n",
       "      <th>Best_Test_Score</th>\n",
       "      <th>Mean_Fit_Time</th>\n",
       "      <th>Transformer_Pipeline</th>\n",
       "      <th>Model</th>\n",
       "      <th>DataSize</th>\n",
       "    </tr>\n",
       "    <tr>\n",
       "      <th>Transformer_Pipeline</th>\n",
       "      <th>Model</th>\n",
       "      <th></th>\n",
       "      <th></th>\n",
       "      <th></th>\n",
       "      <th></th>\n",
       "      <th></th>\n",
       "      <th></th>\n",
       "    </tr>\n",
       "  </thead>\n",
       "  <tbody>\n",
       "    <tr>\n",
       "      <th rowspan=\"2\" valign=\"top\">P1</th>\n",
       "      <th>knc</th>\n",
       "      <td>P1_knc_5</td>\n",
       "      <td>0.524</td>\n",
       "      <td>0.207</td>\n",
       "      <td>P1</td>\n",
       "      <td>knc</td>\n",
       "      <td>0.005</td>\n",
       "    </tr>\n",
       "    <tr>\n",
       "      <th>lr</th>\n",
       "      <td>P1_lr_5</td>\n",
       "      <td>0.516</td>\n",
       "      <td>1.516</td>\n",
       "      <td>P1</td>\n",
       "      <td>lr</td>\n",
       "      <td>0.005</td>\n",
       "    </tr>\n",
       "    <tr>\n",
       "      <th rowspan=\"2\" valign=\"top\">P2</th>\n",
       "      <th>knc</th>\n",
       "      <td>P2_knc_5</td>\n",
       "      <td>0.533</td>\n",
       "      <td>0.953</td>\n",
       "      <td>P2</td>\n",
       "      <td>knc</td>\n",
       "      <td>0.005</td>\n",
       "    </tr>\n",
       "    <tr>\n",
       "      <th>lr</th>\n",
       "      <td>P2_lr_5</td>\n",
       "      <td>0.524</td>\n",
       "      <td>1.040</td>\n",
       "      <td>P2</td>\n",
       "      <td>lr</td>\n",
       "      <td>0.005</td>\n",
       "    </tr>\n",
       "    <tr>\n",
       "      <th rowspan=\"2\" valign=\"top\">P3</th>\n",
       "      <th>knc</th>\n",
       "      <td>P3_knc_5</td>\n",
       "      <td>0.522</td>\n",
       "      <td>2.295</td>\n",
       "      <td>P3</td>\n",
       "      <td>knc</td>\n",
       "      <td>0.005</td>\n",
       "    </tr>\n",
       "    <tr>\n",
       "      <th>lr</th>\n",
       "      <td>P3_lr_5</td>\n",
       "      <td>0.523</td>\n",
       "      <td>0.523</td>\n",
       "      <td>P3</td>\n",
       "      <td>lr</td>\n",
       "      <td>0.005</td>\n",
       "    </tr>\n",
       "    <tr>\n",
       "      <th rowspan=\"2\" valign=\"top\">bm</th>\n",
       "      <th>knc</th>\n",
       "      <td>bm_knc_5</td>\n",
       "      <td>0.523</td>\n",
       "      <td>0.361</td>\n",
       "      <td>bm</td>\n",
       "      <td>knc</td>\n",
       "      <td>0.005</td>\n",
       "    </tr>\n",
       "    <tr>\n",
       "      <th>lr</th>\n",
       "      <td>bm_lr_5</td>\n",
       "      <td>0.512</td>\n",
       "      <td>5.144</td>\n",
       "      <td>bm</td>\n",
       "      <td>lr</td>\n",
       "      <td>0.005</td>\n",
       "    </tr>\n",
       "  </tbody>\n",
       "</table>\n",
       "</div>"
      ],
      "text/plain": [
       "                            Run_Case  Best_Test_Score  Mean_Fit_Time  \\\n",
       "Transformer_Pipeline Model                                             \n",
       "P1                   knc    P1_knc_5            0.524          0.207   \n",
       "                     lr      P1_lr_5            0.516          1.516   \n",
       "P2                   knc    P2_knc_5            0.533          0.953   \n",
       "                     lr      P2_lr_5            0.524          1.040   \n",
       "P3                   knc    P3_knc_5            0.522          2.295   \n",
       "                     lr      P3_lr_5            0.523          0.523   \n",
       "bm                   knc    bm_knc_5            0.523          0.361   \n",
       "                     lr      bm_lr_5            0.512          5.144   \n",
       "\n",
       "                           Transformer_Pipeline Model  DataSize  \n",
       "Transformer_Pipeline Model                                       \n",
       "P1                   knc                     P1   knc     0.005  \n",
       "                     lr                      P1    lr     0.005  \n",
       "P2                   knc                     P2   knc     0.005  \n",
       "                     lr                      P2    lr     0.005  \n",
       "P3                   knc                     P3   knc     0.005  \n",
       "                     lr                      P3    lr     0.005  \n",
       "bm                   knc                     bm   knc     0.005  \n",
       "                     lr                      bm    lr     0.005  "
      ]
     },
     "execution_count": 35,
     "metadata": {},
     "output_type": "execute_result"
    }
   ],
   "source": [
    "stats[stats['DataSize']==0.005].groupby(by=[stats['Transformer_Pipeline'],stats['Model']]).max()"
   ]
  },
  {
   "cell_type": "code",
   "execution_count": 24,
   "metadata": {
    "slideshow": {
     "slide_type": "slide"
    }
   },
   "outputs": [
    {
     "data": {
      "text/plain": [
       "Transformer_Pipeline  Model\n",
       "P1                    knc      0.537\n",
       "                      lr       0.516\n",
       "P2                    knc      0.568\n",
       "                      lr       0.524\n",
       "P3                    knc      0.550\n",
       "                      lr       0.523\n",
       "bm                    knc      0.542\n",
       "                      lr       0.512\n",
       "Name: Best_Test_Score, dtype: float64"
      ]
     },
     "execution_count": 24,
     "metadata": {},
     "output_type": "execute_result"
    }
   ],
   "source": [
    "stats['Best_Test_Score'].groupby(by=[stats['Transformer_Pipeline'],stats['Model']]).max()"
   ]
  },
  {
   "cell_type": "code",
   "execution_count": 19,
   "metadata": {
    "scrolled": false,
    "slideshow": {
     "slide_type": "slide"
    }
   },
   "outputs": [
    {
     "data": {
      "text/html": [
       "<div>\n",
       "<table border=\"1\" class=\"dataframe\">\n",
       "  <thead>\n",
       "    <tr style=\"text-align: right;\">\n",
       "      <th></th>\n",
       "      <th>Run_Case</th>\n",
       "      <th>Best_Test_Score</th>\n",
       "      <th>Mean_Fit_Time</th>\n",
       "      <th>Transformer_Pipeline</th>\n",
       "      <th>Model</th>\n",
       "      <th>DataSize</th>\n",
       "    </tr>\n",
       "  </thead>\n",
       "  <tbody>\n",
       "    <tr>\n",
       "      <th>10</th>\n",
       "      <td>P2_knc_pt1</td>\n",
       "      <td>0.568</td>\n",
       "      <td>0.037</td>\n",
       "      <td>P2</td>\n",
       "      <td>knc</td>\n",
       "      <td>0.0001</td>\n",
       "    </tr>\n",
       "    <tr>\n",
       "      <th>18</th>\n",
       "      <td>P3_knc_pt1</td>\n",
       "      <td>0.550</td>\n",
       "      <td>0.047</td>\n",
       "      <td>P3</td>\n",
       "      <td>knc</td>\n",
       "      <td>0.0001</td>\n",
       "    </tr>\n",
       "    <tr>\n",
       "      <th>27</th>\n",
       "      <td>bm_knc_pt5</td>\n",
       "      <td>0.542</td>\n",
       "      <td>0.023</td>\n",
       "      <td>bm</td>\n",
       "      <td>knc</td>\n",
       "      <td>0.0005</td>\n",
       "    </tr>\n",
       "    <tr>\n",
       "      <th>3</th>\n",
       "      <td>P1_knc_pt5</td>\n",
       "      <td>0.537</td>\n",
       "      <td>0.019</td>\n",
       "      <td>P1</td>\n",
       "      <td>knc</td>\n",
       "      <td>0.0005</td>\n",
       "    </tr>\n",
       "    <tr>\n",
       "      <th>24</th>\n",
       "      <td>bm_knc_1</td>\n",
       "      <td>0.535</td>\n",
       "      <td>0.054</td>\n",
       "      <td>bm</td>\n",
       "      <td>knc</td>\n",
       "      <td>0.001</td>\n",
       "    </tr>\n",
       "  </tbody>\n",
       "</table>\n",
       "</div>"
      ],
      "text/plain": [
       "      Run_Case  Best_Test_Score  Mean_Fit_Time Transformer_Pipeline Model  \\\n",
       "10  P2_knc_pt1            0.568          0.037                   P2   knc   \n",
       "18  P3_knc_pt1            0.550          0.047                   P3   knc   \n",
       "27  bm_knc_pt5            0.542          0.023                   bm   knc   \n",
       "3   P1_knc_pt5            0.537          0.019                   P1   knc   \n",
       "24    bm_knc_1            0.535          0.054                   bm   knc   \n",
       "\n",
       "   DataSize  \n",
       "10   0.0001  \n",
       "18   0.0001  \n",
       "27   0.0005  \n",
       "3    0.0005  \n",
       "24    0.001  "
      ]
     },
     "execution_count": 19,
     "metadata": {},
     "output_type": "execute_result"
    }
   ],
   "source": [
    "stats.sort(columns='Best_Test_Score', ascending= False).head(5)"
   ]
  },
  {
   "cell_type": "code",
   "execution_count": 37,
   "metadata": {
    "scrolled": true,
    "slideshow": {
     "slide_type": "skip"
    }
   },
   "outputs": [
    {
     "data": {
      "text/html": [
       "<div>\n",
       "<table border=\"1\" class=\"dataframe\">\n",
       "  <thead>\n",
       "    <tr style=\"text-align: right;\">\n",
       "      <th></th>\n",
       "      <th>rank_test_score</th>\n",
       "      <th>mean_test_score</th>\n",
       "      <th>mean_train_score</th>\n",
       "      <th>param_pca__n_components</th>\n",
       "      <th>param_skb__k</th>\n",
       "      <th>params</th>\n",
       "    </tr>\n",
       "  </thead>\n",
       "  <tbody>\n",
       "    <tr>\n",
       "      <th>4</th>\n",
       "      <td>1</td>\n",
       "      <td>0.5331</td>\n",
       "      <td>0.7072</td>\n",
       "      <td>50</td>\n",
       "      <td>250</td>\n",
       "      <td>{'sfm__estimator': LogisticRegression(C=10, cl...</td>\n",
       "    </tr>\n",
       "    <tr>\n",
       "      <th>6</th>\n",
       "      <td>1</td>\n",
       "      <td>0.5331</td>\n",
       "      <td>0.7072</td>\n",
       "      <td>50</td>\n",
       "      <td>250</td>\n",
       "      <td>{'sfm__estimator': LogisticRegression(C=100.0,...</td>\n",
       "    </tr>\n",
       "    <tr>\n",
       "      <th>8</th>\n",
       "      <td>1</td>\n",
       "      <td>0.5331</td>\n",
       "      <td>0.7072</td>\n",
       "      <td>50</td>\n",
       "      <td>250</td>\n",
       "      <td>{'sfm__estimator': LogisticRegression(C=1000.0...</td>\n",
       "    </tr>\n",
       "    <tr>\n",
       "      <th>10</th>\n",
       "      <td>1</td>\n",
       "      <td>0.5331</td>\n",
       "      <td>0.7072</td>\n",
       "      <td>50</td>\n",
       "      <td>250</td>\n",
       "      <td>{'sfm__estimator': LogisticRegression(C=10000....</td>\n",
       "    </tr>\n",
       "    <tr>\n",
       "      <th>24</th>\n",
       "      <td>1</td>\n",
       "      <td>0.5331</td>\n",
       "      <td>0.7075</td>\n",
       "      <td>150</td>\n",
       "      <td>250</td>\n",
       "      <td>{'sfm__estimator': LogisticRegression(C=0.1, c...</td>\n",
       "    </tr>\n",
       "  </tbody>\n",
       "</table>\n",
       "</div>"
      ],
      "text/plain": [
       "    rank_test_score  mean_test_score  mean_train_score  \\\n",
       "4                 1           0.5331            0.7072   \n",
       "6                 1           0.5331            0.7072   \n",
       "8                 1           0.5331            0.7072   \n",
       "10                1           0.5331            0.7072   \n",
       "24                1           0.5331            0.7075   \n",
       "\n",
       "   param_pca__n_components param_skb__k  \\\n",
       "4                       50          250   \n",
       "6                       50          250   \n",
       "8                       50          250   \n",
       "10                      50          250   \n",
       "24                     150          250   \n",
       "\n",
       "                                               params  \n",
       "4   {'sfm__estimator': LogisticRegression(C=10, cl...  \n",
       "6   {'sfm__estimator': LogisticRegression(C=100.0,...  \n",
       "8   {'sfm__estimator': LogisticRegression(C=1000.0...  \n",
       "10  {'sfm__estimator': LogisticRegression(C=10000....  \n",
       "24  {'sfm__estimator': LogisticRegression(C=0.1, c...  "
      ]
     },
     "execution_count": 37,
     "metadata": {},
     "output_type": "execute_result"
    }
   ],
   "source": [
    "P2_knc_5[['rank_test_score','mean_test_score','mean_train_score','param_pca__n_components','param_skb__k','params']][P2_knc_5['rank_test_score']==1]"
   ]
  },
  {
   "cell_type": "code",
   "execution_count": 33,
   "metadata": {},
   "outputs": [
    {
     "data": {
      "text/plain": [
       "12    LogisticRegression(C=0.1, class_weight=None, d...\n",
       "Name: param_sfm__estimator, dtype: object"
      ]
     },
     "execution_count": 33,
     "metadata": {},
     "output_type": "execute_result"
    }
   ],
   "source": [
    "P2_knc_1['param_sfm__estimator'][P2_knc_1['rank_test_score']==1]"
   ]
  },
  {
   "cell_type": "code",
   "execution_count": 20,
   "metadata": {
    "scrolled": false,
    "slideshow": {
     "slide_type": "slide"
    }
   },
   "outputs": [
    {
     "data": {
      "text/plain": [
       "<matplotlib.legend.Legend at 0x7f794cac5c18>"
      ]
     },
     "execution_count": 20,
     "metadata": {},
     "output_type": "execute_result"
    },
    {
     "data": {
      "image/png": "[encoded data removed]",
      "text/plain": [
       "<matplotlib.figure.Figure at 0x7f7951ea6c88>"
      ]
     },
     "metadata": {},
     "output_type": "display_data"
    }
   ],
   "source": [
    "plt.figure(figsize=(15,6))\n",
    "plt.title('TOTAL FIT TIME FOR EACH MODEL-PIPELINE')\n",
    "plt.subplot(231)\n",
    "plt.scatter(Total_Fit_Time['sum_Fit_Time'][Total_Fit_Time['Transformer_Pipeline']=='P1'][Total_Fit_Time['Model']=='knc'],\n",
    "         Total_Fit_Time['DataSize'][Total_Fit_Time['Transformer_Pipeline']=='P1'][Total_Fit_Time['Model']=='knc'],\n",
    "         label='KNC - Pipeline1')\n",
    "plt.plot(Total_Fit_Time['sum_Fit_Time'][Total_Fit_Time['Transformer_Pipeline']=='P1'][Total_Fit_Time['Model']=='knc'],\n",
    "         Total_Fit_Time['DataSize'][Total_Fit_Time['Transformer_Pipeline']=='P1'][Total_Fit_Time['Model']=='knc'],\n",
    "         label='KNC - Pipeline1')\n",
    "plt.ylim(0.0,.01)\n",
    "plt.legend()\n",
    "plt.subplot(232)\n",
    "plt.scatter(Total_Fit_Time['sum_Fit_Time'][Total_Fit_Time['Transformer_Pipeline']=='P2'][Total_Fit_Time['Model']=='knc'],\n",
    "         Total_Fit_Time['DataSize'][Total_Fit_Time['Transformer_Pipeline']=='P2'][Total_Fit_Time['Model']=='knc'],\n",
    "         label='KNC - Pipeline2')\n",
    "plt.plot(Total_Fit_Time['sum_Fit_Time'][Total_Fit_Time['Transformer_Pipeline']=='P2'][Total_Fit_Time['Model']=='knc'],\n",
    "         Total_Fit_Time['DataSize'][Total_Fit_Time['Transformer_Pipeline']=='P2'][Total_Fit_Time['Model']=='knc'],\n",
    "         label='KNC - Pipeline2')\n",
    "plt.ylim(0.0,.01)\n",
    "plt.legend()\n",
    "plt.subplot(233)\n",
    "plt.scatter(Total_Fit_Time['sum_Fit_Time'][Total_Fit_Time['Transformer_Pipeline']=='P3'][Total_Fit_Time['Model']=='knc'],\n",
    "         Total_Fit_Time['DataSize'][Total_Fit_Time['Transformer_Pipeline']=='P3'][Total_Fit_Time['Model']=='knc'],\n",
    "         label='KNC - Pipeline3')\n",
    "plt.plot(Total_Fit_Time['sum_Fit_Time'][Total_Fit_Time['Transformer_Pipeline']=='P3'][Total_Fit_Time['Model']=='knc'],\n",
    "         Total_Fit_Time['DataSize'][Total_Fit_Time['Transformer_Pipeline']=='P3'][Total_Fit_Time['Model']=='knc'],\n",
    "         label='KNC - Pipeline3')\n",
    "plt.ylim(0.0,.01)\n",
    "plt.legend()\n",
    "plt.subplot(234)\n",
    "plt.scatter(Total_Fit_Time['sum_Fit_Time'][Total_Fit_Time['Transformer_Pipeline']=='P1'][Total_Fit_Time['Model']=='lr'],\n",
    "         Total_Fit_Time['DataSize'][Total_Fit_Time['Transformer_Pipeline']=='P1'][Total_Fit_Time['Model']=='lr'],\n",
    "         label='LR - Pipeline1')\n",
    "plt.plot(Total_Fit_Time['sum_Fit_Time'][Total_Fit_Time['Transformer_Pipeline']=='P1'][Total_Fit_Time['Model']=='lr'],\n",
    "         Total_Fit_Time['DataSize'][Total_Fit_Time['Transformer_Pipeline']=='P1'][Total_Fit_Time['Model']=='lr'],\n",
    "         label='LR - Pipeline1')\n",
    "plt.ylim(0,.01)\n",
    "plt.legend()\n",
    "plt.subplot(235)\n",
    "plt.scatter(Total_Fit_Time['sum_Fit_Time'][Total_Fit_Time['Transformer_Pipeline']=='P2'][Total_Fit_Time['Model']=='lr'],\n",
    "         Total_Fit_Time['DataSize'][Total_Fit_Time['Transformer_Pipeline']=='P2'][Total_Fit_Time['Model']=='lr'],\n",
    "         label='LR - Pipeline2')\n",
    "plt.plot(Total_Fit_Time['sum_Fit_Time'][Total_Fit_Time['Transformer_Pipeline']=='P2'][Total_Fit_Time['Model']=='lr'],\n",
    "         Total_Fit_Time['DataSize'][Total_Fit_Time['Transformer_Pipeline']=='P2'][Total_Fit_Time['Model']=='lr'],\n",
    "         label='LR - Pipeline2')\n",
    "plt.ylim(0,.01)\n",
    "plt.legend()\n",
    "plt.subplot(236)\n",
    "plt.scatter(Total_Fit_Time['sum_Fit_Time'][Total_Fit_Time['Transformer_Pipeline']=='P3'][Total_Fit_Time['Model']=='lr'],\n",
    "         Total_Fit_Time['DataSize'][Total_Fit_Time['Transformer_Pipeline']=='P3'][Total_Fit_Time['Model']=='lr'],\n",
    "         label='LR - Pipeline3')\n",
    "plt.plot(Total_Fit_Time['sum_Fit_Time'][Total_Fit_Time['Transformer_Pipeline']=='P3'][Total_Fit_Time['Model']=='lr'],\n",
    "         Total_Fit_Time['DataSize'][Total_Fit_Time['Transformer_Pipeline']=='P3'][Total_Fit_Time['Model']=='lr'],\n",
    "         label='LR - Pipeline3')\n",
    "plt.ylim(0.0,.01)\n",
    "plt.legend()"
   ]
  }
 ],
 "metadata": {
  "celltoolbar": "Slideshow",
  "kernelspec": {
   "display_name": "Python 3",
   "language": "python",
   "name": "python3"
  },
  "language_info": {
   "codemirror_mode": {
    "name": "ipython",
    "version": 3
   },
   "file_extension": ".py",
   "mimetype": "text/x-python",
   "name": "python",
   "nbconvert_exporter": "python",
   "pygments_lexer": "ipython3",
   "version": "3.5.2"
  }
 },
 "nbformat": 4,
 "nbformat_minor": 2
}
