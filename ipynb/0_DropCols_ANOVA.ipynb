{
 "cells": [
  {
   "cell_type": "code",
   "execution_count": 1,
   "metadata": {
    "collapsed": true
   },
   "outputs": [],
   "source": [
    "from os import chdir\n",
    "chdir('../')\n",
    "%matplotlib inline\n",
    "from lib import *\n",
    "\n",
    "from time import time\n",
    "\n",
    "pd.options.display.precision = 4\n",
    "import matplotlib as mpl\n",
    "mpl.rcParams['font.family'] = 'Lato'\n",
    "mpl.rcParams['font.weight'] = 700\n",
    "sns.set(font='Lato', font_scale=1)\n",
    "sns.set()\n",
    "np.random.seed(42)\n",
    "suppress_warnings()"
   ]
  },
  {
   "cell_type": "code",
   "execution_count": 2,
   "metadata": {
    "collapsed": true
   },
   "outputs": [],
   "source": [
    "from sklearn.feature_selection import f_classif\n",
    "def find_p_val(feat, tar):   \n",
    "    anova = f_classif(feat,np.ravel(tar))\n",
    "    anova_df = pd.DataFrame([{'f_stat':f,'p_val':p} for f,p in zip(anova[0], anova[1])])\n",
    "    anova_df.index = feat.columns\n",
    "    return anova_df['p_val'] \n"
   ]
  },
  {
   "cell_type": "raw",
   "metadata": {
    "scrolled": true
   },
   "source": [
    "feature_anova_res = pd.DataFrame()\n",
    "for i in range(100):\n",
    "    print('{}'.format(i),end=\" \")\n",
    "    f, t = make_DataFrame(220000,2200,None)\n",
    "    feature_anova_res['{}'.format(i)] = find_p_val(f, t)"
   ]
  },
  {
   "cell_type": "raw",
   "metadata": {
    "collapsed": true
   },
   "source": [
    "feature_anova_res.to_pickle('/home/jovyan/work/DSI/projects/project_3/data/feature_anova_p_cal')\n",
    "feature_anova_res.head()\n",
    "feature_pval_mean = pd.DataFrame(feature_anova_res.T.mean()).sort(0,ascending=False)\n",
    "feature_pval_mean.rename(columns={'0': 'Run_Case'}, inplace=True)"
   ]
  },
  {
   "cell_type": "code",
   "execution_count": 3,
   "metadata": {
    "scrolled": true
   },
   "outputs": [
    {
     "data": {
      "text/html": [
       "<div>\n",
       "<table border=\"1\" class=\"dataframe\">\n",
       "  <thead>\n",
       "    <tr style=\"text-align: right;\">\n",
       "      <th></th>\n",
       "      <th>p_val</th>\n",
       "    </tr>\n",
       "  </thead>\n",
       "  <tbody>\n",
       "    <tr>\n",
       "      <th>feat_1402</th>\n",
       "      <td>0.6055</td>\n",
       "    </tr>\n",
       "    <tr>\n",
       "      <th>feat_4990</th>\n",
       "      <td>0.5955</td>\n",
       "    </tr>\n",
       "    <tr>\n",
       "      <th>feat_0787</th>\n",
       "      <td>0.5944</td>\n",
       "    </tr>\n",
       "    <tr>\n",
       "      <th>feat_1425</th>\n",
       "      <td>0.5892</td>\n",
       "    </tr>\n",
       "    <tr>\n",
       "      <th>feat_2206</th>\n",
       "      <td>0.5890</td>\n",
       "    </tr>\n",
       "  </tbody>\n",
       "</table>\n",
       "</div>"
      ],
      "text/plain": [
       "            p_val\n",
       "feat_1402  0.6055\n",
       "feat_4990  0.5955\n",
       "feat_0787  0.5944\n",
       "feat_1425  0.5892\n",
       "feat_2206  0.5890"
      ]
     },
     "execution_count": 3,
     "metadata": {},
     "output_type": "execute_result"
    }
   ],
   "source": [
    "feature_anova_res = pd.read_pickle('/home/jovyan/work/DSI/projects/project_3/data/feature_anova_p_cal')\n",
    "feature_pval_mean = pd.DataFrame(feature_anova_res.T.mean()).sort(0,ascending=False)\n",
    "feature_pval_mean.rename(columns={0:'p_val'}, inplace=True)\n",
    "feature_pval_mean.head()"
   ]
  },
  {
   "cell_type": "code",
   "execution_count": 5,
   "metadata": {},
   "outputs": [
    {
     "name": "stdout",
     "output_type": "stream",
     "text": [
      "Mean P_val:\t 0.499 \tfeature_count_below_mean\t 2450\n",
      "-1 STD P_val:\t 0.467 \tfeature_count_below_-1_std\t 673\n",
      "-2 STD P_val:\t 0.436 \tfeature_count_below_-2_std\t 113\n"
     ]
    }
   ],
   "source": [
    "std1= feature_pval_mean.mean() - feature_pval_mean.std()\n",
    "std2= feature_pval_mean.mean() - 2*(feature_pval_mean.std())\n",
    "print('Mean P_val:\\t', round(feature_pval_mean.mean()[0],3),\\\n",
    "      '\\tfeature_count_below_mean\\t',\\\n",
    "      len(feature_pval_mean[feature_pval_mean['p_val']<feature_pval_mean.mean()[0]]))\n",
    "print('-1 STD P_val:\\t', round(std1[0],3),\\\n",
    "     '\\tfeature_count_below_-1_std\\t',\\\n",
    "      len(feature_pval_mean[feature_pval_mean['p_val']<std1[0]]))\n",
    "print('-2 STD P_val:\\t', round(std2[0],3),\\\n",
    "     '\\tfeature_count_below_-2_std\\t',\\\n",
    "      len(feature_pval_mean[feature_pval_mean['p_val']<std2[0]]))"
   ]
  },
  {
   "cell_type": "code",
   "execution_count": 5,
   "metadata": {},
   "outputs": [
    {
     "data": {
      "text/plain": [
       "0.499"
      ]
     },
     "execution_count": 5,
     "metadata": {},
     "output_type": "execute_result"
    }
   ],
   "source": [
    "round(feature_pval_mean.mean()[0],4)"
   ]
  },
  {
   "cell_type": "code",
   "execution_count": 35,
   "metadata": {},
   "outputs": [
    {
     "data": {
      "text/plain": [
       "<matplotlib.legend.Legend at 0x7f6e9b0ffc88>"
      ]
     },
     "execution_count": 35,
     "metadata": {},
     "output_type": "execute_result"
    },
    {
     "data": {
      "image/png": "[encoded data removed]",
      "text/plain": [
       "<matplotlib.figure.Figure at 0x7f6e9c979080>"
      ]
     },
     "metadata": {},
     "output_type": "display_data"
    }
   ],
   "source": [
    "#import seaborn as sns\n",
    "import matplotlib as mpl\n",
    "import matplotlib.pyplot as plt\n",
    "\n",
    "sns.distplot(feature_pval_mean)\n",
    "plt.axvline(x=std2[0], ymin=0, ymax=1, color = 'g', label= '2 STD')\n",
    "plt.axvline(x=std1[0], ymin=0, ymax=1, color = 'm',label= '1 STD')\n",
    "plt.axvline(x=feature_pval_mean.mean()[0], ymin=0, ymax=1, color = 'r', label='MEAN')\n",
    "plt.legend()"
   ]
  },
  {
   "cell_type": "code",
   "execution_count": 19,
   "metadata": {
    "collapsed": true
   },
   "outputs": [],
   "source": [
    "good_col_top113_Anova_pval = pd.DataFrame(feature_anova_res.T.mean()).sort(0,ascending=True).head(113). \\\n",
    "        to_pickle('/home/jovyan/work/DSI/projects/project_3/data/good_col_top113_Anova_pval')"
   ]
  },
  {
   "cell_type": "code",
   "execution_count": 20,
   "metadata": {
    "collapsed": true
   },
   "outputs": [],
   "source": [
    "feature_worse_to_best = pd.DataFrame(feature_anova_res.T.mean()).sort(0,ascending=False).index\n",
    "bad_col = list(feature_worse_to_best[:4000])\n",
    "good_col = list(feature_worse_to_best[4000:])"
   ]
  },
  {
   "cell_type": "code",
   "execution_count": 25,
   "metadata": {
    "collapsed": true
   },
   "outputs": [],
   "source": [
    "X,y = make_DataFrame(n=1000,drop_cols = bad_col)\n",
    "X_1,y_1 = make_DataFrame(n=1000,drop_cols = bad_col)\n",
    "X_2,y_2 = make_DataFrame(n=1000,drop_cols = bad_col)\n",
    "X_3,y_3 = make_DataFrame(n=1000,drop_cols = bad_col)\n",
    "X_4,y_4 = make_DataFrame(n=1000,drop_cols = bad_col)\n",
    "X_5,y_5 = make_DataFrame(n=1000,drop_cols = bad_col)\n",
    "X_6,y_6 = make_DataFrame(n=1000,drop_cols = bad_col)\n",
    "X_7,y_7 = make_DataFrame(n=1000,drop_cols = bad_col)\n",
    "X_8,y_8 = make_DataFrame(n=1000,drop_cols = bad_col)\n",
    "X_9,y_9 = make_DataFrame(n=1000,drop_cols = bad_col)\n",
    "X_0,y_0 = make_DataFrame(n=1000,drop_cols = bad_col)"
   ]
  },
  {
   "cell_type": "code",
   "execution_count": 26,
   "metadata": {},
   "outputs": [],
   "source": [
    "feature = pd.concat([X,X_1,X_2,X_3,X_4,X_5,X_6,X_7,X_8,X_9,X_0])\n",
    "target = pd.concat([y,y_1,y_2,y_3,y_4,y_5,y_6,y_7,y_8,y_9,y_0])"
   ]
  },
  {
   "cell_type": "code",
   "execution_count": 27,
   "metadata": {
    "collapsed": true,
    "scrolled": false
   },
   "outputs": [],
   "source": [
    "feature.to_pickle('/home/jovyan/work/DSI/projects/project_3/data/feature')\n",
    "target.to_pickle('/home/jovyan/work/DSI/projects/project_3/data/target')"
   ]
  },
  {
   "cell_type": "code",
   "execution_count": null,
   "metadata": {
    "collapsed": true
   },
   "outputs": [],
   "source": []
  }
 ],
 "metadata": {
  "kernelspec": {
   "display_name": "Python 3",
   "language": "python",
   "name": "python3"
  },
  "language_info": {
   "codemirror_mode": {
    "name": "ipython",
    "version": 3
   },
   "file_extension": ".py",
   "mimetype": "text/x-python",
   "name": "python",
   "nbconvert_exporter": "python",
   "pygments_lexer": "ipython3",
   "version": "3.5.2"
  }
 },
 "nbformat": 4,
 "nbformat_minor": 2
}
