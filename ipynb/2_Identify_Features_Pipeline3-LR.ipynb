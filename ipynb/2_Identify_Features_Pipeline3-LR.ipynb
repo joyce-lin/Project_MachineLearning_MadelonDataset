{
 "cells": [
  {
   "cell_type": "code",
   "execution_count": 1,
   "metadata": {
    "collapsed": true
   },
   "outputs": [],
   "source": [
    "from os import chdir\n",
    "chdir('../')\n",
    "%matplotlib inline\n",
    "from lib import *\n",
    "\n",
    "pd.options.display.precision = 4\n",
    "import matplotlib as mpl\n",
    "mpl.rcParams['font.family'] = 'Lato'\n",
    "mpl.rcParams['font.weight'] = 700\n",
    "sns.set(font='Lato', font_scale=1)\n",
    "sns.set()\n",
    "np.random.seed(42)\n",
    "suppress_warnings()"
   ]
  },
  {
   "cell_type": "code",
   "execution_count": 2,
   "metadata": {
    "collapsed": true,
    "scrolled": true
   },
   "outputs": [],
   "source": [
    "feature = pd.read_pickle('/home/jovyan/work/DSI/projects/project_3/data/feature')\n",
    "target= pd.read_pickle('/home/jovyan/work/DSI/projects/project_3/data/target')"
   ]
  },
  {
   "cell_type": "code",
   "execution_count": 3,
   "metadata": {},
   "outputs": [
    {
     "data": {
      "text/plain": [
       "(10767, 1000)"
      ]
     },
     "metadata": {},
     "output_type": "display_data"
    },
    {
     "data": {
      "text/plain": [
       "(10767, 1)"
      ]
     },
     "metadata": {},
     "output_type": "display_data"
    }
   ],
   "source": [
    "display(feature.shape)\n",
    "display(target.shape)"
   ]
  },
  {
   "cell_type": "code",
   "execution_count": 4,
   "metadata": {
    "collapsed": true
   },
   "outputs": [],
   "source": [
    "from sklearn.preprocessing import StandardScaler\n",
    "from sklearn.model_selection import train_test_split, GridSearchCV, ShuffleSplit\n",
    "from sklearn.feature_selection import SelectKBest, SelectPercentile, f_classif\n",
    "from sklearn import svm\n",
    "from sklearn.tree import DecisionTreeClassifier, DecisionTreeRegressor\n",
    "from sklearn.decomposition import PCA\n",
    "from sklearn.linear_model import Lasso, LogisticRegression,LinearRegression\n",
    "from sklearn.pipeline import Pipeline\n",
    "from sklearn.ensemble import RandomForestClassifier"
   ]
  },
  {
   "cell_type": "markdown",
   "metadata": {},
   "source": [
    "# Step 2 Identify Features"
   ]
  },
  {
   "cell_type": "code",
   "execution_count": 5,
   "metadata": {
    "collapsed": true
   },
   "outputs": [],
   "source": [
    "from sklearn.feature_selection import SelectKBest, \\\n",
    "                                      SelectFromModel, \\\n",
    "                                      RFE, SelectPercentile, \\\n",
    "                                      SelectFdr, SelectFpr\n",
    "from sklearn.feature_selection import f_regression, f_classif\n"
   ]
  },
  {
   "cell_type": "markdown",
   "metadata": {},
   "source": [
    "### Pipeline: Select K best - PCA - SelectFromModel(RFC) - Logistic Regression"
   ]
  },
  {
   "cell_type": "code",
   "execution_count": 6,
   "metadata": {
    "collapsed": true
   },
   "outputs": [],
   "source": [
    "pipe_for_gs = Pipeline([\n",
    "    ('skb', SelectKBest(score_func=f_classif)),\n",
    "    ('pca',PCA(random_state=42)),\n",
    "    ('sfmlr', SelectFromModel(LogisticRegression(C=0.1, penalty='l1',random_state=42))),\n",
    "    ('sfmrf', SelectFromModel(RandomForestClassifier(random_state=42,n_jobs=-1))),\n",
    "    ('lr', LogisticRegression(C=1E10,n_jobs=-1,random_state=42))\n",
    "])"
   ]
  },
  {
   "cell_type": "code",
   "execution_count": 7,
   "metadata": {
    "collapsed": true
   },
   "outputs": [],
   "source": [
    "params = {\n",
    "    'skb__k':[200,300,500],\n",
    "    'pca__n_components':[50,100,150],\n",
    "    'sfmrf__estimator':[  RandomForestClassifier(n_estimators=10, criterion='entropy',random_state=42,n_jobs=-1),\n",
    "                          RandomForestClassifier(n_estimators=20, criterion='entropy',random_state=42,n_jobs=-1),  \n",
    "                          RandomForestClassifier(n_estimators=30, criterion='entropy',random_state=42,n_jobs=-1),\n",
    "                          RandomForestClassifier(n_estimators=40, criterion='entropy',random_state=42,n_jobs=-1),  \n",
    "                          RandomForestClassifier(n_estimators=50, criterion='entropy',random_state=42,n_jobs=-1),\n",
    "                        ],                    \n",
    "}"
   ]
  },
  {
   "cell_type": "code",
   "execution_count": 8,
   "metadata": {
    "collapsed": true
   },
   "outputs": [],
   "source": [
    "gspipe = GridSearchCV(pipe_for_gs,\n",
    "                      param_grid=params,\n",
    "                      n_jobs=-1,\n",
    "                      cv=ShuffleSplit(random_state=42))"
   ]
  },
  {
   "cell_type": "code",
   "execution_count": 9,
   "metadata": {},
   "outputs": [
    {
     "data": {
      "text/plain": [
       "GridSearchCV(cv=ShuffleSplit(n_splits=10, random_state=42, test_size=0.1, train_size=None),\n",
       "       error_score='raise',\n",
       "       estimator=Pipeline(steps=[('skb', SelectKBest(k=10, score_func=<function f_classif at 0x7fa1f046e7b8>)), ('pca', PCA(copy=True, iterated_power='auto', n_components=None, random_state=42,\n",
       "  svd_solver='auto', tol=0.0, whiten=False)), ('sfmlr', SelectFromModel(estimator=LogisticRegression(C=0.1, class_weight=None, dual=...alty='l2', random_state=42,\n",
       "          solver='liblinear', tol=0.0001, verbose=0, warm_start=False))]),\n",
       "       fit_params={}, iid=True, n_jobs=-1,\n",
       "       param_grid={'sfmrf__estimator': [RandomForestClassifier(bootstrap=True, class_weight=None, criterion='entropy',\n",
       "            max_depth=None, max_features='auto', max_leaf_nodes=None,\n",
       "            min_impurity_split=1e-07, min_samples_leaf=1,\n",
       "            min_samples_split=2, min_weight_fraction_leaf=0....      verbose=0, warm_start=False)], 'skb__k': [200, 300, 500], 'pca__n_components': [50, 100, 150]},\n",
       "       pre_dispatch='2*n_jobs', refit=True, return_train_score=True,\n",
       "       scoring=None, verbose=0)"
      ]
     },
     "execution_count": 9,
     "metadata": {},
     "output_type": "execute_result"
    }
   ],
   "source": [
    "gspipe.fit(feature[:220], np.ravel(target[:220].values))"
   ]
  },
  {
   "cell_type": "code",
   "execution_count": 10,
   "metadata": {},
   "outputs": [
    {
     "data": {
      "text/plain": [
       "0.53181818181818186"
      ]
     },
     "execution_count": 10,
     "metadata": {},
     "output_type": "execute_result"
    }
   ],
   "source": [
    "gspipe.best_score_"
   ]
  },
  {
   "cell_type": "code",
   "execution_count": 11,
   "metadata": {
    "scrolled": true
   },
   "outputs": [
    {
     "data": {
      "text/plain": [
       "{'lr': LogisticRegression(C=10000000000.0, class_weight=None, dual=False,\n",
       "           fit_intercept=True, intercept_scaling=1, max_iter=100,\n",
       "           multi_class='ovr', n_jobs=-1, penalty='l2', random_state=42,\n",
       "           solver='liblinear', tol=0.0001, verbose=0, warm_start=False),\n",
       " 'pca': PCA(copy=True, iterated_power='auto', n_components=100, random_state=42,\n",
       "   svd_solver='auto', tol=0.0, whiten=False),\n",
       " 'sfmlr': SelectFromModel(estimator=LogisticRegression(C=0.1, class_weight=None, dual=False, fit_intercept=True,\n",
       "           intercept_scaling=1, max_iter=100, multi_class='ovr', n_jobs=1,\n",
       "           penalty='l1', random_state=42, solver='liblinear', tol=0.0001,\n",
       "           verbose=0, warm_start=False),\n",
       "         prefit=False, threshold=None),\n",
       " 'sfmrf': SelectFromModel(estimator=RandomForestClassifier(bootstrap=True, class_weight=None, criterion='entropy',\n",
       "             max_depth=None, max_features='auto', max_leaf_nodes=None,\n",
       "             min_impurity_split=1e-07, min_samples_leaf=1,\n",
       "             min_samples_split=2, min_weight_fraction_leaf=0.0,\n",
       "             n_estimators=20, n_jobs=-1, oob_score=False, random_state=42,\n",
       "             verbose=0, warm_start=False),\n",
       "         prefit=False, threshold=None),\n",
       " 'skb': SelectKBest(k=500, score_func=<function f_classif at 0x7fa1f046e7b8>)}"
      ]
     },
     "execution_count": 11,
     "metadata": {},
     "output_type": "execute_result"
    }
   ],
   "source": [
    "gspipe.best_estimator_.named_steps"
   ]
  },
  {
   "cell_type": "code",
   "execution_count": 12,
   "metadata": {},
   "outputs": [
    {
     "data": {
      "text/html": [
       "<div>\n",
       "<table border=\"1\" class=\"dataframe\">\n",
       "  <thead>\n",
       "    <tr style=\"text-align: right;\">\n",
       "      <th></th>\n",
       "      <th>20</th>\n",
       "      <th>41</th>\n",
       "      <th>23</th>\n",
       "      <th>17</th>\n",
       "      <th>32</th>\n",
       "      <th>38</th>\n",
       "      <th>22</th>\n",
       "      <th>28</th>\n",
       "      <th>2</th>\n",
       "      <th>25</th>\n",
       "      <th>...</th>\n",
       "      <th>24</th>\n",
       "      <th>15</th>\n",
       "      <th>42</th>\n",
       "      <th>33</th>\n",
       "      <th>44</th>\n",
       "      <th>21</th>\n",
       "      <th>18</th>\n",
       "      <th>36</th>\n",
       "      <th>27</th>\n",
       "      <th>13</th>\n",
       "    </tr>\n",
       "  </thead>\n",
       "  <tbody>\n",
       "    <tr>\n",
       "      <th>mean_fit_time</th>\n",
       "      <td>0.08265</td>\n",
       "      <td>0.122</td>\n",
       "      <td>0.1053</td>\n",
       "      <td>0.06128</td>\n",
       "      <td>0.06467</td>\n",
       "      <td>0.1595</td>\n",
       "      <td>0.08798</td>\n",
       "      <td>0.1176</td>\n",
       "      <td>0.06161</td>\n",
       "      <td>0.1017</td>\n",
       "      <td>...</td>\n",
       "      <td>0.1196</td>\n",
       "      <td>0.04083</td>\n",
       "      <td>0.1054</td>\n",
       "      <td>0.0592</td>\n",
       "      <td>0.1411</td>\n",
       "      <td>0.07475</td>\n",
       "      <td>0.05999</td>\n",
       "      <td>0.07255</td>\n",
       "      <td>0.1048</td>\n",
       "      <td>0.1156</td>\n",
       "    </tr>\n",
       "    <tr>\n",
       "      <th>mean_score_time</th>\n",
       "      <td>0.002278</td>\n",
       "      <td>0.003456</td>\n",
       "      <td>0.002952</td>\n",
       "      <td>0.001634</td>\n",
       "      <td>0.002088</td>\n",
       "      <td>0.006167</td>\n",
       "      <td>0.002855</td>\n",
       "      <td>0.003662</td>\n",
       "      <td>0.001652</td>\n",
       "      <td>0.003188</td>\n",
       "      <td>...</td>\n",
       "      <td>0.004483</td>\n",
       "      <td>0.001415</td>\n",
       "      <td>0.003491</td>\n",
       "      <td>0.001941</td>\n",
       "      <td>0.004218</td>\n",
       "      <td>0.002429</td>\n",
       "      <td>0.00219</td>\n",
       "      <td>0.002549</td>\n",
       "      <td>0.003693</td>\n",
       "      <td>0.003774</td>\n",
       "    </tr>\n",
       "    <tr>\n",
       "      <th>mean_test_score</th>\n",
       "      <td>0.5318</td>\n",
       "      <td>0.5182</td>\n",
       "      <td>0.5136</td>\n",
       "      <td>0.5136</td>\n",
       "      <td>0.5091</td>\n",
       "      <td>0.5</td>\n",
       "      <td>0.4909</td>\n",
       "      <td>0.4909</td>\n",
       "      <td>0.4864</td>\n",
       "      <td>0.4864</td>\n",
       "      <td>...</td>\n",
       "      <td>0.4545</td>\n",
       "      <td>0.4545</td>\n",
       "      <td>0.45</td>\n",
       "      <td>0.4455</td>\n",
       "      <td>0.4455</td>\n",
       "      <td>0.4409</td>\n",
       "      <td>0.4409</td>\n",
       "      <td>0.4409</td>\n",
       "      <td>0.4409</td>\n",
       "      <td>0.4136</td>\n",
       "    </tr>\n",
       "    <tr>\n",
       "      <th>mean_train_score</th>\n",
       "      <td>0.8551</td>\n",
       "      <td>0.852</td>\n",
       "      <td>0.8485</td>\n",
       "      <td>0.8389</td>\n",
       "      <td>0.8424</td>\n",
       "      <td>0.851</td>\n",
       "      <td>0.8354</td>\n",
       "      <td>0.8434</td>\n",
       "      <td>0.8051</td>\n",
       "      <td>0.8379</td>\n",
       "      <td>...</td>\n",
       "      <td>0.8525</td>\n",
       "      <td>0.8505</td>\n",
       "      <td>0.8495</td>\n",
       "      <td>0.8545</td>\n",
       "      <td>0.848</td>\n",
       "      <td>0.8556</td>\n",
       "      <td>0.853</td>\n",
       "      <td>0.8535</td>\n",
       "      <td>0.852</td>\n",
       "      <td>0.8535</td>\n",
       "    </tr>\n",
       "    <tr>\n",
       "      <th>param_pca__n_components</th>\n",
       "      <td>100</td>\n",
       "      <td>150</td>\n",
       "      <td>100</td>\n",
       "      <td>100</td>\n",
       "      <td>150</td>\n",
       "      <td>150</td>\n",
       "      <td>100</td>\n",
       "      <td>100</td>\n",
       "      <td>50</td>\n",
       "      <td>100</td>\n",
       "      <td>...</td>\n",
       "      <td>100</td>\n",
       "      <td>100</td>\n",
       "      <td>150</td>\n",
       "      <td>150</td>\n",
       "      <td>150</td>\n",
       "      <td>100</td>\n",
       "      <td>100</td>\n",
       "      <td>150</td>\n",
       "      <td>100</td>\n",
       "      <td>50</td>\n",
       "    </tr>\n",
       "    <tr>\n",
       "      <th>param_sfmrf__estimator</th>\n",
       "      <td>()</td>\n",
       "      <td>()</td>\n",
       "      <td>()</td>\n",
       "      <td>()</td>\n",
       "      <td>()</td>\n",
       "      <td>()</td>\n",
       "      <td>()</td>\n",
       "      <td>()</td>\n",
       "      <td>()</td>\n",
       "      <td>()</td>\n",
       "      <td>...</td>\n",
       "      <td>()</td>\n",
       "      <td>()</td>\n",
       "      <td>()</td>\n",
       "      <td>()</td>\n",
       "      <td>()</td>\n",
       "      <td>()</td>\n",
       "      <td>()</td>\n",
       "      <td>()</td>\n",
       "      <td>()</td>\n",
       "      <td>()</td>\n",
       "    </tr>\n",
       "  </tbody>\n",
       "</table>\n",
       "<p>6 rows × 45 columns</p>\n",
       "</div>"
      ],
      "text/plain": [
       "                               20        41        23        17        32  \\\n",
       "mean_fit_time             0.08265     0.122    0.1053   0.06128   0.06467   \n",
       "mean_score_time          0.002278  0.003456  0.002952  0.001634  0.002088   \n",
       "mean_test_score            0.5318    0.5182    0.5136    0.5136    0.5091   \n",
       "mean_train_score           0.8551     0.852    0.8485    0.8389    0.8424   \n",
       "param_pca__n_components       100       150       100       100       150   \n",
       "param_sfmrf__estimator         ()        ()        ()        ()        ()   \n",
       "\n",
       "                               38        22        28        2         25  \\\n",
       "mean_fit_time              0.1595   0.08798    0.1176   0.06161    0.1017   \n",
       "mean_score_time          0.006167  0.002855  0.003662  0.001652  0.003188   \n",
       "mean_test_score               0.5    0.4909    0.4909    0.4864    0.4864   \n",
       "mean_train_score            0.851    0.8354    0.8434    0.8051    0.8379   \n",
       "param_pca__n_components       150       100       100        50       100   \n",
       "param_sfmrf__estimator         ()        ()        ()        ()        ()   \n",
       "\n",
       "                           ...           24        15        42        33  \\\n",
       "mean_fit_time              ...       0.1196   0.04083    0.1054    0.0592   \n",
       "mean_score_time            ...     0.004483  0.001415  0.003491  0.001941   \n",
       "mean_test_score            ...       0.4545    0.4545      0.45    0.4455   \n",
       "mean_train_score           ...       0.8525    0.8505    0.8495    0.8545   \n",
       "param_pca__n_components    ...          100       100       150       150   \n",
       "param_sfmrf__estimator     ...           ()        ()        ()        ()   \n",
       "\n",
       "                               44        21       18        36        27  \\\n",
       "mean_fit_time              0.1411   0.07475  0.05999   0.07255    0.1048   \n",
       "mean_score_time          0.004218  0.002429  0.00219  0.002549  0.003693   \n",
       "mean_test_score            0.4455    0.4409   0.4409    0.4409    0.4409   \n",
       "mean_train_score            0.848    0.8556    0.853    0.8535     0.852   \n",
       "param_pca__n_components       150       100      100       150       100   \n",
       "param_sfmrf__estimator         ()        ()       ()        ()        ()   \n",
       "\n",
       "                               13  \n",
       "mean_fit_time              0.1156  \n",
       "mean_score_time          0.003774  \n",
       "mean_test_score            0.4136  \n",
       "mean_train_score           0.8535  \n",
       "param_pca__n_components        50  \n",
       "param_sfmrf__estimator         ()  \n",
       "\n",
       "[6 rows x 45 columns]"
      ]
     },
     "execution_count": 12,
     "metadata": {},
     "output_type": "execute_result"
    }
   ],
   "source": [
    "gspipe_results = pd.DataFrame(gspipe.cv_results_)\n",
    "gspipe_results.sort_values('rank_test_score', ascending=True).T.head(6)"
   ]
  },
  {
   "cell_type": "code",
   "execution_count": 13,
   "metadata": {},
   "outputs": [
    {
     "data": {
      "text/plain": [
       "4.054180073738098"
      ]
     },
     "execution_count": 13,
     "metadata": {},
     "output_type": "execute_result"
    }
   ],
   "source": [
    "gspipe_results['mean_fit_time'].sum()"
   ]
  },
  {
   "cell_type": "code",
   "execution_count": 14,
   "metadata": {
    "collapsed": true
   },
   "outputs": [],
   "source": [
    "#gspipe_results.info(memory_usage='deep')"
   ]
  },
  {
   "cell_type": "code",
   "execution_count": 15,
   "metadata": {},
   "outputs": [
    {
     "name": "stdout",
     "output_type": "stream",
     "text": [
      "Fit time .1% data:  4.05418007374\n",
      "Best Score .1% data:  0.531818181818\n"
     ]
    }
   ],
   "source": [
    "print(\"Fit time .1% data: \", gspipe_results['mean_fit_time'].sum())\n",
    "print(\"Best Score .1% data: \",gspipe.best_score_)\n",
    "### Pipeline3 for .1% (220 rows)\n",
    "picked_pipeline_220row = \\\n",
    "        pd.DataFrame.to_pickle(gspipe_results,\\\n",
    "        '/home/jovyan/work/DSI/projects/project_3/data/Pipeline3_lr_pt1_percent')"
   ]
  },
  {
   "cell_type": "code",
   "execution_count": 16,
   "metadata": {},
   "outputs": [
    {
     "name": "stdout",
     "output_type": "stream",
     "text": [
      "Fit time .5% data:  26.4366604328\n",
      "Best Score .5% data:  0.538181818182\n"
     ]
    }
   ],
   "source": [
    "### Pipeline3 for .5% (1100 rows)\n",
    "\n",
    "gspipe.fit(feature[:1100], np.ravel(target[:1100].values))\n",
    "gspipe_results = pd.DataFrame(gspipe.cv_results_)\n",
    "print(\"Fit time .5% data: \", gspipe_results['mean_fit_time'].sum())\n",
    "print(\"Best Score .5% data: \",gspipe.best_score_)\n",
    "gspipe_results_1100 = pd.DataFrame(gspipe.cv_results_)\n",
    "picked_Pipeline3_1100row = \\\n",
    "        pd.DataFrame.to_pickle(gspipe_results_1100,\\\n",
    "        '/home/jovyan/work/DSI/projects/project_3/data/Pipeline3_lr_pt5_percent')"
   ]
  },
  {
   "cell_type": "code",
   "execution_count": 17,
   "metadata": {},
   "outputs": [
    {
     "name": "stdout",
     "output_type": "stream",
     "text": [
      "Fit time 1% data:  53.6561871052\n",
      "Best Score 1% data:  0.511818181818\n"
     ]
    }
   ],
   "source": [
    "### Pipeline3 for 1% (2200 rows)\n",
    "\n",
    "gspipe.fit(feature[:2200], np.ravel(target[:2200].values))\n",
    "gspipe_results = pd.DataFrame(gspipe.cv_results_)\n",
    "print(\"Fit time 1% data: \", gspipe_results['mean_fit_time'].sum())\n",
    "print(\"Best Score 1% data: \",gspipe.best_score_)\n",
    "gspipe_results_2200 = pd.DataFrame(gspipe.cv_results_)\n",
    "picked_Pipeline2_2200row = \\\n",
    "        pd.DataFrame.to_pickle(gspipe_results_2200,\\\n",
    "        '/home/jovyan/work/DSI/projects/project_3/data/Pipeline3_lr_1_percent')"
   ]
  },
  {
   "cell_type": "code",
   "execution_count": 18,
   "metadata": {},
   "outputs": [
    {
     "name": "stdout",
     "output_type": "stream",
     "text": [
      "Fit time 5% data:  344.360115528\n",
      "Best Score 5% data: 0.520334261838\n"
     ]
    }
   ],
   "source": [
    "### Bench Marking for 5% (11000 rows)\n",
    "\n",
    "gspipe.fit(feature, np.ravel(target.values))\n",
    "gspipe_results = pd.DataFrame(gspipe.cv_results_)\n",
    "print(\"Fit time 5% data: \", gspipe_results['mean_fit_time'].sum())\n",
    "print(\"Best Score 5% data:\",gspipe.best_score_)\n",
    "gspipe_results_11000 = pd.DataFrame(gspipe.cv_results_)\n",
    "picked_GS_BenchMarkig_11000row = \\\n",
    "        pd.DataFrame.to_pickle(gspipe_results_11000,\\\n",
    "        '/home/jovyan/work/DSI/projects/project_3/data/Pipeline3_lr_5_percent')"
   ]
  },
  {
   "cell_type": "code",
   "execution_count": null,
   "metadata": {
    "collapsed": true
   },
   "outputs": [],
   "source": []
  }
 ],
 "metadata": {
  "kernelspec": {
   "display_name": "Python 3",
   "language": "python",
   "name": "python3"
  },
  "language_info": {
   "codemirror_mode": {
    "name": "ipython",
    "version": 3
   },
   "file_extension": ".py",
   "mimetype": "text/x-python",
   "name": "python",
   "nbconvert_exporter": "python",
   "pygments_lexer": "ipython3",
   "version": "3.5.2"
  }
 },
 "nbformat": 4,
 "nbformat_minor": 2
}
